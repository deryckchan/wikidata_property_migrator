{
 "cells": [
  {
   "cell_type": "markdown",
   "metadata": {},
   "source": [
    "### Property migrator 2\n",
    "Move instances of P1/qual:P2 to P3/qual:P4, preserving all other qualifiers, references, and rank\n",
    "\n",
    "Deryck Chan 2019, CC-BY"
   ]
  },
  {
   "cell_type": "code",
   "execution_count": 42,
   "metadata": {},
   "outputs": [
    {
     "name": "stdout",
     "output_type": "stream",
     "text": [
      "Script completed, thank you!\n"
     ]
    }
   ],
   "source": [
    "# Set up parameters parameters\n",
    "pidm1 = 'P1112' # main property to migrate from\n",
    "pidq1 = 'P642' # qualifier property to migrate from\n",
    "pidm2 = 'P1685' # main property to migrate to\n",
    "pidq2 = 'P972' # qualifier property to migrate to\n",
    "limit = 700 # max number of items to process at a time\n",
    "\n",
    "formatString = '%03d' # for typecasting from \"quantity\" to \"string\"\n",
    "\n",
    "blacklistQID = {'Q27896619', 'Q25933052'} # blacklist, to handle exceptions manually\n",
    "\n",
    "logFileName = 'migrator2log.txt'\n",
    "\n",
    "#Known limitation: The script doesn't respect existing pidm2/pidq1 on item \n",
    "#(and removes them thinking they were imported from pidm1/pidq1)!!!!\n",
    "\n",
    "#start of actual script\n",
    "import pywikibot\n",
    "from pywikibot import pagegenerators as pg\n",
    "\n",
    "import datetime\n",
    "\n",
    "site = pywikibot.Site(\"wikidata\", \"wikidata\")\n",
    "wikidata_site = site #compatibility stuff\n",
    "repo = site.data_repository()    \n",
    "\n",
    "def getLabelFromObject(WDObject):\n",
    "    item_dict = WDObject.get()\n",
    "    item_label = False\n",
    "    if 'labels' in item_dict:\n",
    "        if 'en' in item_dict['labels']:\n",
    "            item_label = item_dict['labels']['en']\n",
    "    label = item_label\n",
    "    if (label):\n",
    "        return label\n",
    "    else:\n",
    "        return WDObject.getID()\n",
    "\n",
    "def getLabelFromWDID(ID): #works for properties only. need separate function for items. why why why\n",
    "    site = pywikibot.Site(\"wikidata\", \"wikidata\")\n",
    "    repo = site.data_repository()\n",
    "    item = pywikibot.PropertyPage(repo, ID)\n",
    "    return getLabelFromObject(item)\n",
    "\n",
    "QUERY = \"\"\"SELECT DISTINCT ?item\n",
    "WHERE\n",
    "{\n",
    "    ?item wdt:\"\"\" + pidm1 + \"\"\" ?wdprop ;\n",
    "             p:\"\"\" + pidm1 + \"\"\" ?statement .\n",
    "    ?statement pq:\"\"\" + pidq1 + \"\"\" ?ofwhat .\n",
    "    OPTIONAL\n",
    "       { ?item wdt:\"\"\" + pidm1 + \"\"\" ?maybeunknown .\n",
    "         FILTER ( isBLANK(?maybeunknown) )\n",
    "       }\n",
    "    # Get rid of items which have an unknown value\n",
    "     FILTER ( ! bound(?maybeunknown) )\n",
    "}\n",
    "\n",
    "ORDER BY ASC(?item)\n",
    "LIMIT \"\"\" + str(limit)\n",
    "\n",
    "edit_summary = 'Deprecate ' + pidm1 + '/' + pidq1 + ', move to ' + pidm2 + '/' + pidq2\n",
    "\n",
    "generator = pg.WikidataSPARQLPageGenerator(QUERY, site=wikidata_site)\n",
    "generator = site.preloadpages(generator, pageprops=True)\n",
    "\n",
    "f = open(logFileName, 'a')\n",
    "print(datetime.datetime.now(), file=f)\n",
    "\n",
    "for item in generator:\n",
    "    # item = pywikibot.ItemPage(repo, qid)\n",
    "\n",
    "    item_dict = item.get()\n",
    "    item_label = getLabelFromObject(item)\n",
    "    qid = item.getID()\n",
    "    \n",
    "    if qid in blacklistQID:\n",
    "        continue\n",
    "    \n",
    "    print('Now working on ', qid, ' ', item_label)\n",
    "    print(qid, file=f)\n",
    "    \n",
    "    if pidm1 in item_dict['claims']:\n",
    "        for claim_object in item_dict['claims'][pidm1]:\n",
    "            if not (claim_object.target):\n",
    "                continue #skip all claims that don't have a processable target\n",
    "            if pidq1 in claim_object.qualifiers: \n",
    "                # By this point, we have asserted that we have the right combination of main property and qualifier\n",
    "                for qualifier_object in claim_object.qualifiers[pidq1]:\n",
    "                    qualifier_target = qualifier_object.getTarget()\n",
    "                    #if (len(allowed_qualifier_targets) > 0 and \n",
    "                    #    qualifier_target.getID() not in allowed_qualifier_targets):\n",
    "                    #    continue\n",
    "\n",
    "                    qualifier_target_label = getLabelFromObject(qualifier_target) if type(qualifier_target) == pywikibot.page.ItemPage else '[none]'\n",
    "\n",
    "                    qualifier_dict = qualifier_object.toJSON()\n",
    "                    qualifier_dict['property'] =  pidq2 #set up the qualifier change\n",
    "                    new_qualifier_object = qualifier_object.qualifierFromJSON(site = wikidata_site, data = qualifier_dict)\n",
    "                    \n",
    "                    print('Adding qualifier: ', pidq2, ' ', qualifier_target_label)\n",
    "                    claim_object.addQualifier(new_qualifier_object, summary=edit_summary)\n",
    "                    # print('Inner loop')\n",
    "\n",
    "\n",
    "                newclaim = pywikibot.Claim(repo, pidm2)\n",
    "\n",
    "                # This line is only needed because the old claim and the new claim have different datatypes\n",
    "                stringTarget = formatString % claim_object.target.amount\n",
    "                newclaim.setTarget(stringTarget) \n",
    "\n",
    "                # Otherwise could've used this line\n",
    "                # stringclaim.target = claim.target \n",
    "\n",
    "                newclaim.qualifiers = claim_object.qualifiers\n",
    "                newclaim.sources = claim_object.sources\n",
    "                newclaim.rank = claim_object.rank\n",
    "                \n",
    "                print('Adding claim: ', pidm2, ': ', stringTarget)\n",
    "                item.addClaim(newclaim, summary=edit_summary)\n",
    "                \n",
    "                print('Removing claim: ', pidm1)\n",
    "                item.removeClaims(claim_object, summary=edit_summary)    \n",
    "                # print('Outer loop')\n",
    "\n",
    "\n",
    "    # Finally, pop all instances of the old qualifier property from the statement\n",
    "    item = pywikibot.ItemPage(repo, qid)\n",
    "    item_dict = item.get()\n",
    "    if pidm2 in item_dict['claims']:\n",
    "        for claim_object in item_dict['claims'][pidm2]:\n",
    "            if pidq1 in claim_object.qualifiers: \n",
    "                # We've found a combination of new main prop + old qualifier prop. So actually pop it\n",
    "                for qualifier_object in claim_object.qualifiers[pidq1]:\n",
    "                    print('Removing qualifier: ', pidq1)\n",
    "                    claim_object.removeQualifier(qualifier_object, summary=edit_summary)\n",
    "                    # print('Alternative loop')\n",
    "\n",
    "# Be nice and close the file properly                    \n",
    "print('Script completed, thank you!')\n",
    "f.close()"
   ]
  },
  {
   "cell_type": "markdown",
   "metadata": {},
   "source": [
    "# Check console"
   ]
  },
  {
   "cell_type": "code",
   "execution_count": 31,
   "metadata": {},
   "outputs": [
    {
     "name": "stdout",
     "output_type": "stream",
     "text": [
      "SELECT DISTINCT ?item\n",
      "WHERE\n",
      "{\n",
      "    ?item wdt:P1112 ?wdprop ;\n",
      "             p:P1112 ?statement .\n",
      "    ?statement pq:P642 ?ofwhat .\n",
      "    FILTER NOT EXISTS\n",
      "        { ?item wdt:P1112 ?blankvalue .\n",
      "          isBLANK(?wdprop) . }\n",
      "}\n",
      "\n",
      "ORDER BY ASC(?item)\n",
      "LIMIT 700\n"
     ]
    }
   ],
   "source": [
    "print(QUERY)"
   ]
  },
  {
   "cell_type": "code",
   "execution_count": 3,
   "metadata": {},
   "outputs": [
    {
     "name": "stdout",
     "output_type": "stream",
     "text": [
      "2019-01-05 16:10:18.004393\n"
     ]
    }
   ],
   "source": [
    "import datetime\n",
    "print(datetime.datetime.now())"
   ]
  },
  {
   "cell_type": "code",
   "execution_count": 40,
   "metadata": {},
   "outputs": [],
   "source": [
    "newclaim.target"
   ]
  }
 ],
 "metadata": {
  "kernelspec": {
   "display_name": "Python 3",
   "language": "python",
   "name": "python3"
  },
  "language_info": {
   "codemirror_mode": {
    "name": "ipython",
    "version": 3
   },
   "file_extension": ".py",
   "mimetype": "text/x-python",
   "name": "python",
   "nbconvert_exporter": "python",
   "pygments_lexer": "ipython3",
   "version": "3.6.9"
  }
 },
 "nbformat": 4,
 "nbformat_minor": 2
}
