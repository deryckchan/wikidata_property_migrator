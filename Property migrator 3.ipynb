{
 "cells": [
  {
   "cell_type": "markdown",
   "metadata": {},
   "source": [
    "### Property migrator 3\n",
    "Move instances of P1 to P3, preserving all qualifiers, references, and rank\n",
    "\n",
    "(P2 is not used as a variable name because it refers to qualifiers in other scripts in this series)\n",
    "\n",
    "Deryck Chan 2019, CC-BY"
   ]
  },
  {
   "cell_type": "code",
   "execution_count": 7,
   "metadata": {},
   "outputs": [
    {
     "name": "stderr",
     "output_type": "stream",
     "text": [
      "Retrieving 50 pages from wikidata:wikidata.\n"
     ]
    },
    {
     "name": "stdout",
     "output_type": "stream",
     "text": [
      "Now working on  Q60594319   A husband\n",
      "Adding claim:  P407 :  Italian\n",
      "Removing claim:  P364\n"
     ]
    },
    {
     "name": "stderr",
     "output_type": "stream",
     "text": [
      "Sleeping for 9.6 seconds, 2019-01-15 18:38:04\n"
     ]
    },
    {
     "name": "stdout",
     "output_type": "stream",
     "text": [
      "Now working on  Q19669670   Hither, Ye Faithful, Haste With Songs of Triumph\n",
      "Adding claim:  P407 :  Latin\n"
     ]
    },
    {
     "name": "stderr",
     "output_type": "stream",
     "text": [
      "Sleeping for 9.3 seconds, 2019-01-15 18:38:15\n"
     ]
    },
    {
     "name": "stdout",
     "output_type": "stream",
     "text": [
      "Removing claim:  P364\n"
     ]
    },
    {
     "name": "stderr",
     "output_type": "stream",
     "text": [
      "Sleeping for 9.5 seconds, 2019-01-15 18:38:24\n"
     ]
    },
    {
     "name": "stdout",
     "output_type": "stream",
     "text": [
      "Now working on  Q11602152   Dainana Joshikai Hōkō\n",
      "Adding claim:  P407 :  Japanese\n"
     ]
    },
    {
     "name": "stderr",
     "output_type": "stream",
     "text": [
      "Sleeping for 9.3 seconds, 2019-01-15 18:38:35\n"
     ]
    },
    {
     "name": "stdout",
     "output_type": "stream",
     "text": [
      "Removing claim:  P364\n"
     ]
    },
    {
     "name": "stderr",
     "output_type": "stream",
     "text": [
      "Sleeping for 9.6 seconds, 2019-01-15 18:38:44\n"
     ]
    },
    {
     "name": "stdout",
     "output_type": "stream",
     "text": [
      "Now working on  Q24883299   In the Solitude of Cotton Fields\n",
      "Adding claim:  P407 :  French\n"
     ]
    },
    {
     "name": "stderr",
     "output_type": "stream",
     "text": [
      "Sleeping for 9.2 seconds, 2019-01-15 18:38:55\n"
     ]
    },
    {
     "name": "stdout",
     "output_type": "stream",
     "text": [
      "Removing claim:  P364\n"
     ]
    },
    {
     "name": "stderr",
     "output_type": "stream",
     "text": [
      "Sleeping for 9.6 seconds, 2019-01-15 18:39:04\n"
     ]
    },
    {
     "name": "stdout",
     "output_type": "stream",
     "text": [
      "Now working on  Q11396865   Rihei-san to Kono Obaa-chan\n",
      "Adding claim:  P407 :  Japanese\n"
     ]
    },
    {
     "name": "stderr",
     "output_type": "stream",
     "text": [
      "Sleeping for 9.2 seconds, 2019-01-15 18:39:15\n"
     ]
    },
    {
     "name": "stdout",
     "output_type": "stream",
     "text": [
      "Removing claim:  P364\n"
     ]
    },
    {
     "name": "stderr",
     "output_type": "stream",
     "text": [
      "Sleeping for 9.6 seconds, 2019-01-15 18:39:24\n"
     ]
    },
    {
     "name": "stdout",
     "output_type": "stream",
     "text": [
      "Now working on  Q60041794   Quiet Days\n",
      "Adding claim:  P407 :  English\n"
     ]
    },
    {
     "name": "stderr",
     "output_type": "stream",
     "text": [
      "Sleeping for 9.3 seconds, 2019-01-15 18:39:35\n"
     ]
    },
    {
     "name": "stdout",
     "output_type": "stream",
     "text": [
      "Removing claim:  P364\n"
     ]
    },
    {
     "name": "stderr",
     "output_type": "stream",
     "text": [
      "Sleeping for 9.5 seconds, 2019-01-15 18:39:44\n"
     ]
    },
    {
     "name": "stdout",
     "output_type": "stream",
     "text": [
      "Now working on  Q59975314   SCP-914\n",
      "Adding claim:  P407 :  English\n"
     ]
    },
    {
     "name": "stderr",
     "output_type": "stream",
     "text": [
      "Sleeping for 9.2 seconds, 2019-01-15 18:39:55\n"
     ]
    },
    {
     "name": "stdout",
     "output_type": "stream",
     "text": [
      "Removing claim:  P364\n"
     ]
    },
    {
     "name": "stderr",
     "output_type": "stream",
     "text": [
      "Sleeping for 9.5 seconds, 2019-01-15 18:40:04\n"
     ]
    },
    {
     "name": "stdout",
     "output_type": "stream",
     "text": [
      "Now working on  Q12877989   Thourios\n",
      "Adding claim:  P407 :  Greek\n"
     ]
    },
    {
     "name": "stderr",
     "output_type": "stream",
     "text": [
      "Sleeping for 9.3 seconds, 2019-01-15 18:40:15\n"
     ]
    },
    {
     "name": "stdout",
     "output_type": "stream",
     "text": [
      "Removing claim:  P364\n"
     ]
    },
    {
     "name": "stderr",
     "output_type": "stream",
     "text": [
      "Sleeping for 9.5 seconds, 2019-01-15 18:40:24\n"
     ]
    },
    {
     "name": "stdout",
     "output_type": "stream",
     "text": [
      "Now working on  Q59858732   SCP-096\n",
      "Adding claim:  P407 :  English\n"
     ]
    },
    {
     "name": "stderr",
     "output_type": "stream",
     "text": [
      "Sleeping for 9.3 seconds, 2019-01-15 18:40:35\n"
     ]
    },
    {
     "name": "stdout",
     "output_type": "stream",
     "text": [
      "Removing claim:  P364\n"
     ]
    },
    {
     "name": "stderr",
     "output_type": "stream",
     "text": [
      "Sleeping for 9.4 seconds, 2019-01-15 18:40:45\n"
     ]
    },
    {
     "name": "stdout",
     "output_type": "stream",
     "text": [
      "Now working on  Q60594308   Q60594308\n",
      "Adding claim:  P407 :  Modern Greek\n"
     ]
    },
    {
     "name": "stderr",
     "output_type": "stream",
     "text": [
      "Sleeping for 9.2 seconds, 2019-01-15 18:40:55\n"
     ]
    },
    {
     "name": "stdout",
     "output_type": "stream",
     "text": [
      "Removing claim:  P364\n"
     ]
    },
    {
     "name": "stderr",
     "output_type": "stream",
     "text": [
      "Sleeping for 9.6 seconds, 2019-01-15 18:41:04\n"
     ]
    },
    {
     "name": "stdout",
     "output_type": "stream",
     "text": [
      "Now working on  Q55780210   Do Not Disturb\n",
      "Adding claim:  P407 :  English\n"
     ]
    },
    {
     "name": "stderr",
     "output_type": "stream",
     "text": [
      "Sleeping for 9.2 seconds, 2019-01-15 18:41:15\n"
     ]
    },
    {
     "name": "stdout",
     "output_type": "stream",
     "text": [
      "Removing claim:  P364\n"
     ]
    },
    {
     "name": "stderr",
     "output_type": "stream",
     "text": [
      "Sleeping for 9.6 seconds, 2019-01-15 18:41:24\n"
     ]
    },
    {
     "name": "stdout",
     "output_type": "stream",
     "text": [
      "Now working on  Q12808538   How I Learned to Drive\n",
      "Adding claim:  P407 :  American English\n"
     ]
    },
    {
     "name": "stderr",
     "output_type": "stream",
     "text": [
      "Sleeping for 9.4 seconds, 2019-01-15 18:41:35\n"
     ]
    },
    {
     "name": "stdout",
     "output_type": "stream",
     "text": [
      "Removing claim:  P364\n"
     ]
    },
    {
     "name": "stderr",
     "output_type": "stream",
     "text": [
      "Sleeping for 9.5 seconds, 2019-01-15 18:41:45\n"
     ]
    },
    {
     "name": "stdout",
     "output_type": "stream",
     "text": [
      "Now working on  Q6896687   Molly Sweeney\n",
      "Adding claim:  P407 :  English\n"
     ]
    },
    {
     "name": "stderr",
     "output_type": "stream",
     "text": [
      "Sleeping for 9.2 seconds, 2019-01-15 18:41:55\n"
     ]
    },
    {
     "name": "stdout",
     "output_type": "stream",
     "text": [
      "Removing claim:  P364\n"
     ]
    },
    {
     "name": "stderr",
     "output_type": "stream",
     "text": [
      "Sleeping for 9.6 seconds, 2019-01-15 18:42:04\n"
     ]
    },
    {
     "name": "stdout",
     "output_type": "stream",
     "text": [
      "Now working on  Q60315756   Missa pro pace\n",
      "Adding claim:  P407 :  Latin\n"
     ]
    },
    {
     "name": "stderr",
     "output_type": "stream",
     "text": [
      "Sleeping for 9.2 seconds, 2019-01-15 18:42:15\n"
     ]
    },
    {
     "name": "stdout",
     "output_type": "stream",
     "text": [
      "Removing claim:  P364\n"
     ]
    },
    {
     "name": "stderr",
     "output_type": "stream",
     "text": [
      "Sleeping for 9.3 seconds, 2019-01-15 18:42:25\n"
     ]
    },
    {
     "name": "stdout",
     "output_type": "stream",
     "text": [
      "Now working on  Q3342427   No Man's Land\n",
      "Adding claim:  P407 :  English\n"
     ]
    },
    {
     "name": "stderr",
     "output_type": "stream",
     "text": [
      "Sleeping for 9.2 seconds, 2019-01-15 18:42:35\n"
     ]
    },
    {
     "name": "stdout",
     "output_type": "stream",
     "text": [
      "Removing claim:  P364\n"
     ]
    },
    {
     "name": "stderr",
     "output_type": "stream",
     "text": [
      "Sleeping for 9.5 seconds, 2019-01-15 18:42:45\n"
     ]
    },
    {
     "name": "stdout",
     "output_type": "stream",
     "text": [
      "Now working on  Q60434208   The Lost Generation: Chronicling India’s Dying Professions\n",
      "Adding claim:  P407 :  English\n"
     ]
    },
    {
     "name": "stderr",
     "output_type": "stream",
     "text": [
      "Sleeping for 9.2 seconds, 2019-01-15 18:42:55\n"
     ]
    },
    {
     "name": "stdout",
     "output_type": "stream",
     "text": [
      "Removing claim:  P364\n"
     ]
    },
    {
     "name": "stderr",
     "output_type": "stream",
     "text": [
      "Sleeping for 9.5 seconds, 2019-01-15 18:43:05\n"
     ]
    },
    {
     "name": "stdout",
     "output_type": "stream",
     "text": [
      "Now working on  Q19756631   Believers Assemble, Come With Songs To Bethlem\n",
      "Adding claim:  P407 :  Latin\n"
     ]
    },
    {
     "name": "stderr",
     "output_type": "stream",
     "text": [
      "Sleeping for 9.3 seconds, 2019-01-15 18:43:15\n"
     ]
    },
    {
     "name": "stdout",
     "output_type": "stream",
     "text": [
      "Removing claim:  P364\n"
     ]
    },
    {
     "name": "stderr",
     "output_type": "stream",
     "text": [
      "Sleeping for 9.3 seconds, 2019-01-15 18:43:25\n"
     ]
    },
    {
     "name": "stdout",
     "output_type": "stream",
     "text": [
      "Now working on  Q19756629   Exulting, Triumphing, Come From Every Nation\n",
      "Adding claim:  P407 :  Latin\n"
     ]
    },
    {
     "name": "stderr",
     "output_type": "stream",
     "text": [
      "Sleeping for 9.2 seconds, 2019-01-15 18:43:35\n"
     ]
    },
    {
     "name": "stdout",
     "output_type": "stream",
     "text": [
      "Removing claim:  P364\n"
     ]
    },
    {
     "name": "stderr",
     "output_type": "stream",
     "text": [
      "Sleeping for 9.4 seconds, 2019-01-15 18:43:45\n"
     ]
    },
    {
     "name": "stdout",
     "output_type": "stream",
     "text": [
      "Now working on  Q59851847   Rádio Jornal do Brasil Fund\n",
      "Adding claim:  P407 :  Brazilian Portuguese\n"
     ]
    },
    {
     "name": "stderr",
     "output_type": "stream",
     "text": [
      "Sleeping for 9.3 seconds, 2019-01-15 18:43:55\n"
     ]
    },
    {
     "name": "stdout",
     "output_type": "stream",
     "text": [
      "Removing claim:  P364\n"
     ]
    },
    {
     "name": "stderr",
     "output_type": "stream",
     "text": [
      "Sleeping for 9.4 seconds, 2019-01-15 18:44:05\n"
     ]
    },
    {
     "name": "stdout",
     "output_type": "stream",
     "text": [
      "Now working on  Q59773069   Q59773069\n",
      "Adding claim:  P407 :  Italian\n"
     ]
    },
    {
     "name": "stderr",
     "output_type": "stream",
     "text": [
      "Sleeping for 9.1 seconds, 2019-01-15 18:44:15\n"
     ]
    },
    {
     "name": "stdout",
     "output_type": "stream",
     "text": [
      "Removing claim:  P364\n"
     ]
    },
    {
     "name": "stderr",
     "output_type": "stream",
     "text": [
      "Sleeping for 9.6 seconds, 2019-01-15 18:44:25\n"
     ]
    },
    {
     "name": "stdout",
     "output_type": "stream",
     "text": [
      "Now working on  Q59461848   Q59461848\n",
      "Adding claim:  P407 :  Bulgarian\n"
     ]
    },
    {
     "name": "stderr",
     "output_type": "stream",
     "text": [
      "Sleeping for 9.3 seconds, 2019-01-15 18:44:35\n"
     ]
    },
    {
     "name": "stdout",
     "output_type": "stream",
     "text": [
      "Removing claim:  P364\n"
     ]
    },
    {
     "name": "stderr",
     "output_type": "stream",
     "text": [
      "Sleeping for 9.5 seconds, 2019-01-15 18:44:45\n"
     ]
    },
    {
     "name": "stdout",
     "output_type": "stream",
     "text": [
      "Now working on  Q59851844   Paulo de Assis Ribeiro Fund\n",
      "Adding claim:  P407 :  Brazilian Portuguese\n"
     ]
    },
    {
     "name": "stderr",
     "output_type": "stream",
     "text": [
      "Sleeping for 9.3 seconds, 2019-01-15 18:44:55\n"
     ]
    },
    {
     "name": "stdout",
     "output_type": "stream",
     "text": [
      "Removing claim:  P364\n"
     ]
    },
    {
     "name": "stderr",
     "output_type": "stream",
     "text": [
      "Sleeping for 9.4 seconds, 2019-01-15 18:45:05\n"
     ]
    },
    {
     "name": "stdout",
     "output_type": "stream",
     "text": [
      "Now working on  Q7766791   The Story of Rimini\n",
      "Adding claim:  P407 :  English\n"
     ]
    },
    {
     "name": "stderr",
     "output_type": "stream",
     "text": [
      "Sleeping for 9.1 seconds, 2019-01-15 18:45:15\n"
     ]
    },
    {
     "name": "stdout",
     "output_type": "stream",
     "text": [
      "Removing claim:  P364\n"
     ]
    },
    {
     "name": "stderr",
     "output_type": "stream",
     "text": [
      "Sleeping for 9.5 seconds, 2019-01-15 18:45:25\n"
     ]
    },
    {
     "name": "stdout",
     "output_type": "stream",
     "text": [
      "Now working on  Q856274   Who's Afraid of Virginia Woolf?\n",
      "Adding claim:  P407 :  American English\n"
     ]
    },
    {
     "name": "stderr",
     "output_type": "stream",
     "text": [
      "Sleeping for 9.2 seconds, 2019-01-15 18:45:35\n"
     ]
    },
    {
     "name": "stdout",
     "output_type": "stream",
     "text": [
      "Removing claim:  P364\n"
     ]
    },
    {
     "name": "stderr",
     "output_type": "stream",
     "text": [
      "Sleeping for 9.2 seconds, 2019-01-15 18:45:45\n"
     ]
    },
    {
     "name": "stdout",
     "output_type": "stream",
     "text": [
      "Now working on  Q59416211   Q59416211\n",
      "Adding claim:  P407 :  Italian\n"
     ]
    },
    {
     "name": "stderr",
     "output_type": "stream",
     "text": [
      "Sleeping for 9.0 seconds, 2019-01-15 18:45:55\n"
     ]
    },
    {
     "name": "stdout",
     "output_type": "stream",
     "text": [
      "Removing claim:  P364\n"
     ]
    },
    {
     "name": "stderr",
     "output_type": "stream",
     "text": [
      "Sleeping for 9.5 seconds, 2019-01-15 18:46:05\n"
     ]
    },
    {
     "name": "stdout",
     "output_type": "stream",
     "text": [
      "Now working on  Q58423445   Mala\n",
      "Adding claim:  P407 :  Italian\n"
     ]
    },
    {
     "name": "stderr",
     "output_type": "stream",
     "text": [
      "Sleeping for 9.3 seconds, 2019-01-15 18:46:15\n"
     ]
    },
    {
     "name": "stdout",
     "output_type": "stream",
     "text": [
      "Removing claim:  P364\n"
     ]
    },
    {
     "name": "stderr",
     "output_type": "stream",
     "text": [
      "Sleeping for 9.5 seconds, 2019-01-15 18:46:25\n"
     ]
    },
    {
     "name": "stdout",
     "output_type": "stream",
     "text": [
      "Now working on  Q1000933   Færeyinga Saga\n",
      "Adding claim:  P407 :  Old Norse\n"
     ]
    },
    {
     "name": "stderr",
     "output_type": "stream",
     "text": [
      "Sleeping for 9.3 seconds, 2019-01-15 18:46:35\n"
     ]
    },
    {
     "name": "stdout",
     "output_type": "stream",
     "text": [
      "Removing claim:  P364\n"
     ]
    },
    {
     "name": "stderr",
     "output_type": "stream",
     "text": [
      "Sleeping for 9.4 seconds, 2019-01-15 18:46:45\n"
     ]
    },
    {
     "name": "stdout",
     "output_type": "stream",
     "text": [
      "Now working on  Q23710185   Q23710185\n",
      "Adding claim:  P407 :  Armenian\n"
     ]
    },
    {
     "name": "stderr",
     "output_type": "stream",
     "text": [
      "Sleeping for 9.3 seconds, 2019-01-15 18:46:55\n"
     ]
    },
    {
     "name": "stdout",
     "output_type": "stream",
     "text": [
      "Removing claim:  P364\n"
     ]
    },
    {
     "name": "stderr",
     "output_type": "stream",
     "text": [
      "Sleeping for 9.3 seconds, 2019-01-15 18:47:05\n"
     ]
    },
    {
     "name": "stdout",
     "output_type": "stream",
     "text": [
      "Now working on  Q60594317   Q60594317\n",
      "Adding claim:  P407 :  German\n"
     ]
    },
    {
     "name": "stderr",
     "output_type": "stream",
     "text": [
      "Sleeping for 9.2 seconds, 2019-01-15 18:47:15\n"
     ]
    },
    {
     "name": "stdout",
     "output_type": "stream",
     "text": [
      "Removing claim:  P364\n"
     ]
    },
    {
     "name": "stderr",
     "output_type": "stream",
     "text": [
      "Sleeping for 9.6 seconds, 2019-01-15 18:47:25\n"
     ]
    },
    {
     "name": "stdout",
     "output_type": "stream",
     "text": [
      "Now working on  Q59307110   The child of atonement\n",
      "Adding claim:  P407 :  German\n"
     ]
    },
    {
     "name": "stderr",
     "output_type": "stream",
     "text": [
      "Sleeping for 9.3 seconds, 2019-01-15 18:47:35\n"
     ]
    },
    {
     "name": "stdout",
     "output_type": "stream",
     "text": [
      "Removing claim:  P364\n"
     ]
    },
    {
     "name": "stderr",
     "output_type": "stream",
     "text": [
      "Sleeping for 9.5 seconds, 2019-01-15 18:47:45\n"
     ]
    },
    {
     "name": "stdout",
     "output_type": "stream",
     "text": [
      "Now working on  Q59404717   Trapped\n",
      "Adding claim:  P407 :  English\n"
     ]
    },
    {
     "name": "stderr",
     "output_type": "stream",
     "text": [
      "Sleeping for 9.3 seconds, 2019-01-15 18:47:55\n"
     ]
    },
    {
     "name": "stdout",
     "output_type": "stream",
     "text": [
      "Removing claim:  P364\n"
     ]
    },
    {
     "name": "stderr",
     "output_type": "stream",
     "text": [
      "Sleeping for 9.5 seconds, 2019-01-15 18:48:05\n"
     ]
    },
    {
     "name": "stdout",
     "output_type": "stream",
     "text": [
      "Now working on  Q60198170   Q60198170\n",
      "Adding claim:  P407 :  French\n"
     ]
    },
    {
     "name": "stderr",
     "output_type": "stream",
     "text": [
      "Sleeping for 9.1 seconds, 2019-01-15 18:48:15\n"
     ]
    },
    {
     "name": "stdout",
     "output_type": "stream",
     "text": [
      "Removing claim:  P364\n"
     ]
    },
    {
     "name": "stderr",
     "output_type": "stream",
     "text": [
      "Sleeping for 9.6 seconds, 2019-01-15 18:48:25\n"
     ]
    },
    {
     "name": "stdout",
     "output_type": "stream",
     "text": [
      "Now working on  Q60332417   I Believe in Science\n",
      "Adding claim:  P407 :  Arabic\n"
     ]
    },
    {
     "name": "stderr",
     "output_type": "stream",
     "text": [
      "Sleeping for 9.2 seconds, 2019-01-15 18:48:35\n"
     ]
    },
    {
     "name": "stdout",
     "output_type": "stream",
     "text": [
      "Removing claim:  P364\n"
     ]
    },
    {
     "name": "stderr",
     "output_type": "stream",
     "text": [
      "Sleeping for 9.5 seconds, 2019-01-15 18:48:45\n"
     ]
    },
    {
     "name": "stdout",
     "output_type": "stream",
     "text": [
      "Now working on  Q60458180   Julenissen kommer i kveld\n",
      "Adding claim:  P407 :  English\n"
     ]
    },
    {
     "name": "stderr",
     "output_type": "stream",
     "text": [
      "Sleeping for 9.2 seconds, 2019-01-15 18:48:55\n"
     ]
    },
    {
     "name": "stdout",
     "output_type": "stream",
     "text": [
      "Removing claim:  P364\n"
     ]
    },
    {
     "name": "stderr",
     "output_type": "stream",
     "text": [
      "Sleeping for 9.5 seconds, 2019-01-15 18:49:05\n"
     ]
    },
    {
     "name": "stdout",
     "output_type": "stream",
     "text": [
      "Now working on  Q60497420   Ornithologia libri tres\n",
      "Adding claim:  P407 :  English\n"
     ]
    },
    {
     "name": "stderr",
     "output_type": "stream",
     "text": [
      "Sleeping for 9.2 seconds, 2019-01-15 18:49:15\n"
     ]
    },
    {
     "name": "stdout",
     "output_type": "stream",
     "text": [
      "Removing claim:  P364\n"
     ]
    },
    {
     "name": "stderr",
     "output_type": "stream",
     "text": [
      "Sleeping for 9.6 seconds, 2019-01-15 18:49:25\n"
     ]
    },
    {
     "name": "stdout",
     "output_type": "stream",
     "text": [
      "Now working on  Q19756624   O Come All Ye Faithful, Raise the Hymn of Glory\n",
      "Adding claim:  P407 :  Latin\n"
     ]
    },
    {
     "name": "stderr",
     "output_type": "stream",
     "text": [
      "Sleeping for 9.3 seconds, 2019-01-15 18:49:35\n"
     ]
    },
    {
     "name": "stdout",
     "output_type": "stream",
     "text": [
      "Removing claim:  P364\n"
     ]
    },
    {
     "name": "stderr",
     "output_type": "stream",
     "text": [
      "Sleeping for 9.5 seconds, 2019-01-15 18:49:45\n"
     ]
    },
    {
     "name": "stdout",
     "output_type": "stream",
     "text": [
      "Now working on  Q19756626   Oh! Come Ye Faithful, And Your Homage Bring\n",
      "Adding claim:  P407 :  Latin\n"
     ]
    },
    {
     "name": "stderr",
     "output_type": "stream",
     "text": [
      "Sleeping for 9.2 seconds, 2019-01-15 18:49:55\n"
     ]
    },
    {
     "name": "stdout",
     "output_type": "stream",
     "text": [
      "Removing claim:  P364\n"
     ]
    },
    {
     "name": "stderr",
     "output_type": "stream",
     "text": [
      "Sleeping for 9.4 seconds, 2019-01-15 18:50:05\n"
     ]
    },
    {
     "name": "stdout",
     "output_type": "stream",
     "text": [
      "Now working on  Q59400192   Photographic Guide to Spiders of New Zealand\n",
      "Adding claim:  P407 :  English\n"
     ]
    },
    {
     "name": "stderr",
     "output_type": "stream",
     "text": [
      "Sleeping for 9.1 seconds, 2019-01-15 18:50:15\n"
     ]
    },
    {
     "name": "stdout",
     "output_type": "stream",
     "text": [
      "Removing claim:  P364\n"
     ]
    },
    {
     "name": "stderr",
     "output_type": "stream",
     "text": [
      "Sleeping for 9.5 seconds, 2019-01-15 18:50:25\n"
     ]
    },
    {
     "name": "stdout",
     "output_type": "stream",
     "text": [
      "Now working on  Q19178995   Swansong\n",
      "Adding claim:  P407 :  Russian\n"
     ]
    },
    {
     "name": "stderr",
     "output_type": "stream",
     "text": [
      "Sleeping for 9.3 seconds, 2019-01-15 18:50:35\n"
     ]
    },
    {
     "name": "stdout",
     "output_type": "stream",
     "text": [
      "Removing claim:  P364\n"
     ]
    },
    {
     "name": "stderr",
     "output_type": "stream",
     "text": [
      "Sleeping for 9.5 seconds, 2019-01-15 18:50:45\n"
     ]
    },
    {
     "name": "stdout",
     "output_type": "stream",
     "text": [
      "Now working on  Q60294068   Teltsjes fan Tellegen\n",
      "Adding claim:  P407 :  Dutch\n"
     ]
    },
    {
     "name": "stderr",
     "output_type": "stream",
     "text": [
      "Sleeping for 9.3 seconds, 2019-01-15 18:50:55\n"
     ]
    },
    {
     "name": "stdout",
     "output_type": "stream",
     "text": [
      "Removing claim:  P364\n"
     ]
    },
    {
     "name": "stderr",
     "output_type": "stream",
     "text": [
      "Sleeping for 9.5 seconds, 2019-01-15 18:51:05\n"
     ]
    },
    {
     "name": "stdout",
     "output_type": "stream",
     "text": [
      "Now working on  Q60585349   Q60585349\n",
      "Adding claim:  P407 :  Swedish\n"
     ]
    },
    {
     "name": "stderr",
     "output_type": "stream",
     "text": [
      "Sleeping for 9.2 seconds, 2019-01-15 18:51:15\n"
     ]
    },
    {
     "name": "stdout",
     "output_type": "stream",
     "text": [
      "Removing claim:  P364\n"
     ]
    },
    {
     "name": "stderr",
     "output_type": "stream",
     "text": [
      "Sleeping for 9.6 seconds, 2019-01-15 18:51:25\n"
     ]
    },
    {
     "name": "stdout",
     "output_type": "stream",
     "text": [
      "Now working on  Q1057617   Gantz\n",
      "Adding claim:  P407 :  Japanese\n"
     ]
    },
    {
     "name": "stderr",
     "output_type": "stream",
     "text": [
      "Sleeping for 9.3 seconds, 2019-01-15 18:51:35\n"
     ]
    },
    {
     "name": "stdout",
     "output_type": "stream",
     "text": [
      "Removing claim:  P364\n"
     ]
    },
    {
     "name": "stderr",
     "output_type": "stream",
     "text": [
      "Sleeping for 9.4 seconds, 2019-01-15 18:51:45\n"
     ]
    },
    {
     "name": "stdout",
     "output_type": "stream",
     "text": [
      "Now working on  Q19756628   Ye Faithful, Triumphant Enter Into Bethlehem\n",
      "Adding claim:  P407 :  Latin\n"
     ]
    },
    {
     "name": "stderr",
     "output_type": "stream",
     "text": [
      "Sleeping for 9.2 seconds, 2019-01-15 18:51:55\n"
     ]
    },
    {
     "name": "stdout",
     "output_type": "stream",
     "text": [
      "Removing claim:  P364\n"
     ]
    },
    {
     "name": "stderr",
     "output_type": "stream",
     "text": [
      "Sleeping for 9.4 seconds, 2019-01-15 18:52:05\n"
     ]
    },
    {
     "name": "stdout",
     "output_type": "stream",
     "text": [
      "Now working on  Q4928740   Blue/Orange\n",
      "Adding claim:  P407 :  English\n"
     ]
    },
    {
     "name": "stderr",
     "output_type": "stream",
     "text": [
      "Sleeping for 9.2 seconds, 2019-01-15 18:52:15\n"
     ]
    },
    {
     "name": "stdout",
     "output_type": "stream",
     "text": [
      "Removing claim:  P364\n"
     ]
    },
    {
     "name": "stderr",
     "output_type": "stream",
     "text": [
      "Sleeping for 9.5 seconds, 2019-01-15 18:52:25\n"
     ]
    },
    {
     "name": "stdout",
     "output_type": "stream",
     "text": [
      "Now working on  Q59396160   A Photographic Guide to Butterflies and Moths of New Zealand\n",
      "Adding claim:  P407 :  English\n"
     ]
    },
    {
     "name": "stderr",
     "output_type": "stream",
     "text": [
      "Sleeping for 9.1 seconds, 2019-01-15 18:52:35\n"
     ]
    },
    {
     "name": "stdout",
     "output_type": "stream",
     "text": [
      "Removing claim:  P364\n"
     ]
    },
    {
     "name": "stderr",
     "output_type": "stream",
     "text": [
      "Sleeping for 9.5 seconds, 2019-01-15 18:52:45\n"
     ]
    },
    {
     "name": "stdout",
     "output_type": "stream",
     "text": [
      "Now working on  Q22773639   Q22773639\n",
      "Adding claim:  P407 :  Putonghua\n"
     ]
    },
    {
     "name": "stderr",
     "output_type": "stream",
     "text": [
      "Sleeping for 9.1 seconds, 2019-01-15 18:52:55\n"
     ]
    },
    {
     "name": "stdout",
     "output_type": "stream",
     "text": [
      "Removing claim:  P364\n"
     ]
    },
    {
     "name": "stderr",
     "output_type": "stream",
     "text": [
      "Sleeping for 9.6 seconds, 2019-01-15 18:53:05\n"
     ]
    },
    {
     "name": "stdout",
     "output_type": "stream",
     "text": [
      "Now working on  Q59977145   black white black white black white black white black white gray\n",
      "Adding claim:  P407 :  English\n"
     ]
    },
    {
     "name": "stderr",
     "output_type": "stream",
     "text": [
      "Sleeping for 9.2 seconds, 2019-01-15 18:53:15\n"
     ]
    },
    {
     "name": "stdout",
     "output_type": "stream",
     "text": [
      "Removing claim:  P364\n"
     ]
    },
    {
     "name": "stderr",
     "output_type": "stream",
     "text": [
      "Sleeping for 9.5 seconds, 2019-01-15 18:53:25\n"
     ]
    },
    {
     "name": "stdout",
     "output_type": "stream",
     "text": [
      "Now working on  Q51077268   Wir wollen alle fröhlich sein\n",
      "Adding claim:  P407 :  German\n"
     ]
    },
    {
     "name": "stderr",
     "output_type": "stream",
     "text": [
      "Sleeping for 9.2 seconds, 2019-01-15 18:53:35\n"
     ]
    },
    {
     "name": "stdout",
     "output_type": "stream",
     "text": [
      "Removing claim:  P364\n"
     ]
    },
    {
     "name": "stderr",
     "output_type": "stream",
     "text": [
      "Sleeping for 9.6 seconds, 2019-01-15 18:53:45\n"
     ]
    },
    {
     "name": "stdout",
     "output_type": "stream",
     "text": [
      "Now working on  Q19756622   Oh Come, All Ye Faithful\n",
      "Adding claim:  P407 :  Latin\n"
     ]
    },
    {
     "name": "stderr",
     "output_type": "stream",
     "text": [
      "Sleeping for 9.3 seconds, 2019-01-15 18:53:55\n"
     ]
    },
    {
     "name": "stdout",
     "output_type": "stream",
     "text": [
      "Removing claim:  P364\n"
     ]
    },
    {
     "name": "stderr",
     "output_type": "stream",
     "text": [
      "Sleeping for 9.5 seconds, 2019-01-15 18:54:05\n"
     ]
    },
    {
     "name": "stdout",
     "output_type": "stream",
     "text": [
      "Now working on  Q1757488   Pedagogy of the Oppressed\n",
      "Adding claim:  P407 :  Portuguese\n"
     ]
    },
    {
     "name": "stderr",
     "output_type": "stream",
     "text": [
      "Sleeping for 9.2 seconds, 2019-01-15 18:54:16\n"
     ]
    },
    {
     "name": "stdout",
     "output_type": "stream",
     "text": [
      "Removing claim:  P364\n"
     ]
    },
    {
     "name": "stderr",
     "output_type": "stream",
     "text": [
      "Sleeping for 9.5 seconds, 2019-01-15 18:54:25\n",
      "Retrieving 50 pages from wikidata:wikidata.\n"
     ]
    },
    {
     "name": "stdout",
     "output_type": "stream",
     "text": [
      "Now working on  Q3443505   A Moon for the Misbegotten\n",
      "Adding claim:  P407 :  American English\n"
     ]
    },
    {
     "name": "stderr",
     "output_type": "stream",
     "text": [
      "Sleeping for 8.7 seconds, 2019-01-15 18:54:36\n"
     ]
    },
    {
     "name": "stdout",
     "output_type": "stream",
     "text": [
      "Removing claim:  P364\n"
     ]
    },
    {
     "name": "stderr",
     "output_type": "stream",
     "text": [
      "Sleeping for 7.9 seconds, 2019-01-15 18:54:47\n"
     ]
    },
    {
     "name": "stdout",
     "output_type": "stream",
     "text": [
      "Now working on  Q59851452   Anamaria Machado Guimarães Fund\n",
      "Adding claim:  P407 :  Brazilian Portuguese\n"
     ]
    },
    {
     "name": "stderr",
     "output_type": "stream",
     "text": [
      "Sleeping for 9.2 seconds, 2019-01-15 18:54:55\n"
     ]
    },
    {
     "name": "stdout",
     "output_type": "stream",
     "text": [
      "Removing claim:  P364\n"
     ]
    },
    {
     "name": "stderr",
     "output_type": "stream",
     "text": [
      "Sleeping for 9.4 seconds, 2019-01-15 18:55:05\n"
     ]
    },
    {
     "name": "stdout",
     "output_type": "stream",
     "text": [
      "Now working on  Q58336643   Q58336643\n",
      "Adding claim:  P407 :  Russian\n"
     ]
    },
    {
     "name": "stderr",
     "output_type": "stream",
     "text": [
      "Sleeping for 9.2 seconds, 2019-01-15 18:55:16\n"
     ]
    },
    {
     "name": "stdout",
     "output_type": "stream",
     "text": [
      "Removing claim:  P364\n"
     ]
    },
    {
     "name": "stderr",
     "output_type": "stream",
     "text": [
      "Sleeping for 9.4 seconds, 2019-01-15 18:55:25\n"
     ]
    },
    {
     "name": "stdout",
     "output_type": "stream",
     "text": [
      "Now working on  Q50681380   Re:Stage!\n",
      "Adding claim:  P407 :  Japanese\n"
     ]
    },
    {
     "name": "stderr",
     "output_type": "stream",
     "text": [
      "Sleeping for 9.1 seconds, 2019-01-15 18:55:36\n"
     ]
    },
    {
     "name": "stdout",
     "output_type": "stream",
     "text": [
      "Removing claim:  P364\n"
     ]
    },
    {
     "name": "stderr",
     "output_type": "stream",
     "text": [
      "Sleeping for 9.4 seconds, 2019-01-15 18:55:45\n"
     ]
    },
    {
     "name": "stdout",
     "output_type": "stream",
     "text": [
      "Now working on  Q20492054   Q20492054\n",
      "Adding claim:  P407 :  Basque\n"
     ]
    },
    {
     "name": "stderr",
     "output_type": "stream",
     "text": [
      "Sleeping for 9.2 seconds, 2019-01-15 18:55:56\n"
     ]
    },
    {
     "name": "stdout",
     "output_type": "stream",
     "text": [
      "Removing claim:  P364\n"
     ]
    },
    {
     "name": "stderr",
     "output_type": "stream",
     "text": [
      "Sleeping for 9.5 seconds, 2019-01-15 18:56:05\n"
     ]
    },
    {
     "name": "stdout",
     "output_type": "stream",
     "text": [
      "Now working on  Q59150518   How to Protect Your House  and Its Contents from Lightning\n",
      "Adding claim:  P407 :  English\n"
     ]
    },
    {
     "name": "stderr",
     "output_type": "stream",
     "text": [
      "Sleeping for 9.2 seconds, 2019-01-15 18:56:16\n"
     ]
    },
    {
     "name": "stdout",
     "output_type": "stream",
     "text": [
      "Removing claim:  P364\n"
     ]
    },
    {
     "name": "stderr",
     "output_type": "stream",
     "text": [
      "Sleeping for 9.6 seconds, 2019-01-15 18:56:25\n"
     ]
    },
    {
     "name": "stdout",
     "output_type": "stream",
     "text": [
      "Now working on  Q514518   La Lega\n",
      "Adding claim:  P407 :  Italian\n"
     ]
    },
    {
     "name": "stderr",
     "output_type": "stream",
     "text": [
      "Sleeping for 9.3 seconds, 2019-01-15 18:56:35\n"
     ]
    },
    {
     "name": "stdout",
     "output_type": "stream",
     "text": [
      "Removing claim:  P364\n"
     ]
    },
    {
     "name": "stderr",
     "output_type": "stream",
     "text": [
      "Sleeping for 9.4 seconds, 2019-01-15 18:56:45\n"
     ]
    },
    {
     "name": "stdout",
     "output_type": "stream",
     "text": [
      "Now working on  Q59387296   Q59387296\n",
      "Adding claim:  P407 :  German\n"
     ]
    },
    {
     "name": "stderr",
     "output_type": "stream",
     "text": [
      "Sleeping for 9.3 seconds, 2019-01-15 18:56:56\n"
     ]
    },
    {
     "name": "stdout",
     "output_type": "stream",
     "text": [
      "Removing claim:  P364\n"
     ]
    },
    {
     "name": "stderr",
     "output_type": "stream",
     "text": [
      "Sleeping for 9.5 seconds, 2019-01-15 18:57:05\n"
     ]
    },
    {
     "name": "stdout",
     "output_type": "stream",
     "text": [
      "Now working on  Q59546112   Q59546112\n",
      "Adding claim:  P407 :  Korean\n"
     ]
    },
    {
     "name": "stderr",
     "output_type": "stream",
     "text": [
      "Sleeping for 9.3 seconds, 2019-01-15 18:57:16\n"
     ]
    },
    {
     "name": "stdout",
     "output_type": "stream",
     "text": [
      "Removing claim:  P364\n"
     ]
    },
    {
     "name": "stderr",
     "output_type": "stream",
     "text": [
      "Sleeping for 9.5 seconds, 2019-01-15 18:57:25\n"
     ]
    },
    {
     "name": "stdout",
     "output_type": "stream",
     "text": [
      "Now working on  Q19669669   Approach, All Ye Faithful, Joyful and Triumphant\n",
      "Adding claim:  P407 :  Latin\n"
     ]
    },
    {
     "name": "stderr",
     "output_type": "stream",
     "text": [
      "Sleeping for 9.2 seconds, 2019-01-15 18:57:36\n"
     ]
    },
    {
     "name": "stdout",
     "output_type": "stream",
     "text": [
      "Removing claim:  P364\n"
     ]
    },
    {
     "name": "stderr",
     "output_type": "stream",
     "text": [
      "Sleeping for 9.5 seconds, 2019-01-15 18:57:45\n"
     ]
    },
    {
     "name": "stdout",
     "output_type": "stream",
     "text": [
      "Now working on  Q615544   The Lion in Winter\n",
      "Adding claim:  P407 :  English\n"
     ]
    },
    {
     "name": "stderr",
     "output_type": "stream",
     "text": [
      "Sleeping for 9.2 seconds, 2019-01-15 18:57:56\n"
     ]
    },
    {
     "name": "stdout",
     "output_type": "stream",
     "text": [
      "Removing claim:  P364\n"
     ]
    },
    {
     "name": "stderr",
     "output_type": "stream",
     "text": [
      "Sleeping for 9.5 seconds, 2019-01-15 18:58:05\n"
     ]
    },
    {
     "name": "stdout",
     "output_type": "stream",
     "text": [
      "Now working on  Q20108752   Q20108752\n",
      "Adding claim:  P407 :  Catalan language\n"
     ]
    },
    {
     "name": "stderr",
     "output_type": "stream",
     "text": [
      "Sleeping for 9.2 seconds, 2019-01-15 18:58:16\n"
     ]
    },
    {
     "name": "stdout",
     "output_type": "stream",
     "text": [
      "Removing claim:  P364\n"
     ]
    },
    {
     "name": "stderr",
     "output_type": "stream",
     "text": [
      "Sleeping for 9.6 seconds, 2019-01-15 18:58:25\n"
     ]
    },
    {
     "name": "stdout",
     "output_type": "stream",
     "text": [
      "Now working on  Q16353587   Tautiešam roku devu\n",
      "Adding claim:  P407 :  Latvian\n"
     ]
    },
    {
     "name": "stderr",
     "output_type": "stream",
     "text": [
      "Sleeping for 9.3 seconds, 2019-01-15 18:58:36\n"
     ]
    },
    {
     "name": "stdout",
     "output_type": "stream",
     "text": [
      "Removing claim:  P364\n"
     ]
    },
    {
     "name": "stderr",
     "output_type": "stream",
     "text": [
      "Sleeping for 9.5 seconds, 2019-01-15 18:58:45\n"
     ]
    },
    {
     "name": "stdout",
     "output_type": "stream",
     "text": [
      "Now working on  Q59676920   Q59676920\n",
      "Adding claim:  P407 :  Russian\n"
     ]
    },
    {
     "name": "stderr",
     "output_type": "stream",
     "text": [
      "Sleeping for 9.2 seconds, 2019-01-15 18:58:56\n"
     ]
    },
    {
     "name": "stdout",
     "output_type": "stream",
     "text": [
      "Removing claim:  P364\n"
     ]
    },
    {
     "name": "stderr",
     "output_type": "stream",
     "text": [
      "Sleeping for 9.3 seconds, 2019-01-15 18:59:06\n"
     ]
    },
    {
     "name": "stdout",
     "output_type": "stream",
     "text": [
      "Now working on  Q17193436   Inu no Juice Ya-san\n",
      "Adding claim:  P407 :  Japanese\n"
     ]
    },
    {
     "name": "stderr",
     "output_type": "stream",
     "text": [
      "Sleeping for 9.1 seconds, 2019-01-15 18:59:16\n"
     ]
    },
    {
     "name": "stdout",
     "output_type": "stream",
     "text": [
      "Removing claim:  P364\n"
     ]
    },
    {
     "name": "stderr",
     "output_type": "stream",
     "text": [
      "Sleeping for 9.5 seconds, 2019-01-15 18:59:25\n"
     ]
    },
    {
     "name": "stdout",
     "output_type": "stream",
     "text": [
      "Now working on  Q60172447   Young Sims Magazine\n",
      "Adding claim:  P407 :  Simlish\n"
     ]
    },
    {
     "name": "stderr",
     "output_type": "stream",
     "text": [
      "Sleeping for 9.2 seconds, 2019-01-15 18:59:36\n"
     ]
    },
    {
     "name": "stdout",
     "output_type": "stream",
     "text": [
      "Removing claim:  P364\n"
     ]
    },
    {
     "name": "stderr",
     "output_type": "stream",
     "text": [
      "Sleeping for 9.6 seconds, 2019-01-15 18:59:45\n"
     ]
    },
    {
     "name": "stdout",
     "output_type": "stream",
     "text": [
      "Now working on  Q473704   Cazzo Film\n",
      "Adding claim:  P407 :  German\n"
     ]
    },
    {
     "name": "stderr",
     "output_type": "stream",
     "text": [
      "Sleeping for 9.2 seconds, 2019-01-15 18:59:56\n"
     ]
    },
    {
     "name": "stdout",
     "output_type": "stream",
     "text": [
      "Removing claim:  P364\n"
     ]
    },
    {
     "name": "stderr",
     "output_type": "stream",
     "text": [
      "Sleeping for 9.5 seconds, 2019-01-15 19:00:05\n"
     ]
    },
    {
     "name": "stdout",
     "output_type": "stream",
     "text": [
      "Adding claim:  P407 :  English\n"
     ]
    },
    {
     "name": "stderr",
     "output_type": "stream",
     "text": [
      "Sleeping for 9.3 seconds, 2019-01-15 19:00:16\n"
     ]
    },
    {
     "name": "stdout",
     "output_type": "stream",
     "text": [
      "Removing claim:  P364\n"
     ]
    },
    {
     "name": "stderr",
     "output_type": "stream",
     "text": [
      "Sleeping for 9.5 seconds, 2019-01-15 19:00:26\n"
     ]
    },
    {
     "name": "stdout",
     "output_type": "stream",
     "text": [
      "Now working on  Q60594313   Q60594313\n",
      "Adding claim:  P407 :  Modern Greek\n"
     ]
    },
    {
     "name": "stderr",
     "output_type": "stream",
     "text": [
      "Sleeping for 9.2 seconds, 2019-01-15 19:00:36\n"
     ]
    },
    {
     "name": "stdout",
     "output_type": "stream",
     "text": [
      "Removing claim:  P364\n"
     ]
    },
    {
     "name": "stderr",
     "output_type": "stream",
     "text": [
      "Sleeping for 9.6 seconds, 2019-01-15 19:00:45\n"
     ]
    },
    {
     "name": "stdout",
     "output_type": "stream",
     "text": [
      "Now working on  Q31308500   Q31308500\n",
      "Adding claim:  P407 :  Armenian\n"
     ]
    },
    {
     "name": "stderr",
     "output_type": "stream",
     "text": [
      "Sleeping for 9.3 seconds, 2019-01-15 19:00:56\n"
     ]
    },
    {
     "name": "stdout",
     "output_type": "stream",
     "text": [
      "Removing claim:  P364\n"
     ]
    },
    {
     "name": "stderr",
     "output_type": "stream",
     "text": [
      "Sleeping for 9.4 seconds, 2019-01-15 19:01:06\n"
     ]
    },
    {
     "name": "stdout",
     "output_type": "stream",
     "text": [
      "Now working on  Q2944224   Cendrillon\n",
      "Adding claim:  P407 :  French\n"
     ]
    },
    {
     "name": "stderr",
     "output_type": "stream",
     "text": [
      "Sleeping for 9.1 seconds, 2019-01-15 19:01:16\n"
     ]
    },
    {
     "name": "stdout",
     "output_type": "stream",
     "text": [
      "Removing claim:  P364\n"
     ]
    },
    {
     "name": "stderr",
     "output_type": "stream",
     "text": [
      "Sleeping for 9.5 seconds, 2019-01-15 19:01:26\n"
     ]
    },
    {
     "name": "stdout",
     "output_type": "stream",
     "text": [
      "Now working on  Q59978414   Ethics Committee Orientation\n",
      "Adding claim:  P407 :  English\n"
     ]
    },
    {
     "name": "stderr",
     "output_type": "stream",
     "text": [
      "Sleeping for 9.2 seconds, 2019-01-15 19:01:36\n"
     ]
    },
    {
     "name": "stdout",
     "output_type": "stream",
     "text": [
      "Removing claim:  P364\n"
     ]
    },
    {
     "name": "stderr",
     "output_type": "stream",
     "text": [
      "Sleeping for 9.4 seconds, 2019-01-15 19:01:46\n"
     ]
    },
    {
     "name": "stdout",
     "output_type": "stream",
     "text": [
      "Now working on  Q56309958   Q56309958\n",
      "Adding claim:  P407 :  Russian\n"
     ]
    },
    {
     "name": "stderr",
     "output_type": "stream",
     "text": [
      "Sleeping for 9.2 seconds, 2019-01-15 19:01:56\n"
     ]
    },
    {
     "name": "stdout",
     "output_type": "stream",
     "text": [
      "Removing claim:  P364\n"
     ]
    },
    {
     "name": "stderr",
     "output_type": "stream",
     "text": [
      "Sleeping for 9.4 seconds, 2019-01-15 19:02:06\n"
     ]
    },
    {
     "name": "stdout",
     "output_type": "stream",
     "text": [
      "Now working on  Q60487992   Ye Faithful, Approach Ye\n",
      "Adding claim:  P407 :  Latin\n"
     ]
    },
    {
     "name": "stderr",
     "output_type": "stream",
     "text": [
      "Sleeping for 9.1 seconds, 2019-01-15 19:02:16\n"
     ]
    },
    {
     "name": "stdout",
     "output_type": "stream",
     "text": [
      "Removing claim:  P364\n"
     ]
    },
    {
     "name": "stderr",
     "output_type": "stream",
     "text": [
      "Sleeping for 9.5 seconds, 2019-01-15 19:02:26\n"
     ]
    },
    {
     "name": "stdout",
     "output_type": "stream",
     "text": [
      "Now working on  Q59851463   Divisão de Segurança e Informações do Ministério da Justiça Fund\n",
      "Adding claim:  P407 :  Brazilian Portuguese\n"
     ]
    },
    {
     "name": "stderr",
     "output_type": "stream",
     "text": [
      "Sleeping for 9.2 seconds, 2019-01-15 19:02:36\n"
     ]
    },
    {
     "name": "stdout",
     "output_type": "stream",
     "text": [
      "Removing claim:  P364\n"
     ]
    },
    {
     "name": "stderr",
     "output_type": "stream",
     "text": [
      "Sleeping for 9.4 seconds, 2019-01-15 19:02:46\n"
     ]
    },
    {
     "name": "stdout",
     "output_type": "stream",
     "text": [
      "Now working on  Q28415769   gokuraku jodo\n",
      "Adding claim:  P407 :  Japanese\n"
     ]
    },
    {
     "name": "stderr",
     "output_type": "stream",
     "text": [
      "Sleeping for 9.2 seconds, 2019-01-15 19:02:56\n"
     ]
    },
    {
     "name": "stdout",
     "output_type": "stream",
     "text": [
      "Removing claim:  P364\n"
     ]
    },
    {
     "name": "stderr",
     "output_type": "stream",
     "text": [
      "Sleeping for 9.6 seconds, 2019-01-15 19:03:06\n"
     ]
    },
    {
     "name": "stdout",
     "output_type": "stream",
     "text": [
      "Now working on  Q59640592   Q59640592\n",
      "Adding claim:  P407 :  Basque\n"
     ]
    },
    {
     "name": "stderr",
     "output_type": "stream",
     "text": [
      "Sleeping for 9.3 seconds, 2019-01-15 19:03:16\n"
     ]
    },
    {
     "name": "stdout",
     "output_type": "stream",
     "text": [
      "Removing claim:  P364\n"
     ]
    },
    {
     "name": "stderr",
     "output_type": "stream",
     "text": [
      "Sleeping for 9.5 seconds, 2019-01-15 19:03:26\n"
     ]
    },
    {
     "name": "stdout",
     "output_type": "stream",
     "text": [
      "Now working on  Q12256923   Q12256923\n",
      "Adding claim:  P407 :  Basque\n"
     ]
    },
    {
     "name": "stderr",
     "output_type": "stream",
     "text": [
      "Sleeping for 9.2 seconds, 2019-01-15 19:03:36\n"
     ]
    },
    {
     "name": "stdout",
     "output_type": "stream",
     "text": [
      "Removing claim:  P364\n"
     ]
    },
    {
     "name": "stderr",
     "output_type": "stream",
     "text": [
      "Sleeping for 9.6 seconds, 2019-01-15 19:03:46\n"
     ]
    },
    {
     "name": "stdout",
     "output_type": "stream",
     "text": [
      "Now working on  Q60172468   Rat Race\n",
      "Adding claim:  P407 :  Simlish\n"
     ]
    },
    {
     "name": "stderr",
     "output_type": "stream",
     "text": [
      "Sleeping for 9.4 seconds, 2019-01-15 19:03:56\n"
     ]
    },
    {
     "name": "stdout",
     "output_type": "stream",
     "text": [
      "Removing claim:  P364\n"
     ]
    },
    {
     "name": "stderr",
     "output_type": "stream",
     "text": [
      "Sleeping for 9.6 seconds, 2019-01-15 19:04:06\n"
     ]
    },
    {
     "name": "stdout",
     "output_type": "stream",
     "text": [
      "Now working on  Q4326446   Q4326446\n",
      "Adding claim:  P407 :  Russian\n"
     ]
    },
    {
     "name": "stderr",
     "output_type": "stream",
     "text": [
      "Sleeping for 9.3 seconds, 2019-01-15 19:04:16\n"
     ]
    },
    {
     "name": "stdout",
     "output_type": "stream",
     "text": [
      "Removing claim:  P364\n"
     ]
    },
    {
     "name": "stderr",
     "output_type": "stream",
     "text": [
      "Sleeping for 9.4 seconds, 2019-01-15 19:04:26\n"
     ]
    },
    {
     "name": "stdout",
     "output_type": "stream",
     "text": [
      "Now working on  Q59259183   Two saviours of the people\n",
      "Adding claim:  P407 :  German\n"
     ]
    },
    {
     "name": "stderr",
     "output_type": "stream",
     "text": [
      "Sleeping for 9.2 seconds, 2019-01-15 19:04:36\n"
     ]
    },
    {
     "name": "stdout",
     "output_type": "stream",
     "text": [
      "Removing claim:  P364\n"
     ]
    },
    {
     "name": "stderr",
     "output_type": "stream",
     "text": [
      "Sleeping for 9.6 seconds, 2019-01-15 19:04:46\n"
     ]
    },
    {
     "name": "stdout",
     "output_type": "stream",
     "text": [
      "Now working on  Q16355641   Q16355641\n",
      "Adding claim:  P407 :  Latvian\n"
     ]
    },
    {
     "name": "stderr",
     "output_type": "stream",
     "text": [
      "Sleeping for 9.3 seconds, 2019-01-15 19:04:56\n"
     ]
    },
    {
     "name": "stdout",
     "output_type": "stream",
     "text": [
      "Removing claim:  P364\n"
     ]
    },
    {
     "name": "stderr",
     "output_type": "stream",
     "text": [
      "Sleeping for 9.5 seconds, 2019-01-15 19:05:06\n"
     ]
    },
    {
     "name": "stdout",
     "output_type": "stream",
     "text": [
      "Adding claim:  P407 :  English\n"
     ]
    },
    {
     "name": "stderr",
     "output_type": "stream",
     "text": [
      "Sleeping for 9.4 seconds, 2019-01-15 19:05:16\n"
     ]
    },
    {
     "name": "stdout",
     "output_type": "stream",
     "text": [
      "Removing claim:  P364\n"
     ]
    },
    {
     "name": "stderr",
     "output_type": "stream",
     "text": [
      "Sleeping for 9.5 seconds, 2019-01-15 19:05:26\n"
     ]
    },
    {
     "name": "stdout",
     "output_type": "stream",
     "text": [
      "Now working on  Q60594314   Q60594314\n",
      "Adding claim:  P407 :  German\n"
     ]
    },
    {
     "name": "stderr",
     "output_type": "stream",
     "text": [
      "Sleeping for 9.2 seconds, 2019-01-15 19:05:36\n"
     ]
    },
    {
     "name": "stdout",
     "output_type": "stream",
     "text": [
      "Removing claim:  P364\n"
     ]
    },
    {
     "name": "stderr",
     "output_type": "stream",
     "text": [
      "Sleeping for 9.6 seconds, 2019-01-15 19:05:46\n"
     ]
    },
    {
     "name": "stdout",
     "output_type": "stream",
     "text": [
      "Now working on  Q2539975   The Birthday Party\n",
      "Adding claim:  P407 :  English\n"
     ]
    },
    {
     "name": "stderr",
     "output_type": "stream",
     "text": [
      "Sleeping for 9.3 seconds, 2019-01-15 19:05:56\n"
     ]
    },
    {
     "name": "stdout",
     "output_type": "stream",
     "text": [
      "Removing claim:  P364\n"
     ]
    },
    {
     "name": "stderr",
     "output_type": "stream",
     "text": [
      "Sleeping for 9.4 seconds, 2019-01-15 19:06:06\n"
     ]
    },
    {
     "name": "stdout",
     "output_type": "stream",
     "text": [
      "Now working on  Q60411985   Chance\n",
      "Adding claim:  P407 :  English\n"
     ]
    },
    {
     "name": "stderr",
     "output_type": "stream",
     "text": [
      "Sleeping for 9.2 seconds, 2019-01-15 19:06:16\n"
     ]
    },
    {
     "name": "stdout",
     "output_type": "stream",
     "text": [
      "Removing claim:  P364\n"
     ]
    },
    {
     "name": "stderr",
     "output_type": "stream",
     "text": [
      "Sleeping for 9.4 seconds, 2019-01-15 19:06:26\n"
     ]
    },
    {
     "name": "stdout",
     "output_type": "stream",
     "text": [
      "Now working on  Q59410164   New Zealand Frogs and Reptiles\n",
      "Adding claim:  P407 :  English\n"
     ]
    },
    {
     "name": "stderr",
     "output_type": "stream",
     "text": [
      "Sleeping for 9.1 seconds, 2019-01-15 19:06:36\n"
     ]
    },
    {
     "name": "stdout",
     "output_type": "stream",
     "text": [
      "Removing claim:  P364\n"
     ]
    },
    {
     "name": "stderr",
     "output_type": "stream",
     "text": [
      "Sleeping for 9.5 seconds, 2019-01-15 19:06:46\n"
     ]
    },
    {
     "name": "stdout",
     "output_type": "stream",
     "text": [
      "Now working on  Q6877019   Miss Margarida's Way\n",
      "Adding claim:  P407 :  Portuguese\n"
     ]
    },
    {
     "name": "stderr",
     "output_type": "stream",
     "text": [
      "Sleeping for 9.2 seconds, 2019-01-15 19:06:56\n"
     ]
    },
    {
     "name": "stdout",
     "output_type": "stream",
     "text": [
      "Removing claim:  P364\n"
     ]
    },
    {
     "name": "stderr",
     "output_type": "stream",
     "text": [
      "Sleeping for 9.6 seconds, 2019-01-15 19:07:06\n"
     ]
    },
    {
     "name": "stdout",
     "output_type": "stream",
     "text": [
      "Now working on  Q60213126   Dictionary of Technical Terms - Arungalaichol Agaramuthali\n",
      "Adding claim:  P407 :  Tamil\n"
     ]
    },
    {
     "name": "stderr",
     "output_type": "stream",
     "text": [
      "Sleeping for 9.4 seconds, 2019-01-15 19:07:16\n"
     ]
    },
    {
     "name": "stdout",
     "output_type": "stream",
     "text": [
      "Removing claim:  P364\n"
     ]
    },
    {
     "name": "stderr",
     "output_type": "stream",
     "text": [
      "Sleeping for 9.6 seconds, 2019-01-15 19:07:26\n"
     ]
    },
    {
     "name": "stdout",
     "output_type": "stream",
     "text": [
      "Now working on  Q60434075   The Film Sense\n",
      "Adding claim:  P407 :  Russian\n"
     ]
    },
    {
     "name": "stderr",
     "output_type": "stream",
     "text": [
      "Sleeping for 9.2 seconds, 2019-01-15 19:07:36\n"
     ]
    },
    {
     "name": "stdout",
     "output_type": "stream",
     "text": [
      "Removing claim:  P364\n"
     ]
    },
    {
     "name": "stderr",
     "output_type": "stream",
     "text": [
      "Sleeping for 9.5 seconds, 2019-01-15 19:07:46\n"
     ]
    },
    {
     "name": "stdout",
     "output_type": "stream",
     "text": [
      "Now working on  Q5431193   Faith Healer\n",
      "Adding claim:  P407 :  English\n"
     ]
    },
    {
     "name": "stderr",
     "output_type": "stream",
     "text": [
      "Sleeping for 9.2 seconds, 2019-01-15 19:07:56\n"
     ]
    },
    {
     "name": "stdout",
     "output_type": "stream",
     "text": [
      "Removing claim:  P364\n"
     ]
    },
    {
     "name": "stderr",
     "output_type": "stream",
     "text": [
      "Sleeping for 9.5 seconds, 2019-01-15 19:08:06\n"
     ]
    },
    {
     "name": "stdout",
     "output_type": "stream",
     "text": [
      "Now working on  Q60531805   The Country Of First Boys\n",
      "Adding claim:  P407 :  English\n"
     ]
    },
    {
     "name": "stderr",
     "output_type": "stream",
     "text": [
      "Sleeping for 9.3 seconds, 2019-01-15 19:08:16\n"
     ]
    },
    {
     "name": "stdout",
     "output_type": "stream",
     "text": [
      "Removing claim:  P364\n"
     ]
    },
    {
     "name": "stderr",
     "output_type": "stream",
     "text": [
      "Sleeping for 9.5 seconds, 2019-01-15 19:08:26\n"
     ]
    },
    {
     "name": "stdout",
     "output_type": "stream",
     "text": [
      "Now working on  Q728841   Gormenghast trilogy\n",
      "Adding claim:  P407 :  English\n"
     ]
    },
    {
     "name": "stderr",
     "output_type": "stream",
     "text": [
      "Sleeping for 9.2 seconds, 2019-01-15 19:08:36\n"
     ]
    },
    {
     "name": "stdout",
     "output_type": "stream",
     "text": [
      "Removing claim:  P364\n"
     ]
    },
    {
     "name": "stderr",
     "output_type": "stream",
     "text": [
      "Sleeping for 9.4 seconds, 2019-01-15 19:08:46\n"
     ]
    },
    {
     "name": "stdout",
     "output_type": "stream",
     "text": [
      "Now working on  Q4657723   A Life in the Theatre\n",
      "Adding claim:  P407 :  American English\n"
     ]
    },
    {
     "name": "stderr",
     "output_type": "stream",
     "text": [
      "Sleeping for 9.2 seconds, 2019-01-15 19:08:56\n"
     ]
    },
    {
     "name": "stdout",
     "output_type": "stream",
     "text": [
      "Removing claim:  P364\n"
     ]
    },
    {
     "name": "stderr",
     "output_type": "stream",
     "text": [
      "Sleeping for 9.5 seconds, 2019-01-15 19:09:06\n"
     ]
    },
    {
     "name": "stdout",
     "output_type": "stream",
     "text": [
      "Now working on  Q10312715   Judy Garland - O Fim do Arco-Íris\n",
      "Adding claim:  P407 :  English\n"
     ]
    },
    {
     "name": "stderr",
     "output_type": "stream",
     "text": [
      "Sleeping for 9.3 seconds, 2019-01-15 19:09:16\n"
     ]
    },
    {
     "name": "stdout",
     "output_type": "stream",
     "text": [
      "Removing claim:  P364\n"
     ]
    },
    {
     "name": "stderr",
     "output_type": "stream",
     "text": [
      "Sleeping for 9.4 seconds, 2019-01-15 19:09:26\n"
     ]
    },
    {
     "name": "stdout",
     "output_type": "stream",
     "text": [
      "Now working on  Q5954247   Q5954247\n",
      "Adding claim:  P407 :  Spanish\n"
     ]
    },
    {
     "name": "stderr",
     "output_type": "stream",
     "text": [
      "Sleeping for 9.3 seconds, 2019-01-15 19:09:36\n"
     ]
    },
    {
     "name": "stdout",
     "output_type": "stream",
     "text": [
      "Removing claim:  P364\n"
     ]
    },
    {
     "name": "stderr",
     "output_type": "stream",
     "text": [
      "Sleeping for 9.5 seconds, 2019-01-15 19:09:46\n"
     ]
    },
    {
     "name": "stdout",
     "output_type": "stream",
     "text": [
      "Now working on  Q60388400   Q60388400\n",
      "Adding claim:  P407 :  Ukrainian\n"
     ]
    },
    {
     "name": "stderr",
     "output_type": "stream",
     "text": [
      "Sleeping for 9.2 seconds, 2019-01-15 19:09:56\n"
     ]
    },
    {
     "name": "stdout",
     "output_type": "stream",
     "text": [
      "Removing claim:  P364\n"
     ]
    },
    {
     "name": "stderr",
     "output_type": "stream",
     "text": [
      "Sleeping for 9.5 seconds, 2019-01-15 19:10:06\n"
     ]
    },
    {
     "name": "stdout",
     "output_type": "stream",
     "text": [
      "Now working on  Q60213247   Q60213247\n",
      "Adding claim:  P407 :  Slovene\n"
     ]
    },
    {
     "name": "stderr",
     "output_type": "stream",
     "text": [
      "Sleeping for 9.2 seconds, 2019-01-15 19:10:16\n"
     ]
    },
    {
     "name": "stdout",
     "output_type": "stream",
     "text": [
      "Removing claim:  P364\n"
     ]
    },
    {
     "name": "stderr",
     "output_type": "stream",
     "text": [
      "Sleeping for 9.5 seconds, 2019-01-15 19:10:26\n"
     ]
    },
    {
     "name": "stdout",
     "output_type": "stream",
     "text": [
      "Adding claim:  P407 :  German\n"
     ]
    },
    {
     "name": "stderr",
     "output_type": "stream",
     "text": [
      "Sleeping for 9.4 seconds, 2019-01-15 19:10:36\n"
     ]
    },
    {
     "name": "stdout",
     "output_type": "stream",
     "text": [
      "Removing claim:  P364\n"
     ]
    },
    {
     "name": "stderr",
     "output_type": "stream",
     "text": [
      "Sleeping for 9.6 seconds, 2019-01-15 19:10:46\n"
     ]
    },
    {
     "name": "stdout",
     "output_type": "stream",
     "text": [
      "Now working on  Q20492626   Q20492626\n",
      "Adding claim:  P407 :  Basque\n"
     ]
    },
    {
     "name": "stderr",
     "output_type": "stream",
     "text": [
      "Sleeping for 9.3 seconds, 2019-01-15 19:10:56\n"
     ]
    },
    {
     "name": "stdout",
     "output_type": "stream",
     "text": [
      "Removing claim:  P364\n"
     ]
    },
    {
     "name": "stderr",
     "output_type": "stream",
     "text": [
      "Sleeping for 9.6 seconds, 2019-01-15 19:11:06\n"
     ]
    },
    {
     "name": "stdout",
     "output_type": "stream",
     "text": [
      "Now working on  Q60149044   Hoary Fog\n",
      "Adding claim:  P407 :  Polish\n"
     ]
    },
    {
     "name": "stderr",
     "output_type": "stream",
     "text": [
      "Sleeping for 9.2 seconds, 2019-01-15 19:11:16\n"
     ]
    },
    {
     "name": "stdout",
     "output_type": "stream",
     "text": [
      "Removing claim:  P364\n"
     ]
    },
    {
     "name": "stderr",
     "output_type": "stream",
     "text": [
      "Sleeping for 9.5 seconds, 2019-01-15 19:11:26\n"
     ]
    },
    {
     "name": "stdout",
     "output_type": "stream",
     "text": [
      "Now working on  Q853344   Manhunt\n",
      "Adding claim:  P407 :  English\n"
     ]
    },
    {
     "name": "stderr",
     "output_type": "stream",
     "text": [
      "Sleeping for 9.2 seconds, 2019-01-15 19:11:36\n"
     ]
    },
    {
     "name": "stdout",
     "output_type": "stream",
     "text": [
      "Removing claim:  P364\n"
     ]
    },
    {
     "name": "stderr",
     "output_type": "stream",
     "text": [
      "Sleeping for 9.1 seconds, 2019-01-15 19:11:47\n"
     ]
    },
    {
     "name": "stdout",
     "output_type": "stream",
     "text": [
      "Now working on  Q1171426   Krapp's Last Tape\n",
      "Adding claim:  P407 :  English\n"
     ]
    },
    {
     "name": "stderr",
     "output_type": "stream",
     "text": [
      "Sleeping for 8.9 seconds, 2019-01-15 19:11:57\n"
     ]
    },
    {
     "name": "stdout",
     "output_type": "stream",
     "text": [
      "Removing claim:  P364\n"
     ]
    },
    {
     "name": "stderr",
     "output_type": "stream",
     "text": [
      "Sleeping for 9.4 seconds, 2019-01-15 19:12:06\n",
      "Retrieving 50 pages from wikidata:wikidata.\n"
     ]
    },
    {
     "name": "stdout",
     "output_type": "stream",
     "text": [
      "Now working on  Q55663572   Q55663572\n",
      "Adding claim:  P407 :  Russian\n"
     ]
    },
    {
     "name": "stderr",
     "output_type": "stream",
     "text": [
      "Sleeping for 8.4 seconds, 2019-01-15 19:12:17\n"
     ]
    },
    {
     "name": "stdout",
     "output_type": "stream",
     "text": [
      "Removing claim:  P364\n"
     ]
    },
    {
     "name": "stderr",
     "output_type": "stream",
     "text": [
      "Sleeping for 9.5 seconds, 2019-01-15 19:12:26\n"
     ]
    },
    {
     "name": "stdout",
     "output_type": "stream",
     "text": [
      "Now working on  Q59677977   Q59677977\n",
      "Adding claim:  P407 :  Russian\n"
     ]
    },
    {
     "name": "stderr",
     "output_type": "stream",
     "text": [
      "Sleeping for 9.2 seconds, 2019-01-15 19:12:36\n"
     ]
    },
    {
     "name": "stdout",
     "output_type": "stream",
     "text": [
      "Removing claim:  P364\n"
     ]
    },
    {
     "name": "stderr",
     "output_type": "stream",
     "text": [
      "Sleeping for 9.4 seconds, 2019-01-15 19:12:46\n"
     ]
    },
    {
     "name": "stdout",
     "output_type": "stream",
     "text": [
      "Now working on  Q59851456   Comissão Geral de Investigações Fund\n",
      "Adding claim:  P407 :  Brazilian Portuguese\n"
     ]
    },
    {
     "name": "stderr",
     "output_type": "stream",
     "text": [
      "Sleeping for 9.1 seconds, 2019-01-15 19:12:57\n"
     ]
    },
    {
     "name": "stdout",
     "output_type": "stream",
     "text": [
      "Removing claim:  P364\n"
     ]
    },
    {
     "name": "stderr",
     "output_type": "stream",
     "text": [
      "Sleeping for 9.5 seconds, 2019-01-15 19:13:06\n"
     ]
    },
    {
     "name": "stdout",
     "output_type": "stream",
     "text": [
      "Now working on  Q704597   Jjokbari\n",
      "Adding claim:  P407 :  Korean\n"
     ]
    },
    {
     "name": "stderr",
     "output_type": "stream",
     "text": [
      "Sleeping for 9.2 seconds, 2019-01-15 19:13:16\n"
     ]
    },
    {
     "name": "stdout",
     "output_type": "stream",
     "text": [
      "Removing claim:  P364\n"
     ]
    },
    {
     "name": "stderr",
     "output_type": "stream",
     "text": [
      "Sleeping for 9.6 seconds, 2019-01-15 19:13:26\n"
     ]
    },
    {
     "name": "stdout",
     "output_type": "stream",
     "text": [
      "Now working on  Q59851454   Brasil Urgente Fund\n",
      "Adding claim:  P407 :  Brazilian Portuguese\n"
     ]
    },
    {
     "name": "stderr",
     "output_type": "stream",
     "text": [
      "Sleeping for 9.3 seconds, 2019-01-15 19:13:36\n"
     ]
    },
    {
     "name": "stdout",
     "output_type": "stream",
     "text": [
      "Removing claim:  P364\n"
     ]
    },
    {
     "name": "stderr",
     "output_type": "stream",
     "text": [
      "Sleeping for 9.5 seconds, 2019-01-15 19:13:46\n"
     ]
    },
    {
     "name": "stdout",
     "output_type": "stream",
     "text": [
      "Now working on  Q59647082   Postal Unlimited\n",
      "Adding claim:  P407 :  Russian\n"
     ]
    },
    {
     "name": "stderr",
     "output_type": "stream",
     "text": [
      "Sleeping for 9.1 seconds, 2019-01-15 19:13:57\n"
     ]
    },
    {
     "name": "stdout",
     "output_type": "stream",
     "text": [
      "Removing claim:  P364\n"
     ]
    },
    {
     "name": "stderr",
     "output_type": "stream",
     "text": [
      "Sleeping for 9.5 seconds, 2019-01-15 19:14:06\n"
     ]
    },
    {
     "name": "stdout",
     "output_type": "stream",
     "text": [
      "Now working on  Q58801767   Q58801767\n",
      "Adding claim:  P407 :  Russian\n"
     ]
    },
    {
     "name": "stderr",
     "output_type": "stream",
     "text": [
      "Sleeping for 9.2 seconds, 2019-01-15 19:14:17\n"
     ]
    },
    {
     "name": "stdout",
     "output_type": "stream",
     "text": [
      "Removing claim:  P364\n"
     ]
    },
    {
     "name": "stderr",
     "output_type": "stream",
     "text": [
      "Sleeping for 9.4 seconds, 2019-01-15 19:14:26\n"
     ]
    },
    {
     "name": "stdout",
     "output_type": "stream",
     "text": [
      "Now working on  Q60594307   Q60594307\n",
      "Adding claim:  P407 :  Modern Greek\n"
     ]
    },
    {
     "name": "stderr",
     "output_type": "stream",
     "text": [
      "Sleeping for 9.2 seconds, 2019-01-15 19:14:37\n"
     ]
    },
    {
     "name": "stdout",
     "output_type": "stream",
     "text": [
      "Removing claim:  P364\n"
     ]
    },
    {
     "name": "stderr",
     "output_type": "stream",
     "text": [
      "Sleeping for 9.6 seconds, 2019-01-15 19:14:46\n"
     ]
    },
    {
     "name": "stdout",
     "output_type": "stream",
     "text": [
      "Now working on  Q3066631   Q3066631\n",
      "Adding claim:  P407 :  French\n"
     ]
    },
    {
     "name": "stderr",
     "output_type": "stream",
     "text": [
      "Sleeping for 9.3 seconds, 2019-01-15 19:14:57\n"
     ]
    },
    {
     "name": "stdout",
     "output_type": "stream",
     "text": [
      "Removing claim:  P364\n"
     ]
    },
    {
     "name": "stderr",
     "output_type": "stream",
     "text": [
      "Sleeping for 8.4 seconds, 2019-01-15 19:15:07\n"
     ]
    },
    {
     "name": "stdout",
     "output_type": "stream",
     "text": [
      "Now working on  Q60594309   Q60594309\n",
      "Adding claim:  P407 :  Modern Greek\n"
     ]
    },
    {
     "name": "stderr",
     "output_type": "stream",
     "text": [
      "Sleeping for 9.2 seconds, 2019-01-15 19:15:17\n"
     ]
    },
    {
     "name": "stdout",
     "output_type": "stream",
     "text": [
      "Removing claim:  P364\n"
     ]
    },
    {
     "name": "stderr",
     "output_type": "stream",
     "text": [
      "Sleeping for 9.6 seconds, 2019-01-15 19:15:26\n"
     ]
    },
    {
     "name": "stdout",
     "output_type": "stream",
     "text": [
      "Now working on  Q58456608   Q58456608\n",
      "Adding claim:  P407 :  Russian\n"
     ]
    },
    {
     "name": "stderr",
     "output_type": "stream",
     "text": [
      "Sleeping for 9.3 seconds, 2019-01-15 19:15:37\n"
     ]
    },
    {
     "name": "stdout",
     "output_type": "stream",
     "text": [
      "Removing claim:  P364\n"
     ]
    },
    {
     "name": "stderr",
     "output_type": "stream",
     "text": [
      "Sleeping for 9.5 seconds, 2019-01-15 19:15:46\n"
     ]
    },
    {
     "name": "stdout",
     "output_type": "stream",
     "text": [
      "Now working on  Q59919666   Q59919666\n",
      "Adding claim:  P407 :  Italian\n"
     ]
    },
    {
     "name": "stderr",
     "output_type": "stream",
     "text": [
      "Sleeping for 9.1 seconds, 2019-01-15 19:15:57\n"
     ]
    },
    {
     "name": "stdout",
     "output_type": "stream",
     "text": [
      "Removing claim:  P364\n"
     ]
    },
    {
     "name": "stderr",
     "output_type": "stream",
     "text": [
      "Sleeping for 9.5 seconds, 2019-01-15 19:16:06\n"
     ]
    },
    {
     "name": "stdout",
     "output_type": "stream",
     "text": [
      "Now working on  Q59394064   Ottův slovník naučný nové doby\n",
      "Adding claim:  P407 :  Czech\n"
     ]
    },
    {
     "name": "stderr",
     "output_type": "stream",
     "text": [
      "Sleeping for 9.3 seconds, 2019-01-15 19:16:17\n"
     ]
    },
    {
     "name": "stdout",
     "output_type": "stream",
     "text": [
      "Removing claim:  P364\n"
     ]
    },
    {
     "name": "stderr",
     "output_type": "stream",
     "text": [
      "Sleeping for 9.5 seconds, 2019-01-15 19:16:26\n"
     ]
    },
    {
     "name": "stdout",
     "output_type": "stream",
     "text": [
      "Now working on  Q59505436   SCP-____-J\n",
      "Adding claim:  P407 :  English\n"
     ]
    },
    {
     "name": "stderr",
     "output_type": "stream",
     "text": [
      "Sleeping for 9.3 seconds, 2019-01-15 19:16:37\n"
     ]
    },
    {
     "name": "stdout",
     "output_type": "stream",
     "text": [
      "Removing claim:  P364\n"
     ]
    },
    {
     "name": "stderr",
     "output_type": "stream",
     "text": [
      "Sleeping for 9.5 seconds, 2019-01-15 19:16:46\n"
     ]
    },
    {
     "name": "stdout",
     "output_type": "stream",
     "text": [
      "Now working on  Q22122894   Iiyone! Yonezawa-sensei\n",
      "Adding claim:  P407 :  Japanese\n"
     ]
    },
    {
     "name": "stderr",
     "output_type": "stream",
     "text": [
      "Sleeping for 9.2 seconds, 2019-01-15 19:16:57\n"
     ]
    },
    {
     "name": "stdout",
     "output_type": "stream",
     "text": [
      "Removing claim:  P364\n"
     ]
    },
    {
     "name": "stderr",
     "output_type": "stream",
     "text": [
      "Sleeping for 9.5 seconds, 2019-01-15 19:17:06\n"
     ]
    },
    {
     "name": "stdout",
     "output_type": "stream",
     "text": [
      "Now working on  Q28501988   Q28501988\n",
      "Adding claim:  P407 :  Spanish\n"
     ]
    },
    {
     "name": "stderr",
     "output_type": "stream",
     "text": [
      "Sleeping for 9.1 seconds, 2019-01-15 19:17:17\n"
     ]
    },
    {
     "name": "stdout",
     "output_type": "stream",
     "text": [
      "Removing claim:  P364\n"
     ]
    },
    {
     "name": "stderr",
     "output_type": "stream",
     "text": [
      "Sleeping for 9.6 seconds, 2019-01-15 19:17:26\n"
     ]
    },
    {
     "name": "stdout",
     "output_type": "stream",
     "text": [
      "Now working on  Q59208708   Q59208708\n",
      "Adding claim:  P407 :  Italian\n"
     ]
    },
    {
     "name": "stderr",
     "output_type": "stream",
     "text": [
      "Sleeping for 9.1 seconds, 2019-01-15 19:17:37\n"
     ]
    },
    {
     "name": "stdout",
     "output_type": "stream",
     "text": [
      "Removing claim:  P364\n"
     ]
    },
    {
     "name": "stderr",
     "output_type": "stream",
     "text": [
      "Sleeping for 9.5 seconds, 2019-01-15 19:17:46\n"
     ]
    },
    {
     "name": "stdout",
     "output_type": "stream",
     "text": [
      "Now working on  Q48466586   transcription of Russian into French\n",
      "Adding claim:  P407 :  Russian\n"
     ]
    },
    {
     "name": "stderr",
     "output_type": "stream",
     "text": [
      "Sleeping for 9.2 seconds, 2019-01-15 19:17:57\n"
     ]
    },
    {
     "name": "stdout",
     "output_type": "stream",
     "text": [
      "Removing claim:  P364\n"
     ]
    },
    {
     "name": "stderr",
     "output_type": "stream",
     "text": [
      "Sleeping for 9.5 seconds, 2019-01-15 19:18:06\n"
     ]
    },
    {
     "name": "stdout",
     "output_type": "stream",
     "text": [
      "Now working on  Q59211021   Q59211021\n",
      "Adding claim:  P407 :  German\n"
     ]
    },
    {
     "name": "stderr",
     "output_type": "stream",
     "text": [
      "Sleeping for 9.2 seconds, 2019-01-15 19:18:17\n"
     ]
    },
    {
     "name": "stdout",
     "output_type": "stream",
     "text": [
      "Removing claim:  P364\n"
     ]
    },
    {
     "name": "stderr",
     "output_type": "stream",
     "text": [
      "Sleeping for 9.5 seconds, 2019-01-15 19:18:26\n"
     ]
    },
    {
     "name": "stdout",
     "output_type": "stream",
     "text": [
      "Now working on  Q59361569   Q59361569\n",
      "Adding claim:  P407 :  Russian\n"
     ]
    },
    {
     "name": "stderr",
     "output_type": "stream",
     "text": [
      "Sleeping for 9.3 seconds, 2019-01-15 19:18:37\n"
     ]
    },
    {
     "name": "stdout",
     "output_type": "stream",
     "text": [
      "Removing claim:  P364\n"
     ]
    },
    {
     "name": "stderr",
     "output_type": "stream",
     "text": [
      "Sleeping for 9.5 seconds, 2019-01-15 19:18:46\n"
     ]
    },
    {
     "name": "stdout",
     "output_type": "stream",
     "text": [
      "Adding claim:  P407 :  Bashkir\n"
     ]
    },
    {
     "name": "stderr",
     "output_type": "stream",
     "text": [
      "Sleeping for 9.4 seconds, 2019-01-15 19:18:57\n"
     ]
    },
    {
     "name": "stdout",
     "output_type": "stream",
     "text": [
      "Removing claim:  P364\n"
     ]
    },
    {
     "name": "stderr",
     "output_type": "stream",
     "text": [
      "Sleeping for 9.5 seconds, 2019-01-15 19:19:06\n"
     ]
    },
    {
     "name": "stdout",
     "output_type": "stream",
     "text": [
      "Now working on  Q11305201   Samurai High School\n",
      "Adding claim:  P407 :  Japanese\n"
     ]
    },
    {
     "name": "stderr",
     "output_type": "stream",
     "text": [
      "Sleeping for 9.3 seconds, 2019-01-15 19:19:17\n"
     ]
    },
    {
     "name": "stdout",
     "output_type": "stream",
     "text": [
      "Removing claim:  P364\n"
     ]
    },
    {
     "name": "stderr",
     "output_type": "stream",
     "text": [
      "Sleeping for 9.5 seconds, 2019-01-15 19:19:26\n"
     ]
    },
    {
     "name": "stdout",
     "output_type": "stream",
     "text": [
      "Now working on  Q60531915   Everybody Loves a Good Drought\n",
      "Adding claim:  P407 :  English\n"
     ]
    },
    {
     "name": "stderr",
     "output_type": "stream",
     "text": [
      "Sleeping for 9.2 seconds, 2019-01-15 19:19:37\n"
     ]
    },
    {
     "name": "stdout",
     "output_type": "stream",
     "text": [
      "Removing claim:  P364\n"
     ]
    },
    {
     "name": "stderr",
     "output_type": "stream",
     "text": [
      "Sleeping for 9.5 seconds, 2019-01-15 19:19:46\n"
     ]
    },
    {
     "name": "stdout",
     "output_type": "stream",
     "text": [
      "Now working on  Q60172452   Beyond Belief\n",
      "Adding claim:  P407 :  Simlish\n"
     ]
    },
    {
     "name": "stderr",
     "output_type": "stream",
     "text": [
      "Sleeping for 9.3 seconds, 2019-01-15 19:19:57\n"
     ]
    },
    {
     "name": "stdout",
     "output_type": "stream",
     "text": [
      "Removing claim:  P364\n"
     ]
    },
    {
     "name": "stderr",
     "output_type": "stream",
     "text": [
      "Sleeping for 9.6 seconds, 2019-01-15 19:20:06\n"
     ]
    },
    {
     "name": "stdout",
     "output_type": "stream",
     "text": [
      "Now working on  Q482482   K-On!\n",
      "Adding claim:  P407 :  Japanese\n"
     ]
    },
    {
     "name": "stderr",
     "output_type": "stream",
     "text": [
      "Sleeping for 9.3 seconds, 2019-01-15 19:20:17\n"
     ]
    },
    {
     "name": "stdout",
     "output_type": "stream",
     "text": [
      "Removing claim:  P364\n"
     ]
    },
    {
     "name": "stderr",
     "output_type": "stream",
     "text": [
      "Sleeping for 9.3 seconds, 2019-01-15 19:20:27\n"
     ]
    },
    {
     "name": "stdout",
     "output_type": "stream",
     "text": [
      "Now working on  Q5179043   Coventry\n",
      "Adding claim:  P407 :  English\n"
     ]
    },
    {
     "name": "stderr",
     "output_type": "stream",
     "text": [
      "Sleeping for 9.1 seconds, 2019-01-15 19:20:37\n"
     ]
    },
    {
     "name": "stdout",
     "output_type": "stream",
     "text": [
      "Removing claim:  P364\n"
     ]
    },
    {
     "name": "stderr",
     "output_type": "stream",
     "text": [
      "Sleeping for 9.5 seconds, 2019-01-15 19:20:47\n"
     ]
    },
    {
     "name": "stdout",
     "output_type": "stream",
     "text": [
      "Now working on  Q56475233   VOiCE OF E\n",
      "Adding claim:  P407 :  English\n"
     ]
    },
    {
     "name": "stderr",
     "output_type": "stream",
     "text": [
      "Sleeping for 9.2 seconds, 2019-01-15 19:20:57\n"
     ]
    },
    {
     "name": "stdout",
     "output_type": "stream",
     "text": [
      "Removing claim:  P364\n"
     ]
    },
    {
     "name": "stderr",
     "output_type": "stream",
     "text": [
      "Sleeping for 9.5 seconds, 2019-01-15 19:21:07\n"
     ]
    },
    {
     "name": "stdout",
     "output_type": "stream",
     "text": [
      "Now working on  Q59851460   Departamento Administrativo do Serviço Público Fund\n",
      "Adding claim:  P407 :  Brazilian Portuguese\n"
     ]
    },
    {
     "name": "stderr",
     "output_type": "stream",
     "text": [
      "Sleeping for 9.2 seconds, 2019-01-15 19:21:17\n"
     ]
    },
    {
     "name": "stdout",
     "output_type": "stream",
     "text": [
      "Removing claim:  P364\n"
     ]
    },
    {
     "name": "stderr",
     "output_type": "stream",
     "text": [
      "Sleeping for 9.5 seconds, 2019-01-15 19:21:27\n"
     ]
    },
    {
     "name": "stdout",
     "output_type": "stream",
     "text": [
      "Now working on  Q60172451   Highbrow Review\n",
      "Adding claim:  P407 :  Simlish\n"
     ]
    },
    {
     "name": "stderr",
     "output_type": "stream",
     "text": [
      "Sleeping for 9.2 seconds, 2019-01-15 19:21:37\n"
     ]
    },
    {
     "name": "stdout",
     "output_type": "stream",
     "text": [
      "Removing claim:  P364\n"
     ]
    },
    {
     "name": "stderr",
     "output_type": "stream",
     "text": [
      "Sleeping for 9.6 seconds, 2019-01-15 19:21:47\n"
     ]
    },
    {
     "name": "stdout",
     "output_type": "stream",
     "text": [
      "Now working on  Q57166842   The Jews of Barnow\n",
      "Adding claim:  P407 :  German\n"
     ]
    },
    {
     "name": "stderr",
     "output_type": "stream",
     "text": [
      "Sleeping for 9.2 seconds, 2019-01-15 19:21:57\n"
     ]
    },
    {
     "name": "stdout",
     "output_type": "stream",
     "text": [
      "Removing claim:  P364\n"
     ]
    },
    {
     "name": "stderr",
     "output_type": "stream",
     "text": [
      "Sleeping for 9.5 seconds, 2019-01-15 19:22:07\n"
     ]
    },
    {
     "name": "stdout",
     "output_type": "stream",
     "text": [
      "Now working on  Q59851850   TV Tupi Fund\n",
      "Adding claim:  P407 :  Brazilian Portuguese\n"
     ]
    },
    {
     "name": "stderr",
     "output_type": "stream",
     "text": [
      "Sleeping for 9.3 seconds, 2019-01-15 19:22:17\n"
     ]
    },
    {
     "name": "stdout",
     "output_type": "stream",
     "text": [
      "Removing claim:  P364\n"
     ]
    },
    {
     "name": "stderr",
     "output_type": "stream",
     "text": [
      "Sleeping for 9.5 seconds, 2019-01-15 19:22:27\n"
     ]
    },
    {
     "name": "stdout",
     "output_type": "stream",
     "text": [
      "Now working on  Q59440550   Collins Field Guide to the New Zealand Seashore\n",
      "Adding claim:  P407 :  English\n"
     ]
    },
    {
     "name": "stderr",
     "output_type": "stream",
     "text": [
      "Sleeping for 9.1 seconds, 2019-01-15 19:22:37\n"
     ]
    },
    {
     "name": "stdout",
     "output_type": "stream",
     "text": [
      "Removing claim:  P364\n"
     ]
    },
    {
     "name": "stderr",
     "output_type": "stream",
     "text": [
      "Sleeping for 9.4 seconds, 2019-01-15 19:22:47\n"
     ]
    },
    {
     "name": "stdout",
     "output_type": "stream",
     "text": [
      "Now working on  Q10577829   Martin Birck's Youth\n",
      "Adding claim:  P407 :  Swedish\n"
     ]
    },
    {
     "name": "stderr",
     "output_type": "stream",
     "text": [
      "Sleeping for 9.2 seconds, 2019-01-15 19:22:57\n"
     ]
    },
    {
     "name": "stdout",
     "output_type": "stream",
     "text": [
      "Removing claim:  P364\n"
     ]
    },
    {
     "name": "stderr",
     "output_type": "stream",
     "text": [
      "Sleeping for 9.5 seconds, 2019-01-15 19:23:07\n"
     ]
    },
    {
     "name": "stdout",
     "output_type": "stream",
     "text": [
      "Now working on  Q59847490   Federação Brasileira pelo Progresso Feminino Fund\n",
      "Adding claim:  P407 :  Brazilian Portuguese\n"
     ]
    },
    {
     "name": "stderr",
     "output_type": "stream",
     "text": [
      "Sleeping for 9.3 seconds, 2019-01-15 19:23:17\n"
     ]
    },
    {
     "name": "stdout",
     "output_type": "stream",
     "text": [
      "Removing claim:  P364\n"
     ]
    },
    {
     "name": "stderr",
     "output_type": "stream",
     "text": [
      "Sleeping for 9.3 seconds, 2019-01-15 19:23:27\n"
     ]
    },
    {
     "name": "stdout",
     "output_type": "stream",
     "text": [
      "Now working on  Q18348793   Hazaar Aankhaa Yee Aankhaamaa\n",
      "Adding claim:  P407 :  Nepali\n"
     ]
    },
    {
     "name": "stderr",
     "output_type": "stream",
     "text": [
      "Sleeping for 9.1 seconds, 2019-01-15 19:23:37\n"
     ]
    },
    {
     "name": "stdout",
     "output_type": "stream",
     "text": [
      "Removing claim:  P364\n"
     ]
    },
    {
     "name": "stderr",
     "output_type": "stream",
     "text": [
      "Sleeping for 9.5 seconds, 2019-01-15 19:23:47\n"
     ]
    },
    {
     "name": "stdout",
     "output_type": "stream",
     "text": [
      "Now working on  Q19669665   O Come All Ye Faithful\n",
      "Adding claim:  P407 :  Latin\n"
     ]
    },
    {
     "name": "stderr",
     "output_type": "stream",
     "text": [
      "Sleeping for 9.2 seconds, 2019-01-15 19:23:57\n"
     ]
    },
    {
     "name": "stdout",
     "output_type": "stream",
     "text": [
      "Removing claim:  P364\n"
     ]
    },
    {
     "name": "stderr",
     "output_type": "stream",
     "text": [
      "Sleeping for 9.5 seconds, 2019-01-15 19:24:07\n"
     ]
    },
    {
     "name": "stdout",
     "output_type": "stream",
     "text": [
      "Now working on  Q618430   Long Day's Journey into Night\n",
      "Adding claim:  P407 :  American English\n"
     ]
    },
    {
     "name": "stderr",
     "output_type": "stream",
     "text": [
      "Sleeping for 9.3 seconds, 2019-01-15 19:24:17\n"
     ]
    },
    {
     "name": "stdout",
     "output_type": "stream",
     "text": [
      "Removing claim:  P364\n"
     ]
    },
    {
     "name": "stderr",
     "output_type": "stream",
     "text": [
      "Sleeping for 9.4 seconds, 2019-01-15 19:24:27\n"
     ]
    },
    {
     "name": "stdout",
     "output_type": "stream",
     "text": [
      "Now working on  Q22126791   Blend S\n",
      "Adding claim:  P407 :  Japanese\n"
     ]
    },
    {
     "name": "stderr",
     "output_type": "stream",
     "text": [
      "Sleeping for 9.1 seconds, 2019-01-15 19:24:37\n"
     ]
    },
    {
     "name": "stdout",
     "output_type": "stream",
     "text": [
      "Removing claim:  P364\n"
     ]
    },
    {
     "name": "stderr",
     "output_type": "stream",
     "text": [
      "Sleeping for 9.5 seconds, 2019-01-15 19:24:47\n"
     ]
    },
    {
     "name": "stdout",
     "output_type": "stream",
     "text": [
      "Now working on  Q6907823   Moonlight\n",
      "Adding claim:  P407 :  English\n"
     ]
    },
    {
     "name": "stderr",
     "output_type": "stream",
     "text": [
      "Sleeping for 9.2 seconds, 2019-01-15 19:24:57\n"
     ]
    },
    {
     "name": "stdout",
     "output_type": "stream",
     "text": [
      "Removing claim:  P364\n"
     ]
    },
    {
     "name": "stderr",
     "output_type": "stream",
     "text": [
      "Sleeping for 9.5 seconds, 2019-01-15 19:25:07\n"
     ]
    },
    {
     "name": "stdout",
     "output_type": "stream",
     "text": [
      "Now working on  Q59851468   Estado-Maior das Forças Armadas Fund\n",
      "Adding claim:  P407 :  Brazilian Portuguese\n"
     ]
    },
    {
     "name": "stderr",
     "output_type": "stream",
     "text": [
      "Sleeping for 9.2 seconds, 2019-01-15 19:25:17\n"
     ]
    },
    {
     "name": "stdout",
     "output_type": "stream",
     "text": [
      "Removing claim:  P364\n"
     ]
    },
    {
     "name": "stderr",
     "output_type": "stream",
     "text": [
      "Sleeping for 9.5 seconds, 2019-01-15 19:25:27\n"
     ]
    },
    {
     "name": "stdout",
     "output_type": "stream",
     "text": [
      "Now working on  Q658557   Miss Julie\n",
      "Adding claim:  P407 :  Swedish\n"
     ]
    },
    {
     "name": "stderr",
     "output_type": "stream",
     "text": [
      "Sleeping for 9.2 seconds, 2019-01-15 19:25:37\n"
     ]
    },
    {
     "name": "stdout",
     "output_type": "stream",
     "text": [
      "Removing claim:  P364\n"
     ]
    },
    {
     "name": "stderr",
     "output_type": "stream",
     "text": [
      "Sleeping for 9.4 seconds, 2019-01-15 19:25:47\n"
     ]
    },
    {
     "name": "stdout",
     "output_type": "stream",
     "text": [
      "Now working on  Q2057527   Angelus\n",
      "Adding claim:  P407 :  Polish\n"
     ]
    },
    {
     "name": "stderr",
     "output_type": "stream",
     "text": [
      "Sleeping for 9.1 seconds, 2019-01-15 19:25:57\n"
     ]
    },
    {
     "name": "stdout",
     "output_type": "stream",
     "text": [
      "Removing claim:  P364\n"
     ]
    },
    {
     "name": "stderr",
     "output_type": "stream",
     "text": [
      "Sleeping for 9.5 seconds, 2019-01-15 19:26:07\n"
     ]
    },
    {
     "name": "stdout",
     "output_type": "stream",
     "text": [
      "Now working on  Q161531   War and Peace\n",
      "Adding claim:  P407 :  Russian\n"
     ]
    },
    {
     "name": "stderr",
     "output_type": "stream",
     "text": [
      "Sleeping for 9.1 seconds, 2019-01-15 19:26:17\n"
     ]
    },
    {
     "name": "stdout",
     "output_type": "stream",
     "text": [
      "Removing claim:  P364\n"
     ]
    },
    {
     "name": "stderr",
     "output_type": "stream",
     "text": [
      "Sleeping for 9.0 seconds, 2019-01-15 19:26:27\n"
     ]
    },
    {
     "name": "stdout",
     "output_type": "stream",
     "text": [
      "Now working on  Q55663429   Q55663429\n",
      "Adding claim:  P407 :  English\n"
     ]
    },
    {
     "name": "stderr",
     "output_type": "stream",
     "text": [
      "Sleeping for 8.7 seconds, 2019-01-15 19:26:38\n"
     ]
    },
    {
     "name": "stdout",
     "output_type": "stream",
     "text": [
      "Removing claim:  P364\n"
     ]
    },
    {
     "name": "stderr",
     "output_type": "stream",
     "text": [
      "Sleeping for 9.4 seconds, 2019-01-15 19:26:47\n"
     ]
    },
    {
     "name": "stdout",
     "output_type": "stream",
     "text": [
      "Now working on  Q59487624   Priesthood and Kingdom (Russia, early 20th centure – 1918). Researches and materials\n",
      "Adding claim:  P407 :  Russian\n"
     ]
    },
    {
     "name": "stderr",
     "output_type": "stream",
     "text": [
      "Sleeping for 9.2 seconds, 2019-01-15 19:26:57\n"
     ]
    },
    {
     "name": "stdout",
     "output_type": "stream",
     "text": [
      "Removing claim:  P364\n"
     ]
    },
    {
     "name": "stderr",
     "output_type": "stream",
     "text": [
      "Sleeping for 9.3 seconds, 2019-01-15 19:27:07\n"
     ]
    },
    {
     "name": "stdout",
     "output_type": "stream",
     "text": [
      "Now working on  Q59238906   Q59238906\n",
      "Adding claim:  P407 :  German\n"
     ]
    },
    {
     "name": "stderr",
     "output_type": "stream",
     "text": [
      "Sleeping for 9.1 seconds, 2019-01-15 19:27:17\n"
     ]
    },
    {
     "name": "stdout",
     "output_type": "stream",
     "text": [
      "Removing claim:  P364\n"
     ]
    },
    {
     "name": "stderr",
     "output_type": "stream",
     "text": [
      "Sleeping for 9.5 seconds, 2019-01-15 19:27:27\n"
     ]
    },
    {
     "name": "stdout",
     "output_type": "stream",
     "text": [
      "Now working on  Q6164521   Vladivideo\n",
      "Adding claim:  P407 :  Spanish\n"
     ]
    },
    {
     "name": "stderr",
     "output_type": "stream",
     "text": [
      "Sleeping for 9.3 seconds, 2019-01-15 19:27:37\n"
     ]
    },
    {
     "name": "stdout",
     "output_type": "stream",
     "text": [
      "Removing claim:  P364\n"
     ]
    },
    {
     "name": "stderr",
     "output_type": "stream",
     "text": [
      "Sleeping for 9.6 seconds, 2019-01-15 19:27:47\n"
     ]
    },
    {
     "name": "stdout",
     "output_type": "stream",
     "text": [
      "Now working on  Q60485316   Q60485316\n",
      "Adding claim:  P407 :  French\n"
     ]
    },
    {
     "name": "stderr",
     "output_type": "stream",
     "text": [
      "Sleeping for 9.3 seconds, 2019-01-15 19:27:57\n"
     ]
    },
    {
     "name": "stdout",
     "output_type": "stream",
     "text": [
      "Removing claim:  P364\n"
     ]
    },
    {
     "name": "stderr",
     "output_type": "stream",
     "text": [
      "Sleeping for 9.6 seconds, 2019-01-15 19:28:07\n"
     ]
    },
    {
     "name": "stdout",
     "output_type": "stream",
     "text": [
      "Now working on  Q60556398   Q60556398\n",
      "Adding claim:  P407 :  Tamil\n"
     ]
    },
    {
     "name": "stderr",
     "output_type": "stream",
     "text": [
      "Sleeping for 9.3 seconds, 2019-01-15 19:28:17\n"
     ]
    },
    {
     "name": "stdout",
     "output_type": "stream",
     "text": [
      "Removing claim:  P364\n"
     ]
    },
    {
     "name": "stderr",
     "output_type": "stream",
     "text": [
      "Sleeping for 9.6 seconds, 2019-01-15 19:28:27\n"
     ]
    },
    {
     "name": "stdout",
     "output_type": "stream",
     "text": [
      "Now working on  Q12991104   Adarsham\n",
      "Adding claim:  P407 :  Telugu\n"
     ]
    },
    {
     "name": "stderr",
     "output_type": "stream",
     "text": [
      "Sleeping for 9.3 seconds, 2019-01-15 19:28:37\n"
     ]
    },
    {
     "name": "stdout",
     "output_type": "stream",
     "text": [
      "Removing claim:  P364\n"
     ]
    },
    {
     "name": "stderr",
     "output_type": "stream",
     "text": [
      "Sleeping for 9.5 seconds, 2019-01-15 19:28:47\n"
     ]
    },
    {
     "name": "stdout",
     "output_type": "stream",
     "text": [
      "Now working on  Q60594311   Q60594311\n",
      "Adding claim:  P407 :  Modern Greek\n"
     ]
    },
    {
     "name": "stderr",
     "output_type": "stream",
     "text": [
      "Sleeping for 9.3 seconds, 2019-01-15 19:28:57\n"
     ]
    },
    {
     "name": "stdout",
     "output_type": "stream",
     "text": [
      "Removing claim:  P364\n"
     ]
    },
    {
     "name": "stderr",
     "output_type": "stream",
     "text": [
      "Sleeping for 9.6 seconds, 2019-01-15 19:29:07\n",
      "Retrieving 50 pages from wikidata:wikidata.\n"
     ]
    },
    {
     "name": "stdout",
     "output_type": "stream",
     "text": [
      "Now working on  Q21524101   Austria in the Eurovision Song Contest 2016\n",
      "Adding claim:  P407 :  German\n"
     ]
    },
    {
     "name": "stderr",
     "output_type": "stream",
     "text": [
      "Sleeping for 8.7 seconds, 2019-01-15 19:29:18\n"
     ]
    },
    {
     "name": "stdout",
     "output_type": "stream",
     "text": [
      "Removing claim:  P364\n"
     ]
    },
    {
     "name": "stderr",
     "output_type": "stream",
     "text": [
      "Sleeping for 9.4 seconds, 2019-01-15 19:29:27\n"
     ]
    },
    {
     "name": "stdout",
     "output_type": "stream",
     "text": [
      "Now working on  Q748253   Safarnama\n",
      "Adding claim:  P407 :  Persian\n"
     ]
    },
    {
     "name": "stderr",
     "output_type": "stream",
     "text": [
      "Sleeping for 9.3 seconds, 2019-01-15 19:29:37\n"
     ]
    },
    {
     "name": "stdout",
     "output_type": "stream",
     "text": [
      "Removing claim:  P364\n"
     ]
    },
    {
     "name": "stderr",
     "output_type": "stream",
     "text": [
      "Sleeping for 9.6 seconds, 2019-01-15 19:29:47\n"
     ]
    },
    {
     "name": "stdout",
     "output_type": "stream",
     "text": [
      "Now working on  Q19669668   Come Hither, Ye Faithful\n",
      "Adding claim:  P407 :  Latin\n"
     ]
    },
    {
     "name": "stderr",
     "output_type": "stream",
     "text": [
      "Sleeping for 9.3 seconds, 2019-01-15 19:29:57\n"
     ]
    },
    {
     "name": "stdout",
     "output_type": "stream",
     "text": [
      "Removing claim:  P364\n"
     ]
    },
    {
     "name": "stderr",
     "output_type": "stream",
     "text": [
      "Sleeping for 9.5 seconds, 2019-01-15 19:30:07\n"
     ]
    },
    {
     "name": "stdout",
     "output_type": "stream",
     "text": [
      "Now working on  Q60432697   Herbert José de Souza Fund\n",
      "Adding claim:  P407 :  Brazilian Portuguese\n"
     ]
    },
    {
     "name": "stderr",
     "output_type": "stream",
     "text": [
      "Sleeping for 9.2 seconds, 2019-01-15 19:30:17\n"
     ]
    },
    {
     "name": "stdout",
     "output_type": "stream",
     "text": [
      "Removing claim:  P364\n"
     ]
    },
    {
     "name": "stderr",
     "output_type": "stream",
     "text": [
      "Sleeping for 9.4 seconds, 2019-01-15 19:30:27\n"
     ]
    },
    {
     "name": "stdout",
     "output_type": "stream",
     "text": [
      "Now working on  Q60594435   Incendiaries\n",
      "Adding claim:  P407 :  Russian\n"
     ]
    },
    {
     "name": "stderr",
     "output_type": "stream",
     "text": [
      "Sleeping for 9.3 seconds, 2019-01-15 19:30:37\n"
     ]
    },
    {
     "name": "stdout",
     "output_type": "stream",
     "text": [
      "Removing claim:  P364\n"
     ]
    },
    {
     "name": "stderr",
     "output_type": "stream",
     "text": [
      "Sleeping for 9.6 seconds, 2019-01-15 19:30:47\n"
     ]
    },
    {
     "name": "stdout",
     "output_type": "stream",
     "text": [
      "Now working on  Q11275916   Harumination\n",
      "Adding claim:  P407 :  Japanese\n"
     ]
    },
    {
     "name": "stderr",
     "output_type": "stream",
     "text": [
      "Sleeping for 9.3 seconds, 2019-01-15 19:30:57\n"
     ]
    },
    {
     "name": "stdout",
     "output_type": "stream",
     "text": [
      "Removing claim:  P364\n"
     ]
    },
    {
     "name": "stderr",
     "output_type": "stream",
     "text": [
      "Sleeping for 9.5 seconds, 2019-01-15 19:31:07\n"
     ]
    },
    {
     "name": "stdout",
     "output_type": "stream",
     "text": [
      "Now working on  Q56247621   The Final Chapter\n",
      "Adding claim:  P407 :  English\n"
     ]
    },
    {
     "name": "stderr",
     "output_type": "stream",
     "text": [
      "Sleeping for 9.2 seconds, 2019-01-15 19:31:17\n"
     ]
    },
    {
     "name": "stdout",
     "output_type": "stream",
     "text": [
      "Removing claim:  P364\n"
     ]
    },
    {
     "name": "stderr",
     "output_type": "stream",
     "text": [
      "Sleeping for 9.3 seconds, 2019-01-15 19:31:27\n"
     ]
    },
    {
     "name": "stdout",
     "output_type": "stream",
     "text": [
      "Now working on  Q217352   Strange Case of Dr Jekyll and Mr Hyde\n",
      "Adding claim:  P407 :  English\n"
     ]
    },
    {
     "name": "stderr",
     "output_type": "stream",
     "text": [
      "Sleeping for 9.2 seconds, 2019-01-15 19:31:37\n"
     ]
    },
    {
     "name": "stdout",
     "output_type": "stream",
     "text": [
      "Removing claim:  P364\n"
     ]
    },
    {
     "name": "stderr",
     "output_type": "stream",
     "text": [
      "Sleeping for 8.6 seconds, 2019-01-15 19:31:48\n"
     ]
    },
    {
     "name": "stdout",
     "output_type": "stream",
     "text": [
      "Now working on  Q4659345   A Saucer of Loneliness\n",
      "Adding claim:  P407 :  English\n"
     ]
    },
    {
     "name": "stderr",
     "output_type": "stream",
     "text": [
      "Sleeping for 8.8 seconds, 2019-01-15 19:31:58\n"
     ]
    },
    {
     "name": "stdout",
     "output_type": "stream",
     "text": [
      "Removing claim:  P364\n"
     ]
    },
    {
     "name": "stderr",
     "output_type": "stream",
     "text": [
      "Sleeping for 9.5 seconds, 2019-01-15 19:32:07\n"
     ]
    },
    {
     "name": "stdout",
     "output_type": "stream",
     "text": [
      "Now working on  Q12259621   Inguma\n",
      "Adding claim:  P407 :  Basque\n"
     ]
    },
    {
     "name": "stderr",
     "output_type": "stream",
     "text": [
      "Sleeping for 9.3 seconds, 2019-01-15 19:32:17\n"
     ]
    },
    {
     "name": "stdout",
     "output_type": "stream",
     "text": [
      "Removing claim:  P364\n"
     ]
    },
    {
     "name": "stderr",
     "output_type": "stream",
     "text": [
      "Sleeping for 9.5 seconds, 2019-01-15 19:32:27\n"
     ]
    },
    {
     "name": "stdout",
     "output_type": "stream",
     "text": [
      "Now working on  Q59750317   Q59750317\n",
      "Adding claim:  P407 :  Russian\n"
     ]
    },
    {
     "name": "stderr",
     "output_type": "stream",
     "text": [
      "Sleeping for 9.2 seconds, 2019-01-15 19:32:37\n"
     ]
    },
    {
     "name": "stdout",
     "output_type": "stream",
     "text": [
      "Removing claim:  P364\n"
     ]
    },
    {
     "name": "stderr",
     "output_type": "stream",
     "text": [
      "Sleeping for 9.6 seconds, 2019-01-15 19:32:47\n"
     ]
    },
    {
     "name": "stdout",
     "output_type": "stream",
     "text": [
      "Now working on  Q11561726   The Locker\n",
      "Adding claim:  P407 :  Japanese\n"
     ]
    },
    {
     "name": "stderr",
     "output_type": "stream",
     "text": [
      "Sleeping for 9.2 seconds, 2019-01-15 19:32:57\n"
     ]
    },
    {
     "name": "stdout",
     "output_type": "stream",
     "text": [
      "Removing claim:  P364\n"
     ]
    },
    {
     "name": "stderr",
     "output_type": "stream",
     "text": [
      "Sleeping for 9.5 seconds, 2019-01-15 19:33:07\n"
     ]
    },
    {
     "name": "stdout",
     "output_type": "stream",
     "text": [
      "Now working on  Q56473797   Hidden\n",
      "Adding claim:  P407 :  English\n"
     ]
    },
    {
     "name": "stderr",
     "output_type": "stream",
     "text": [
      "Sleeping for 9.2 seconds, 2019-01-15 19:33:18\n"
     ]
    },
    {
     "name": "stdout",
     "output_type": "stream",
     "text": [
      "Removing claim:  P364\n"
     ]
    },
    {
     "name": "stderr",
     "output_type": "stream",
     "text": [
      "Sleeping for 9.5 seconds, 2019-01-15 19:33:27\n"
     ]
    },
    {
     "name": "stdout",
     "output_type": "stream",
     "text": [
      "Now working on  Q60477096   Q60477096\n",
      "Adding claim:  P407 :  French\n"
     ]
    },
    {
     "name": "stderr",
     "output_type": "stream",
     "text": [
      "Sleeping for 9.2 seconds, 2019-01-15 19:33:38\n"
     ]
    },
    {
     "name": "stdout",
     "output_type": "stream",
     "text": [
      "Removing claim:  P364\n"
     ]
    },
    {
     "name": "stderr",
     "output_type": "stream",
     "text": [
      "Sleeping for 9.5 seconds, 2019-01-15 19:33:47\n"
     ]
    },
    {
     "name": "stdout",
     "output_type": "stream",
     "text": [
      "Now working on  Q56492509   HiDDEN\n",
      "Adding claim:  P407 :  English\n"
     ]
    },
    {
     "name": "stderr",
     "output_type": "stream",
     "text": [
      "Sleeping for 9.3 seconds, 2019-01-15 19:33:57\n"
     ]
    },
    {
     "name": "stdout",
     "output_type": "stream",
     "text": [
      "Removing claim:  P364\n"
     ]
    },
    {
     "name": "stderr",
     "output_type": "stream",
     "text": [
      "Sleeping for 9.4 seconds, 2019-01-15 19:34:07\n"
     ]
    },
    {
     "name": "stdout",
     "output_type": "stream",
     "text": [
      "Now working on  Q1434818   Ghosts\n",
      "Adding claim:  P407 :  Norwegian\n"
     ]
    },
    {
     "name": "stderr",
     "output_type": "stream",
     "text": [
      "Sleeping for 9.3 seconds, 2019-01-15 19:34:17\n"
     ]
    },
    {
     "name": "stdout",
     "output_type": "stream",
     "text": [
      "Removing claim:  P364\n"
     ]
    },
    {
     "name": "stderr",
     "output_type": "stream",
     "text": [
      "Sleeping for 9.4 seconds, 2019-01-15 19:34:27\n"
     ]
    },
    {
     "name": "stdout",
     "output_type": "stream",
     "text": [
      "Now working on  Q19893414   Italienisches Liederbuch\n",
      "Adding claim:  P407 :  Italian\n"
     ]
    },
    {
     "name": "stderr",
     "output_type": "stream",
     "text": [
      "Sleeping for 9.2 seconds, 2019-01-15 19:34:38\n"
     ]
    },
    {
     "name": "stdout",
     "output_type": "stream",
     "text": [
      "Removing claim:  P364\n"
     ]
    },
    {
     "name": "stderr",
     "output_type": "stream",
     "text": [
      "Sleeping for 9.6 seconds, 2019-01-15 19:34:47\n"
     ]
    },
    {
     "name": "stdout",
     "output_type": "stream",
     "text": [
      "Now working on  Q47197792   OMKV\n",
      "Adding claim:  P407 :  Malayalam\n"
     ]
    },
    {
     "name": "stderr",
     "output_type": "stream",
     "text": [
      "Sleeping for 9.3 seconds, 2019-01-15 19:34:58\n"
     ]
    },
    {
     "name": "stdout",
     "output_type": "stream",
     "text": [
      "Removing claim:  P364\n"
     ]
    },
    {
     "name": "stderr",
     "output_type": "stream",
     "text": [
      "Sleeping for 9.5 seconds, 2019-01-15 19:35:07\n"
     ]
    },
    {
     "name": "stdout",
     "output_type": "stream",
     "text": [
      "Now working on  Q4062527   Q4062527\n",
      "Adding claim:  P407 :  Russian\n"
     ]
    },
    {
     "name": "stderr",
     "output_type": "stream",
     "text": [
      "Sleeping for 9.3 seconds, 2019-01-15 19:35:18\n"
     ]
    },
    {
     "name": "stdout",
     "output_type": "stream",
     "text": [
      "Removing claim:  P364\n"
     ]
    },
    {
     "name": "stderr",
     "output_type": "stream",
     "text": [
      "Sleeping for 9.4 seconds, 2019-01-15 19:35:27\n"
     ]
    },
    {
     "name": "stdout",
     "output_type": "stream",
     "text": [
      "Adding claim:  P407 :  English\n"
     ]
    },
    {
     "name": "stderr",
     "output_type": "stream",
     "text": [
      "Sleeping for 9.3 seconds, 2019-01-15 19:35:38\n"
     ]
    },
    {
     "name": "stdout",
     "output_type": "stream",
     "text": [
      "Removing claim:  P364\n"
     ]
    },
    {
     "name": "stderr",
     "output_type": "stream",
     "text": [
      "Sleeping for 9.4 seconds, 2019-01-15 19:35:47\n"
     ]
    },
    {
     "name": "stdout",
     "output_type": "stream",
     "text": [
      "Now working on  Q16653197   Q16653197\n",
      "Adding claim:  P407 :  Armenian\n"
     ]
    },
    {
     "name": "stderr",
     "output_type": "stream",
     "text": [
      "Sleeping for 9.1 seconds, 2019-01-15 19:35:58\n"
     ]
    },
    {
     "name": "stdout",
     "output_type": "stream",
     "text": [
      "Removing claim:  P364\n"
     ]
    },
    {
     "name": "stderr",
     "output_type": "stream",
     "text": [
      "Sleeping for 9.4 seconds, 2019-01-15 19:36:07\n"
     ]
    },
    {
     "name": "stdout",
     "output_type": "stream",
     "text": [
      "Now working on  Q59851476   Ministério da Justiça - Gabinete do Ministro no Rio de Janeiro Fund\n",
      "Adding claim:  P407 :  Brazilian Portuguese\n"
     ]
    },
    {
     "name": "stderr",
     "output_type": "stream",
     "text": [
      "Sleeping for 9.1 seconds, 2019-01-15 19:36:18\n"
     ]
    },
    {
     "name": "stdout",
     "output_type": "stream",
     "text": [
      "Removing claim:  P364\n"
     ]
    },
    {
     "name": "stderr",
     "output_type": "stream",
     "text": [
      "Sleeping for 9.5 seconds, 2019-01-15 19:36:27\n"
     ]
    },
    {
     "name": "stdout",
     "output_type": "stream",
     "text": [
      "Now working on  Q42908116   Q42908116\n",
      "Adding claim:  P407 :  Spanish\n"
     ]
    },
    {
     "name": "stderr",
     "output_type": "stream",
     "text": [
      "Sleeping for 9.2 seconds, 2019-01-15 19:36:38\n"
     ]
    },
    {
     "name": "stdout",
     "output_type": "stream",
     "text": [
      "Removing claim:  P364\n"
     ]
    },
    {
     "name": "stderr",
     "output_type": "stream",
     "text": [
      "Sleeping for 9.5 seconds, 2019-01-15 19:36:47\n"
     ]
    },
    {
     "name": "stdout",
     "output_type": "stream",
     "text": [
      "Now working on  Q11566884   Kasei Robo Daikessen!\n",
      "Adding claim:  P407 :  Japanese\n"
     ]
    },
    {
     "name": "stderr",
     "output_type": "stream",
     "text": [
      "Sleeping for 9.2 seconds, 2019-01-15 19:36:58\n"
     ]
    },
    {
     "name": "stdout",
     "output_type": "stream",
     "text": [
      "Removing claim:  P364\n"
     ]
    },
    {
     "name": "stderr",
     "output_type": "stream",
     "text": [
      "Sleeping for 9.6 seconds, 2019-01-15 19:37:07\n"
     ]
    },
    {
     "name": "stdout",
     "output_type": "stream",
     "text": [
      "Now working on  Q55284249   Penguin Highway\n",
      "Adding claim:  P407 :  Japanese\n"
     ]
    },
    {
     "name": "stderr",
     "output_type": "stream",
     "text": [
      "Sleeping for 9.3 seconds, 2019-01-15 19:37:18\n"
     ]
    },
    {
     "name": "stdout",
     "output_type": "stream",
     "text": [
      "Removing claim:  P364\n"
     ]
    },
    {
     "name": "stderr",
     "output_type": "stream",
     "text": [
      "Sleeping for 9.4 seconds, 2019-01-15 19:37:28\n"
     ]
    },
    {
     "name": "stdout",
     "output_type": "stream",
     "text": [
      "Now working on  Q45736665   Los de Aragón\n",
      "Adding claim:  P407 :  Spanish\n"
     ]
    },
    {
     "name": "stderr",
     "output_type": "stream",
     "text": [
      "Sleeping for 9.2 seconds, 2019-01-15 19:37:38\n"
     ]
    },
    {
     "name": "stdout",
     "output_type": "stream",
     "text": [
      "Removing claim:  P364\n"
     ]
    },
    {
     "name": "stderr",
     "output_type": "stream",
     "text": [
      "Sleeping for 9.5 seconds, 2019-01-15 19:37:47\n"
     ]
    },
    {
     "name": "stdout",
     "output_type": "stream",
     "text": [
      "Now working on  Q14759053   Ziva David captivity storyline\n",
      "Adding claim:  P407 :  English\n"
     ]
    },
    {
     "name": "stderr",
     "output_type": "stream",
     "text": [
      "Sleeping for 9.3 seconds, 2019-01-15 19:37:58\n"
     ]
    },
    {
     "name": "stdout",
     "output_type": "stream",
     "text": [
      "Removing claim:  P364\n"
     ]
    },
    {
     "name": "stderr",
     "output_type": "stream",
     "text": [
      "Sleeping for 9.5 seconds, 2019-01-15 19:38:07\n"
     ]
    },
    {
     "name": "stdout",
     "output_type": "stream",
     "text": [
      "Now working on  Q59816158   Q59816158\n",
      "Adding claim:  P407 :  Brazilian Portuguese\n"
     ]
    },
    {
     "name": "stderr",
     "output_type": "stream",
     "text": [
      "Sleeping for 9.3 seconds, 2019-01-15 19:38:18\n"
     ]
    },
    {
     "name": "stdout",
     "output_type": "stream",
     "text": [
      "Removing claim:  P364\n"
     ]
    },
    {
     "name": "stderr",
     "output_type": "stream",
     "text": [
      "Sleeping for 9.4 seconds, 2019-01-15 19:38:28\n"
     ]
    },
    {
     "name": "stdout",
     "output_type": "stream",
     "text": [
      "Now working on  Q60459668   A Private Cosmos\n",
      "Adding claim:  P407 :  American English\n"
     ]
    },
    {
     "name": "stderr",
     "output_type": "stream",
     "text": [
      "Sleeping for 9.2 seconds, 2019-01-15 19:38:38\n"
     ]
    },
    {
     "name": "stdout",
     "output_type": "stream",
     "text": [
      "Removing claim:  P364\n"
     ]
    },
    {
     "name": "stderr",
     "output_type": "stream",
     "text": [
      "Sleeping for 9.6 seconds, 2019-01-15 19:38:47\n"
     ]
    },
    {
     "name": "stdout",
     "output_type": "stream",
     "text": [
      "Now working on  Q60511134   Joshikōsei to Ōji-chan\n",
      "Adding claim:  P407 :  Japanese\n"
     ]
    },
    {
     "name": "stderr",
     "output_type": "stream",
     "text": [
      "Sleeping for 9.3 seconds, 2019-01-15 19:38:58\n"
     ]
    },
    {
     "name": "stdout",
     "output_type": "stream",
     "text": [
      "Removing claim:  P364\n"
     ]
    },
    {
     "name": "stderr",
     "output_type": "stream",
     "text": [
      "Sleeping for 9.4 seconds, 2019-01-15 19:39:08\n"
     ]
    },
    {
     "name": "stdout",
     "output_type": "stream",
     "text": [
      "Now working on  Q17028997   The Storyteller\n",
      "Adding claim:  P407 :  English\n"
     ]
    },
    {
     "name": "stderr",
     "output_type": "stream",
     "text": [
      "Sleeping for 9.1 seconds, 2019-01-15 19:39:18\n"
     ]
    },
    {
     "name": "stdout",
     "output_type": "stream",
     "text": [
      "Removing claim:  P364\n"
     ]
    },
    {
     "name": "stderr",
     "output_type": "stream",
     "text": [
      "Sleeping for 9.5 seconds, 2019-01-15 19:39:28\n"
     ]
    },
    {
     "name": "stdout",
     "output_type": "stream",
     "text": [
      "Now working on  Q59920205   Q59920205\n",
      "Adding claim:  P407 :  Italian\n"
     ]
    },
    {
     "name": "stderr",
     "output_type": "stream",
     "text": [
      "Sleeping for 9.3 seconds, 2019-01-15 19:39:38\n"
     ]
    },
    {
     "name": "stdout",
     "output_type": "stream",
     "text": [
      "Removing claim:  P364\n"
     ]
    },
    {
     "name": "stderr",
     "output_type": "stream",
     "text": [
      "Sleeping for 9.4 seconds, 2019-01-15 19:39:48\n"
     ]
    },
    {
     "name": "stdout",
     "output_type": "stream",
     "text": [
      "Now working on  Q59734073   Correio da Manhã Fund\n",
      "Adding claim:  P407 :  Brazilian Portuguese\n"
     ]
    },
    {
     "name": "stderr",
     "output_type": "stream",
     "text": [
      "Sleeping for 9.3 seconds, 2019-01-15 19:39:58\n"
     ]
    },
    {
     "name": "stdout",
     "output_type": "stream",
     "text": [
      "Removing claim:  P364\n"
     ]
    },
    {
     "name": "stderr",
     "output_type": "stream",
     "text": [
      "Sleeping for 9.0 seconds, 2019-01-15 19:40:08\n"
     ]
    },
    {
     "name": "stdout",
     "output_type": "stream",
     "text": [
      "Now working on  Q50130747   Bom Diggy\n",
      "Adding claim:  P407 :  Punjabi\n"
     ]
    },
    {
     "name": "stderr",
     "output_type": "stream",
     "text": [
      "Sleeping for 9.0 seconds, 2019-01-15 19:40:18\n"
     ]
    },
    {
     "name": "stdout",
     "output_type": "stream",
     "text": [
      "Removing claim:  P364\n"
     ]
    },
    {
     "name": "stderr",
     "output_type": "stream",
     "text": [
      "Sleeping for 9.4 seconds, 2019-01-15 19:40:28\n"
     ]
    },
    {
     "name": "stdout",
     "output_type": "stream",
     "text": [
      "Adding claim:  P407 :  Hindi\n"
     ]
    },
    {
     "name": "stderr",
     "output_type": "stream",
     "text": [
      "Sleeping for 9.4 seconds, 2019-01-15 19:40:38\n"
     ]
    },
    {
     "name": "stdout",
     "output_type": "stream",
     "text": [
      "Removing claim:  P364\n"
     ]
    },
    {
     "name": "stderr",
     "output_type": "stream",
     "text": [
      "Sleeping for 9.6 seconds, 2019-01-15 19:40:48\n"
     ]
    },
    {
     "name": "stdout",
     "output_type": "stream",
     "text": [
      "Now working on  Q3206302   La 2 noticias\n",
      "Adding claim:  P407 :  Spanish\n"
     ]
    },
    {
     "name": "stderr",
     "output_type": "stream",
     "text": [
      "Sleeping for 9.2 seconds, 2019-01-15 19:40:58\n"
     ]
    },
    {
     "name": "stdout",
     "output_type": "stream",
     "text": [
      "Removing claim:  P364\n"
     ]
    },
    {
     "name": "stderr",
     "output_type": "stream",
     "text": [
      "Sleeping for 9.4 seconds, 2019-01-15 19:41:08\n"
     ]
    },
    {
     "name": "stdout",
     "output_type": "stream",
     "text": [
      "Now working on  Q1453379   Celebration\n",
      "Adding claim:  P407 :  English\n"
     ]
    },
    {
     "name": "stderr",
     "output_type": "stream",
     "text": [
      "Sleeping for 9.3 seconds, 2019-01-15 19:41:18\n"
     ]
    },
    {
     "name": "stdout",
     "output_type": "stream",
     "text": [
      "Removing claim:  P364\n"
     ]
    },
    {
     "name": "stderr",
     "output_type": "stream",
     "text": [
      "Sleeping for 9.4 seconds, 2019-01-15 19:41:28\n"
     ]
    },
    {
     "name": "stdout",
     "output_type": "stream",
     "text": [
      "Now working on  Q55662663   Neuzeller Wallfahrtslied\n",
      "Adding claim:  P407 :  German\n"
     ]
    },
    {
     "name": "stderr",
     "output_type": "stream",
     "text": [
      "Sleeping for 9.3 seconds, 2019-01-15 19:41:38\n"
     ]
    },
    {
     "name": "stdout",
     "output_type": "stream",
     "text": [
      "Removing claim:  P364\n"
     ]
    },
    {
     "name": "stderr",
     "output_type": "stream",
     "text": [
      "Sleeping for 9.5 seconds, 2019-01-15 19:41:48\n"
     ]
    },
    {
     "name": "stdout",
     "output_type": "stream",
     "text": [
      "Now working on  Q59780435   Q59780435\n",
      "Adding claim:  P407 :  Russian\n"
     ]
    },
    {
     "name": "stderr",
     "output_type": "stream",
     "text": [
      "Sleeping for 9.3 seconds, 2019-01-15 19:41:58\n"
     ]
    },
    {
     "name": "stdout",
     "output_type": "stream",
     "text": [
      "Removing claim:  P364\n"
     ]
    },
    {
     "name": "stderr",
     "output_type": "stream",
     "text": [
      "Sleeping for 9.5 seconds, 2019-01-15 19:42:08\n"
     ]
    },
    {
     "name": "stdout",
     "output_type": "stream",
     "text": [
      "Now working on  Q59851474   Informante do Regime Militar Fund\n",
      "Adding claim:  P407 :  Brazilian Portuguese\n"
     ]
    },
    {
     "name": "stderr",
     "output_type": "stream",
     "text": [
      "Sleeping for 9.2 seconds, 2019-01-15 19:42:18\n"
     ]
    },
    {
     "name": "stdout",
     "output_type": "stream",
     "text": [
      "Removing claim:  P364\n"
     ]
    },
    {
     "name": "stderr",
     "output_type": "stream",
     "text": [
      "Sleeping for 9.5 seconds, 2019-01-15 19:42:28\n"
     ]
    },
    {
     "name": "stdout",
     "output_type": "stream",
     "text": [
      "Now working on  Q60594318   Q60594318\n",
      "Adding claim:  P407 :  Modern Greek\n"
     ]
    },
    {
     "name": "stderr",
     "output_type": "stream",
     "text": [
      "Sleeping for 9.2 seconds, 2019-01-15 19:42:38\n"
     ]
    },
    {
     "name": "stdout",
     "output_type": "stream",
     "text": [
      "Removing claim:  P364\n"
     ]
    },
    {
     "name": "stderr",
     "output_type": "stream",
     "text": [
      "Sleeping for 9.4 seconds, 2019-01-15 19:42:48\n"
     ]
    },
    {
     "name": "stdout",
     "output_type": "stream",
     "text": [
      "Now working on  Q59848600   Q59848600\n",
      "Adding claim:  P407 :  French\n"
     ]
    },
    {
     "name": "stderr",
     "output_type": "stream",
     "text": [
      "Sleeping for 9.2 seconds, 2019-01-15 19:42:58\n"
     ]
    },
    {
     "name": "stdout",
     "output_type": "stream",
     "text": [
      "Removing claim:  P364\n"
     ]
    },
    {
     "name": "stderr",
     "output_type": "stream",
     "text": [
      "Sleeping for 9.5 seconds, 2019-01-15 19:43:08\n"
     ]
    },
    {
     "name": "stdout",
     "output_type": "stream",
     "text": [
      "Now working on  Q3350266   Oleanna\n",
      "Adding claim:  P407 :  American English\n"
     ]
    },
    {
     "name": "stderr",
     "output_type": "stream",
     "text": [
      "Sleeping for 9.3 seconds, 2019-01-15 19:43:18\n"
     ]
    },
    {
     "name": "stdout",
     "output_type": "stream",
     "text": [
      "Removing claim:  P364\n"
     ]
    },
    {
     "name": "stderr",
     "output_type": "stream",
     "text": [
      "Sleeping for 9.4 seconds, 2019-01-15 19:43:28\n"
     ]
    },
    {
     "name": "stdout",
     "output_type": "stream",
     "text": [
      "Now working on  Q60143364   Q60143364\n",
      "Adding claim:  P407 :  German\n"
     ]
    },
    {
     "name": "stderr",
     "output_type": "stream",
     "text": [
      "Sleeping for 9.2 seconds, 2019-01-15 19:43:38\n"
     ]
    },
    {
     "name": "stdout",
     "output_type": "stream",
     "text": [
      "Removing claim:  P364\n"
     ]
    },
    {
     "name": "stderr",
     "output_type": "stream",
     "text": [
      "Sleeping for 9.5 seconds, 2019-01-15 19:43:48\n"
     ]
    },
    {
     "name": "stdout",
     "output_type": "stream",
     "text": [
      "Now working on  Q4315970   Q4315970\n",
      "Adding claim:  P407 :  Russian\n"
     ]
    },
    {
     "name": "stderr",
     "output_type": "stream",
     "text": [
      "Sleeping for 9.3 seconds, 2019-01-15 19:43:58\n"
     ]
    },
    {
     "name": "stdout",
     "output_type": "stream",
     "text": [
      "Removing claim:  P364\n"
     ]
    },
    {
     "name": "stderr",
     "output_type": "stream",
     "text": [
      "Sleeping for 9.3 seconds, 2019-01-15 19:44:08\n"
     ]
    },
    {
     "name": "stdout",
     "output_type": "stream",
     "text": [
      "Now working on  Q60172449   Mode:Live\n",
      "Adding claim:  P407 :  Simlish\n"
     ]
    },
    {
     "name": "stderr",
     "output_type": "stream",
     "text": [
      "Sleeping for 9.1 seconds, 2019-01-15 19:44:18\n"
     ]
    },
    {
     "name": "stdout",
     "output_type": "stream",
     "text": [
      "Removing claim:  P364\n"
     ]
    },
    {
     "name": "stderr",
     "output_type": "stream",
     "text": [
      "Sleeping for 9.4 seconds, 2019-01-15 19:44:28\n"
     ]
    },
    {
     "name": "stdout",
     "output_type": "stream",
     "text": [
      "Now working on  Q59822406   National Agency Fund\n",
      "Adding claim:  P407 :  Brazilian Portuguese\n"
     ]
    },
    {
     "name": "stderr",
     "output_type": "stream",
     "text": [
      "Sleeping for 9.3 seconds, 2019-01-15 19:44:38\n"
     ]
    },
    {
     "name": "stdout",
     "output_type": "stream",
     "text": [
      "Removing claim:  P364\n"
     ]
    },
    {
     "name": "stderr",
     "output_type": "stream",
     "text": [
      "Sleeping for 9.3 seconds, 2019-01-15 19:44:48\n"
     ]
    },
    {
     "name": "stdout",
     "output_type": "stream",
     "text": [
      "Now working on  Q58191800   Risky Business\n",
      "Adding claim:  P407 :  English\n"
     ]
    },
    {
     "name": "stderr",
     "output_type": "stream",
     "text": [
      "Sleeping for 9.1 seconds, 2019-01-15 19:44:58\n"
     ]
    },
    {
     "name": "stdout",
     "output_type": "stream",
     "text": [
      "Removing claim:  P364\n"
     ]
    },
    {
     "name": "stderr",
     "output_type": "stream",
     "text": [
      "Sleeping for 9.4 seconds, 2019-01-15 19:45:08\n"
     ]
    },
    {
     "name": "stdout",
     "output_type": "stream",
     "text": [
      "Now working on  Q1432009   Rosmersholm\n",
      "Adding claim:  P407 :  Norwegian\n"
     ]
    },
    {
     "name": "stderr",
     "output_type": "stream",
     "text": [
      "Sleeping for 9.2 seconds, 2019-01-15 19:45:18\n"
     ]
    },
    {
     "name": "stdout",
     "output_type": "stream",
     "text": [
      "Removing claim:  P364\n"
     ]
    },
    {
     "name": "stderr",
     "output_type": "stream",
     "text": [
      "Sleeping for 9.4 seconds, 2019-01-15 19:45:28\n"
     ]
    },
    {
     "name": "stdout",
     "output_type": "stream",
     "text": [
      "Now working on  Q19756623   Approach, Ye Faithful, Come With Exultation\n",
      "Adding claim:  P407 :  Latin\n"
     ]
    },
    {
     "name": "stderr",
     "output_type": "stream",
     "text": [
      "Sleeping for 9.1 seconds, 2019-01-15 19:45:38\n"
     ]
    },
    {
     "name": "stdout",
     "output_type": "stream",
     "text": [
      "Removing claim:  P364\n"
     ]
    },
    {
     "name": "stderr",
     "output_type": "stream",
     "text": [
      "Sleeping for 9.5 seconds, 2019-01-15 19:45:48\n"
     ]
    },
    {
     "name": "stdout",
     "output_type": "stream",
     "text": [
      "Now working on  Q30134065   Q30134065\n",
      "Adding claim:  P407 :  German\n"
     ]
    },
    {
     "name": "stderr",
     "output_type": "stream",
     "text": [
      "Sleeping for 9.2 seconds, 2019-01-15 19:45:58\n"
     ]
    },
    {
     "name": "stdout",
     "output_type": "stream",
     "text": [
      "Removing claim:  P364\n"
     ]
    },
    {
     "name": "stderr",
     "output_type": "stream",
     "text": [
      "Sleeping for 9.5 seconds, 2019-01-15 19:46:08\n"
     ]
    },
    {
     "name": "stdout",
     "output_type": "stream",
     "text": [
      "Now working on  Q59835167   Q59835167\n",
      "Adding claim:  P407 :  Japanese\n"
     ]
    },
    {
     "name": "stderr",
     "output_type": "stream",
     "text": [
      "Sleeping for 9.2 seconds, 2019-01-15 19:46:18\n"
     ]
    },
    {
     "name": "stdout",
     "output_type": "stream",
     "text": [
      "Removing claim:  P364\n"
     ]
    },
    {
     "name": "stderr",
     "output_type": "stream",
     "text": [
      "Sleeping for 9.5 seconds, 2019-01-15 19:46:28\n",
      "Retrieving 50 pages from wikidata:wikidata.\n"
     ]
    },
    {
     "name": "stdout",
     "output_type": "stream",
     "text": [
      "Now working on  Q59928834   Q59928834\n",
      "Adding claim:  P407 :  German\n"
     ]
    },
    {
     "name": "stderr",
     "output_type": "stream",
     "text": [
      "Sleeping for 8.7 seconds, 2019-01-15 19:46:39\n"
     ]
    },
    {
     "name": "stdout",
     "output_type": "stream",
     "text": [
      "Removing claim:  P364\n"
     ]
    },
    {
     "name": "stderr",
     "output_type": "stream",
     "text": [
      "Sleeping for 9.6 seconds, 2019-01-15 19:46:48\n"
     ]
    },
    {
     "name": "stdout",
     "output_type": "stream",
     "text": [
      "Now working on  Q59851849   Sidney Fix Marques dos Santos Fund\n",
      "Adding claim:  P407 :  Brazilian Portuguese\n"
     ]
    },
    {
     "name": "stderr",
     "output_type": "stream",
     "text": [
      "Sleeping for 9.3 seconds, 2019-01-15 19:46:58\n"
     ]
    },
    {
     "name": "stdout",
     "output_type": "stream",
     "text": [
      "Removing claim:  P364\n"
     ]
    },
    {
     "name": "stderr",
     "output_type": "stream",
     "text": [
      "Sleeping for 9.5 seconds, 2019-01-15 19:47:08\n"
     ]
    },
    {
     "name": "stdout",
     "output_type": "stream",
     "text": [
      "Now working on  Q60032271   Document Recovered From The Marianas Trench\n",
      "Adding claim:  P407 :  English\n"
     ]
    },
    {
     "name": "stderr",
     "output_type": "stream",
     "text": [
      "Sleeping for 9.2 seconds, 2019-01-15 19:47:18\n"
     ]
    },
    {
     "name": "stdout",
     "output_type": "stream",
     "text": [
      "Removing claim:  P364\n"
     ]
    },
    {
     "name": "stderr",
     "output_type": "stream",
     "text": [
      "Sleeping for 9.5 seconds, 2019-01-15 19:47:28\n"
     ]
    },
    {
     "name": "stdout",
     "output_type": "stream",
     "text": [
      "Now working on  Q1189196   Happy Days\n",
      "Adding claim:  P407 :  English\n"
     ]
    },
    {
     "name": "stderr",
     "output_type": "stream",
     "text": [
      "Sleeping for 9.3 seconds, 2019-01-15 19:47:38\n"
     ]
    },
    {
     "name": "stdout",
     "output_type": "stream",
     "text": [
      "Removing claim:  P364\n"
     ]
    },
    {
     "name": "stderr",
     "output_type": "stream",
     "text": [
      "Sleeping for 9.4 seconds, 2019-01-15 19:47:48\n"
     ]
    },
    {
     "name": "stdout",
     "output_type": "stream",
     "text": [
      "Now working on  Q60172448   Superstar Report\n",
      "Adding claim:  P407 :  Simlish\n"
     ]
    },
    {
     "name": "stderr",
     "output_type": "stream",
     "text": [
      "Sleeping for 9.3 seconds, 2019-01-15 19:47:58\n"
     ]
    },
    {
     "name": "stdout",
     "output_type": "stream",
     "text": [
      "Removing claim:  P364\n"
     ]
    },
    {
     "name": "stderr",
     "output_type": "stream",
     "text": [
      "Sleeping for 9.4 seconds, 2019-01-15 19:48:08\n"
     ]
    },
    {
     "name": "stdout",
     "output_type": "stream",
     "text": [
      "Now working on  Q38277693   Anima Yell!\n",
      "Adding claim:  P407 :  Japanese\n"
     ]
    },
    {
     "name": "stderr",
     "output_type": "stream",
     "text": [
      "Sleeping for 9.1 seconds, 2019-01-15 19:48:18\n"
     ]
    },
    {
     "name": "stdout",
     "output_type": "stream",
     "text": [
      "Removing claim:  P364\n"
     ]
    },
    {
     "name": "stderr",
     "output_type": "stream",
     "text": [
      "Sleeping for 9.4 seconds, 2019-01-15 19:48:28\n"
     ]
    },
    {
     "name": "stdout",
     "output_type": "stream",
     "text": [
      "Now working on  Q59326119   Esterka Regina\n",
      "Adding claim:  P407 :  German\n"
     ]
    },
    {
     "name": "stderr",
     "output_type": "stream",
     "text": [
      "Sleeping for 9.2 seconds, 2019-01-15 19:48:38\n"
     ]
    },
    {
     "name": "stdout",
     "output_type": "stream",
     "text": [
      "Removing claim:  P364\n"
     ]
    },
    {
     "name": "stderr",
     "output_type": "stream",
     "text": [
      "Sleeping for 9.5 seconds, 2019-01-15 19:48:48\n"
     ]
    },
    {
     "name": "stdout",
     "output_type": "stream",
     "text": [
      "Now working on  Q59282368   Deep South\n",
      "Adding claim:  P407 :  French\n"
     ]
    },
    {
     "name": "stderr",
     "output_type": "stream",
     "text": [
      "Sleeping for 9.3 seconds, 2019-01-15 19:48:58\n"
     ]
    },
    {
     "name": "stdout",
     "output_type": "stream",
     "text": [
      "Removing claim:  P364\n"
     ]
    },
    {
     "name": "stderr",
     "output_type": "stream",
     "text": [
      "Sleeping for 9.4 seconds, 2019-01-15 19:49:08\n"
     ]
    },
    {
     "name": "stdout",
     "output_type": "stream",
     "text": [
      "Now working on  Q30599629   Gorilla City\n",
      "Adding claim:  P407 :  English\n"
     ]
    },
    {
     "name": "stderr",
     "output_type": "stream",
     "text": [
      "Sleeping for 9.2 seconds, 2019-01-15 19:49:18\n"
     ]
    },
    {
     "name": "stdout",
     "output_type": "stream",
     "text": [
      "Removing claim:  P364\n"
     ]
    },
    {
     "name": "stderr",
     "output_type": "stream",
     "text": [
      "Sleeping for 9.5 seconds, 2019-01-15 19:49:28\n"
     ]
    },
    {
     "name": "stdout",
     "output_type": "stream",
     "text": [
      "Now working on  Q4010916   The Adventures of Saturnin Farandoul\n",
      "Adding claim:  P407 :  French\n"
     ]
    },
    {
     "name": "stderr",
     "output_type": "stream",
     "text": [
      "Sleeping for 9.2 seconds, 2019-01-15 19:49:38\n"
     ]
    },
    {
     "name": "stdout",
     "output_type": "stream",
     "text": [
      "Removing claim:  P364\n"
     ]
    },
    {
     "name": "stderr",
     "output_type": "stream",
     "text": [
      "Sleeping for 9.5 seconds, 2019-01-15 19:49:48\n"
     ]
    },
    {
     "name": "stdout",
     "output_type": "stream",
     "text": [
      "Now working on  Q7719934   The Breath of Life\n",
      "Adding claim:  P407 :  English\n"
     ]
    },
    {
     "name": "stderr",
     "output_type": "stream",
     "text": [
      "Sleeping for 9.3 seconds, 2019-01-15 19:49:58\n"
     ]
    },
    {
     "name": "stdout",
     "output_type": "stream",
     "text": [
      "Removing claim:  P364\n"
     ]
    },
    {
     "name": "stderr",
     "output_type": "stream",
     "text": [
      "Sleeping for 9.5 seconds, 2019-01-15 19:50:08\n"
     ]
    },
    {
     "name": "stdout",
     "output_type": "stream",
     "text": [
      "Now working on  Q59281079   Q59281079\n",
      "Adding claim:  P407 :  German\n"
     ]
    },
    {
     "name": "stderr",
     "output_type": "stream",
     "text": [
      "Sleeping for 9.1 seconds, 2019-01-15 19:50:18\n"
     ]
    },
    {
     "name": "stdout",
     "output_type": "stream",
     "text": [
      "Removing claim:  P364\n"
     ]
    },
    {
     "name": "stderr",
     "output_type": "stream",
     "text": [
      "Sleeping for 9.5 seconds, 2019-01-15 19:50:28\n"
     ]
    },
    {
     "name": "stdout",
     "output_type": "stream",
     "text": [
      "Now working on  Q16386637   Leaves of Glass\n",
      "Adding claim:  P407 :  English\n"
     ]
    },
    {
     "name": "stderr",
     "output_type": "stream",
     "text": [
      "Sleeping for 9.3 seconds, 2019-01-15 19:50:38\n"
     ]
    },
    {
     "name": "stdout",
     "output_type": "stream",
     "text": [
      "Removing claim:  P364\n"
     ]
    },
    {
     "name": "stderr",
     "output_type": "stream",
     "text": [
      "Sleeping for 9.5 seconds, 2019-01-15 19:50:48\n"
     ]
    },
    {
     "name": "stdout",
     "output_type": "stream",
     "text": [
      "Now working on  Q930562   Dirty Pair\n",
      "Adding claim:  P407 :  Japanese\n"
     ]
    },
    {
     "name": "stderr",
     "output_type": "stream",
     "text": [
      "Sleeping for 9.2 seconds, 2019-01-15 19:50:58\n"
     ]
    },
    {
     "name": "stdout",
     "output_type": "stream",
     "text": [
      "Removing claim:  P364\n"
     ]
    },
    {
     "name": "stderr",
     "output_type": "stream",
     "text": [
      "Sleeping for 9.4 seconds, 2019-01-15 19:51:08\n"
     ]
    },
    {
     "name": "stdout",
     "output_type": "stream",
     "text": [
      "Now working on  Q16572661   Q16572661\n",
      "Adding claim:  P407 :  Spanish\n"
     ]
    },
    {
     "name": "stderr",
     "output_type": "stream",
     "text": [
      "Sleeping for 9.1 seconds, 2019-01-15 19:51:19\n"
     ]
    },
    {
     "name": "stdout",
     "output_type": "stream",
     "text": [
      "Removing claim:  P364\n"
     ]
    },
    {
     "name": "stderr",
     "output_type": "stream",
     "text": [
      "Sleeping for 9.5 seconds, 2019-01-15 19:51:28\n"
     ]
    },
    {
     "name": "stdout",
     "output_type": "stream",
     "text": [
      "Now working on  Q59851472   Gabinete Pessoal do Presidente da República Fund\n",
      "Adding claim:  P407 :  Brazilian Portuguese\n"
     ]
    },
    {
     "name": "stderr",
     "output_type": "stream",
     "text": [
      "Sleeping for 9.3 seconds, 2019-01-15 19:51:38\n"
     ]
    },
    {
     "name": "stdout",
     "output_type": "stream",
     "text": [
      "Removing claim:  P364\n"
     ]
    },
    {
     "name": "stderr",
     "output_type": "stream",
     "text": [
      "Sleeping for 9.3 seconds, 2019-01-15 19:51:48\n"
     ]
    },
    {
     "name": "stdout",
     "output_type": "stream",
     "text": [
      "Now working on  Q4922585   Blackbird\n",
      "Adding claim:  P407 :  English\n"
     ]
    },
    {
     "name": "stderr",
     "output_type": "stream",
     "text": [
      "Sleeping for 9.2 seconds, 2019-01-15 19:51:59\n"
     ]
    },
    {
     "name": "stdout",
     "output_type": "stream",
     "text": [
      "Removing claim:  P364\n"
     ]
    },
    {
     "name": "stderr",
     "output_type": "stream",
     "text": [
      "Sleeping for 9.4 seconds, 2019-01-15 19:52:08\n"
     ]
    },
    {
     "name": "stdout",
     "output_type": "stream",
     "text": [
      "Now working on  Q7439296   Scroogenomics\n",
      "Adding claim:  P407 :  English\n"
     ]
    },
    {
     "name": "stderr",
     "output_type": "stream",
     "text": [
      "Sleeping for 9.2 seconds, 2019-01-15 19:52:18\n"
     ]
    },
    {
     "name": "stdout",
     "output_type": "stream",
     "text": [
      "Removing claim:  P364\n"
     ]
    },
    {
     "name": "stderr",
     "output_type": "stream",
     "text": [
      "Sleeping for 9.5 seconds, 2019-01-15 19:52:28\n"
     ]
    },
    {
     "name": "stdout",
     "output_type": "stream",
     "text": [
      "Now working on  Q60594312   Iron\n",
      "Adding claim:  P407 :  English\n"
     ]
    },
    {
     "name": "stderr",
     "output_type": "stream",
     "text": [
      "Sleeping for 9.2 seconds, 2019-01-15 19:52:39\n"
     ]
    },
    {
     "name": "stdout",
     "output_type": "stream",
     "text": [
      "Removing claim:  P364\n"
     ]
    },
    {
     "name": "stderr",
     "output_type": "stream",
     "text": [
      "Sleeping for 9.6 seconds, 2019-01-15 19:52:48\n"
     ]
    },
    {
     "name": "stdout",
     "output_type": "stream",
     "text": [
      "Now working on  Q60420722   Total Triumph for Teens\n",
      "Adding claim:  P407 :  English\n"
     ]
    },
    {
     "name": "stderr",
     "output_type": "stream",
     "text": [
      "Sleeping for 9.2 seconds, 2019-01-15 19:52:59\n"
     ]
    },
    {
     "name": "stdout",
     "output_type": "stream",
     "text": [
      "Removing claim:  P364\n"
     ]
    },
    {
     "name": "stderr",
     "output_type": "stream",
     "text": [
      "Sleeping for 9.6 seconds, 2019-01-15 19:53:08\n"
     ]
    },
    {
     "name": "stdout",
     "output_type": "stream",
     "text": [
      "Now working on  Q19756633   Hasten, Ye Faithful, Glad, Joyful, and Holy\n",
      "Adding claim:  P407 :  Latin\n"
     ]
    },
    {
     "name": "stderr",
     "output_type": "stream",
     "text": [
      "Sleeping for 9.3 seconds, 2019-01-15 19:53:18\n"
     ]
    },
    {
     "name": "stdout",
     "output_type": "stream",
     "text": [
      "Removing claim:  P364\n"
     ]
    },
    {
     "name": "stderr",
     "output_type": "stream",
     "text": [
      "Sleeping for 9.3 seconds, 2019-01-15 19:53:28\n"
     ]
    },
    {
     "name": "stdout",
     "output_type": "stream",
     "text": [
      "Now working on  Q59279044   Q59279044\n",
      "Adding claim:  P407 :  French\n"
     ]
    },
    {
     "name": "stderr",
     "output_type": "stream",
     "text": [
      "Sleeping for 9.2 seconds, 2019-01-15 19:53:39\n"
     ]
    },
    {
     "name": "stdout",
     "output_type": "stream",
     "text": [
      "Removing claim:  P364\n"
     ]
    },
    {
     "name": "stderr",
     "output_type": "stream",
     "text": [
      "Sleeping for 9.4 seconds, 2019-01-15 19:53:48\n"
     ]
    },
    {
     "name": "stdout",
     "output_type": "stream",
     "text": [
      "Now working on  Q60475010   Come, O Divine Messiah\n",
      "Adding claim:  P407 :  French\n"
     ]
    },
    {
     "name": "stderr",
     "output_type": "stream",
     "text": [
      "Sleeping for 9.2 seconds, 2019-01-15 19:53:59\n"
     ]
    },
    {
     "name": "stdout",
     "output_type": "stream",
     "text": [
      "Removing claim:  P364\n"
     ]
    },
    {
     "name": "stderr",
     "output_type": "stream",
     "text": [
      "Sleeping for 9.4 seconds, 2019-01-15 19:54:08\n"
     ]
    },
    {
     "name": "stdout",
     "output_type": "stream",
     "text": [
      "Now working on  Q59591141   Backpacker 3: Mediterraneo\n",
      "Adding claim:  P407 :  Swedish\n"
     ]
    },
    {
     "name": "stderr",
     "output_type": "stream",
     "text": [
      "Sleeping for 9.2 seconds, 2019-01-15 19:54:19\n"
     ]
    },
    {
     "name": "stdout",
     "output_type": "stream",
     "text": [
      "Removing claim:  P364\n"
     ]
    },
    {
     "name": "stderr",
     "output_type": "stream",
     "text": [
      "Sleeping for 9.5 seconds, 2019-01-15 19:54:28\n"
     ]
    },
    {
     "name": "stdout",
     "output_type": "stream",
     "text": [
      "Now working on  Q60366459   11. september 2011\n",
      "Adding claim:  P407 :  Danish\n"
     ]
    },
    {
     "name": "stderr",
     "output_type": "stream",
     "text": [
      "Sleeping for 9.3 seconds, 2019-01-15 19:54:38\n"
     ]
    },
    {
     "name": "stdout",
     "output_type": "stream",
     "text": [
      "Removing claim:  P364\n"
     ]
    },
    {
     "name": "stderr",
     "output_type": "stream",
     "text": [
      "Sleeping for 9.5 seconds, 2019-01-15 19:54:48\n"
     ]
    },
    {
     "name": "stdout",
     "output_type": "stream",
     "text": [
      "Now working on  Q60453321   Ecology and Equity\n",
      "Adding claim:  P407 :  English\n"
     ]
    },
    {
     "name": "stderr",
     "output_type": "stream",
     "text": [
      "Sleeping for 9.2 seconds, 2019-01-15 19:54:59\n"
     ]
    },
    {
     "name": "stdout",
     "output_type": "stream",
     "text": [
      "Removing claim:  P364\n"
     ]
    },
    {
     "name": "stderr",
     "output_type": "stream",
     "text": [
      "Sleeping for 9.6 seconds, 2019-01-15 19:55:08\n"
     ]
    },
    {
     "name": "stdout",
     "output_type": "stream",
     "text": [
      "Now working on  Q59309583   Q59309583\n",
      "Adding claim:  P407 :  Italian\n"
     ]
    },
    {
     "name": "stderr",
     "output_type": "stream",
     "text": [
      "Sleeping for 9.1 seconds, 2019-01-15 19:55:19\n"
     ]
    },
    {
     "name": "stdout",
     "output_type": "stream",
     "text": [
      "Removing claim:  P364\n"
     ]
    },
    {
     "name": "stderr",
     "output_type": "stream",
     "text": [
      "Sleeping for 9.5 seconds, 2019-01-15 19:55:28\n"
     ]
    },
    {
     "name": "stdout",
     "output_type": "stream",
     "text": [
      "Now working on  Q58926173   Q58926173\n",
      "Adding claim:  P407 :  Armenian\n"
     ]
    },
    {
     "name": "stderr",
     "output_type": "stream",
     "text": [
      "Sleeping for 9.2 seconds, 2019-01-15 19:55:39\n"
     ]
    },
    {
     "name": "stdout",
     "output_type": "stream",
     "text": [
      "Removing claim:  P364\n"
     ]
    },
    {
     "name": "stderr",
     "output_type": "stream",
     "text": [
      "Sleeping for 9.5 seconds, 2019-01-15 19:55:48\n"
     ]
    },
    {
     "name": "stdout",
     "output_type": "stream",
     "text": [
      "Now working on  Q59641296   El ciudadano Simón\n",
      "Adding claim:  P407 :  Spanish\n"
     ]
    },
    {
     "name": "stderr",
     "output_type": "stream",
     "text": [
      "Sleeping for 9.2 seconds, 2019-01-15 19:55:59\n"
     ]
    },
    {
     "name": "stdout",
     "output_type": "stream",
     "text": [
      "Removing claim:  P364\n"
     ]
    },
    {
     "name": "stderr",
     "output_type": "stream",
     "text": [
      "Sleeping for 9.6 seconds, 2019-01-15 19:56:08\n"
     ]
    },
    {
     "name": "stdout",
     "output_type": "stream",
     "text": [
      "Now working on  Q55524972   Koisuru Asteroid\n",
      "Adding claim:  P407 :  Japanese\n"
     ]
    },
    {
     "name": "stderr",
     "output_type": "stream",
     "text": [
      "Sleeping for 9.2 seconds, 2019-01-15 19:56:19\n"
     ]
    },
    {
     "name": "stdout",
     "output_type": "stream",
     "text": [
      "Removing claim:  P364\n"
     ]
    },
    {
     "name": "stderr",
     "output_type": "stream",
     "text": [
      "Sleeping for 9.5 seconds, 2019-01-15 19:56:28\n"
     ]
    },
    {
     "name": "stdout",
     "output_type": "stream",
     "text": [
      "Now working on  Q59851478   Nélie Sá Pereira Fund\n",
      "Adding claim:  P407 :  Brazilian Portuguese\n"
     ]
    },
    {
     "name": "stderr",
     "output_type": "stream",
     "text": [
      "Sleeping for 9.3 seconds, 2019-01-15 19:56:39\n"
     ]
    },
    {
     "name": "stdout",
     "output_type": "stream",
     "text": [
      "Removing claim:  P364\n"
     ]
    },
    {
     "name": "stderr",
     "output_type": "stream",
     "text": [
      "Sleeping for 9.5 seconds, 2019-01-15 19:56:48\n"
     ]
    },
    {
     "name": "stdout",
     "output_type": "stream",
     "text": [
      "Now working on  Q24870821   Ochikobore Fruit Tart\n",
      "Adding claim:  P407 :  Japanese\n"
     ]
    },
    {
     "name": "stderr",
     "output_type": "stream",
     "text": [
      "Sleeping for 9.2 seconds, 2019-01-15 19:56:59\n"
     ]
    },
    {
     "name": "stdout",
     "output_type": "stream",
     "text": [
      "Removing claim:  P364\n"
     ]
    },
    {
     "name": "stderr",
     "output_type": "stream",
     "text": [
      "Sleeping for 9.5 seconds, 2019-01-15 19:57:08\n"
     ]
    },
    {
     "name": "stdout",
     "output_type": "stream",
     "text": [
      "Now working on  Q5476210   Sylvias hälsning från Sicilien\n",
      "Adding claim:  P407 :  Swedish\n"
     ]
    },
    {
     "name": "stderr",
     "output_type": "stream",
     "text": [
      "Sleeping for 9.3 seconds, 2019-01-15 19:57:19\n"
     ]
    },
    {
     "name": "stdout",
     "output_type": "stream",
     "text": [
      "Removing claim:  P364\n"
     ]
    },
    {
     "name": "stderr",
     "output_type": "stream",
     "text": [
      "Sleeping for 9.4 seconds, 2019-01-15 19:57:29\n"
     ]
    },
    {
     "name": "stdout",
     "output_type": "stream",
     "text": [
      "Now working on  Q58011616   N.E.E. y TIC\n",
      "Adding claim:  P407 :  Spanish\n"
     ]
    },
    {
     "name": "stderr",
     "output_type": "stream",
     "text": [
      "Sleeping for 9.2 seconds, 2019-01-15 19:57:39\n"
     ]
    },
    {
     "name": "stdout",
     "output_type": "stream",
     "text": [
      "Removing claim:  P364\n"
     ]
    },
    {
     "name": "stderr",
     "output_type": "stream",
     "text": [
      "Sleeping for 9.5 seconds, 2019-01-15 19:57:48\n"
     ]
    },
    {
     "name": "stdout",
     "output_type": "stream",
     "text": [
      "Now working on  Q19756630   Raise We Our Voices to the Lord of Glory\n",
      "Adding claim:  P407 :  Latin\n"
     ]
    },
    {
     "name": "stderr",
     "output_type": "stream",
     "text": [
      "Sleeping for 9.2 seconds, 2019-01-15 19:57:59\n"
     ]
    },
    {
     "name": "stdout",
     "output_type": "stream",
     "text": [
      "Removing claim:  P364\n"
     ]
    },
    {
     "name": "stderr",
     "output_type": "stream",
     "text": [
      "Sleeping for 9.5 seconds, 2019-01-15 19:58:09\n"
     ]
    },
    {
     "name": "stdout",
     "output_type": "stream",
     "text": [
      "Now working on  Q60457283   The Gates of Creation\n",
      "Adding claim:  P407 :  American English\n"
     ]
    },
    {
     "name": "stderr",
     "output_type": "stream",
     "text": [
      "Sleeping for 9.2 seconds, 2019-01-15 19:58:19\n"
     ]
    },
    {
     "name": "stdout",
     "output_type": "stream",
     "text": [
      "Removing claim:  P364\n"
     ]
    },
    {
     "name": "stderr",
     "output_type": "stream",
     "text": [
      "Sleeping for 9.6 seconds, 2019-01-15 19:58:28\n"
     ]
    },
    {
     "name": "stdout",
     "output_type": "stream",
     "text": [
      "Now working on  Q28684355   Q28684355\n",
      "Adding claim:  P407 :  Japanese\n"
     ]
    },
    {
     "name": "stderr",
     "output_type": "stream",
     "text": [
      "Sleeping for 9.3 seconds, 2019-01-15 19:58:39\n"
     ]
    },
    {
     "name": "stdout",
     "output_type": "stream",
     "text": [
      "Removing claim:  P364\n"
     ]
    },
    {
     "name": "stderr",
     "output_type": "stream",
     "text": [
      "Sleeping for 9.5 seconds, 2019-01-15 19:58:49\n"
     ]
    },
    {
     "name": "stdout",
     "output_type": "stream",
     "text": [
      "Now working on  Q22131597   Machikado Mazoku\n",
      "Adding claim:  P407 :  Japanese\n"
     ]
    },
    {
     "name": "stderr",
     "output_type": "stream",
     "text": [
      "Sleeping for 9.2 seconds, 2019-01-15 19:58:59\n"
     ]
    },
    {
     "name": "stdout",
     "output_type": "stream",
     "text": [
      "Removing claim:  P364\n"
     ]
    },
    {
     "name": "stderr",
     "output_type": "stream",
     "text": [
      "Sleeping for 9.6 seconds, 2019-01-15 19:59:08\n"
     ]
    },
    {
     "name": "stdout",
     "output_type": "stream",
     "text": [
      "Now working on  Q605790   Meditations on First Philosophy\n",
      "Adding claim:  P407 :  French\n"
     ]
    },
    {
     "name": "stderr",
     "output_type": "stream",
     "text": [
      "Sleeping for 9.2 seconds, 2019-01-15 19:59:19\n"
     ]
    },
    {
     "name": "stdout",
     "output_type": "stream",
     "text": [
      "Removing claim:  P364\n"
     ]
    },
    {
     "name": "stderr",
     "output_type": "stream",
     "text": [
      "Sleeping for 9.4 seconds, 2019-01-15 19:59:29\n"
     ]
    },
    {
     "name": "stdout",
     "output_type": "stream",
     "text": [
      "Now working on  Q17228925   Sekigan no Shōnen: Occult Maiden - Kage Shō\n",
      "Adding claim:  P407 :  Japanese\n"
     ]
    },
    {
     "name": "stderr",
     "output_type": "stream",
     "text": [
      "Sleeping for 9.2 seconds, 2019-01-15 19:59:39\n"
     ]
    },
    {
     "name": "stdout",
     "output_type": "stream",
     "text": [
      "Removing claim:  P364\n"
     ]
    },
    {
     "name": "stderr",
     "output_type": "stream",
     "text": [
      "Sleeping for 9.5 seconds, 2019-01-15 19:59:49\n"
     ]
    },
    {
     "name": "stdout",
     "output_type": "stream",
     "text": [
      "Now working on  Q2590941   Book of Roads and Kingdoms\n",
      "Adding claim:  P407 :  Arabic\n"
     ]
    },
    {
     "name": "stderr",
     "output_type": "stream",
     "text": [
      "Sleeping for 9.3 seconds, 2019-01-15 19:59:59\n"
     ]
    },
    {
     "name": "stdout",
     "output_type": "stream",
     "text": [
      "Removing claim:  P364\n"
     ]
    },
    {
     "name": "stderr",
     "output_type": "stream",
     "text": [
      "Sleeping for 9.4 seconds, 2019-01-15 20:00:09\n"
     ]
    },
    {
     "name": "stdout",
     "output_type": "stream",
     "text": [
      "Now working on  Q60594321   Q60594321\n",
      "Adding claim:  P407 :  Swedish\n"
     ]
    },
    {
     "name": "stderr",
     "output_type": "stream",
     "text": [
      "Sleeping for 9.3 seconds, 2019-01-15 20:00:19\n"
     ]
    },
    {
     "name": "stdout",
     "output_type": "stream",
     "text": [
      "Removing claim:  P364\n"
     ]
    },
    {
     "name": "stderr",
     "output_type": "stream",
     "text": [
      "Sleeping for 9.6 seconds, 2019-01-15 20:00:29\n"
     ]
    },
    {
     "name": "stdout",
     "output_type": "stream",
     "text": [
      "Now working on  Q11222032   G-Gumi no G\n",
      "Adding claim:  P407 :  Japanese\n"
     ]
    },
    {
     "name": "stderr",
     "output_type": "stream",
     "text": [
      "Sleeping for 9.2 seconds, 2019-01-15 20:00:39\n"
     ]
    },
    {
     "name": "stdout",
     "output_type": "stream",
     "text": [
      "Removing claim:  P364\n"
     ]
    },
    {
     "name": "stderr",
     "output_type": "stream",
     "text": [
      "Sleeping for 9.5 seconds, 2019-01-15 20:00:49\n"
     ]
    },
    {
     "name": "stdout",
     "output_type": "stream",
     "text": [
      "Now working on  Q60522069   Q60522069\n",
      "Adding claim:  P407 :  French\n"
     ]
    },
    {
     "name": "stderr",
     "output_type": "stream",
     "text": [
      "Sleeping for 9.2 seconds, 2019-01-15 20:00:59\n"
     ]
    },
    {
     "name": "stdout",
     "output_type": "stream",
     "text": [
      "Removing claim:  P364\n"
     ]
    },
    {
     "name": "stderr",
     "output_type": "stream",
     "text": [
      "Sleeping for 9.4 seconds, 2019-01-15 20:01:09\n"
     ]
    },
    {
     "name": "stdout",
     "output_type": "stream",
     "text": [
      "Now working on  Q60594306   Q60594306\n",
      "Adding claim:  P407 :  Modern Greek\n"
     ]
    },
    {
     "name": "stderr",
     "output_type": "stream",
     "text": [
      "Sleeping for 9.2 seconds, 2019-01-15 20:01:19\n"
     ]
    },
    {
     "name": "stdout",
     "output_type": "stream",
     "text": [
      "Removing claim:  P364\n"
     ]
    },
    {
     "name": "stderr",
     "output_type": "stream",
     "text": [
      "Sleeping for 9.6 seconds, 2019-01-15 20:01:29\n"
     ]
    },
    {
     "name": "stdout",
     "output_type": "stream",
     "text": [
      "Now working on  Q59591142   Backpacker 3: Americana\n",
      "Adding claim:  P407 :  Swedish\n"
     ]
    },
    {
     "name": "stderr",
     "output_type": "stream",
     "text": [
      "Sleeping for 9.2 seconds, 2019-01-15 20:01:39\n"
     ]
    },
    {
     "name": "stdout",
     "output_type": "stream",
     "text": [
      "Removing claim:  P364\n"
     ]
    },
    {
     "name": "stderr",
     "output_type": "stream",
     "text": [
      "Sleeping for 9.5 seconds, 2019-01-15 20:01:49\n"
     ]
    },
    {
     "name": "stdout",
     "output_type": "stream",
     "text": [
      "Now working on  Q60453051   The Free Voice on Democracy, Culture and the Nation\n",
      "Adding claim:  P407 :  English\n"
     ]
    },
    {
     "name": "stderr",
     "output_type": "stream",
     "text": [
      "Sleeping for 9.3 seconds, 2019-01-15 20:01:59\n"
     ]
    },
    {
     "name": "stdout",
     "output_type": "stream",
     "text": [
      "Removing claim:  P364\n"
     ]
    },
    {
     "name": "stderr",
     "output_type": "stream",
     "text": [
      "Sleeping for 9.6 seconds, 2019-01-15 20:02:09\n"
     ]
    },
    {
     "name": "stdout",
     "output_type": "stream",
     "text": [
      "Now working on  Q56024687   Sony Marathi\n",
      "Adding claim:  P407 :  Marathi\n"
     ]
    },
    {
     "name": "stderr",
     "output_type": "stream",
     "text": [
      "Sleeping for 9.3 seconds, 2019-01-15 20:02:19\n"
     ]
    },
    {
     "name": "stdout",
     "output_type": "stream",
     "text": [
      "Removing claim:  P364\n"
     ]
    },
    {
     "name": "stderr",
     "output_type": "stream",
     "text": [
      "Sleeping for 9.5 seconds, 2019-01-15 20:02:29\n"
     ]
    },
    {
     "name": "stdout",
     "output_type": "stream",
     "text": [
      "Now working on  Q59446765   Q59446765\n",
      "Adding claim:  P407 :  French\n"
     ]
    },
    {
     "name": "stderr",
     "output_type": "stream",
     "text": [
      "Sleeping for 9.2 seconds, 2019-01-15 20:02:39\n"
     ]
    },
    {
     "name": "stdout",
     "output_type": "stream",
     "text": [
      "Removing claim:  P364\n"
     ]
    },
    {
     "name": "stderr",
     "output_type": "stream",
     "text": [
      "Sleeping for 9.6 seconds, 2019-01-15 20:02:49\n"
     ]
    },
    {
     "name": "stdout",
     "output_type": "stream",
     "text": [
      "Now working on  Q19756632   Ye Faithful, Come, Triumphant Come\n",
      "Adding claim:  P407 :  Latin\n"
     ]
    },
    {
     "name": "stderr",
     "output_type": "stream",
     "text": [
      "Sleeping for 9.2 seconds, 2019-01-15 20:02:59\n"
     ]
    },
    {
     "name": "stdout",
     "output_type": "stream",
     "text": [
      "Removing claim:  P364\n"
     ]
    },
    {
     "name": "stderr",
     "output_type": "stream",
     "text": [
      "Sleeping for 9.5 seconds, 2019-01-15 20:03:09\n",
      "Retrieving 38 pages from wikidata:wikidata.\n"
     ]
    },
    {
     "name": "stdout",
     "output_type": "stream",
     "text": [
      "Now working on  Q1168552   Freiheit\n",
      "Adding claim:  P407 :  German\n"
     ]
    },
    {
     "name": "stderr",
     "output_type": "stream",
     "text": [
      "Sleeping for 8.7 seconds, 2019-01-15 20:03:20\n"
     ]
    },
    {
     "name": "stdout",
     "output_type": "stream",
     "text": [
      "Removing claim:  P364\n"
     ]
    },
    {
     "name": "stderr",
     "output_type": "stream",
     "text": [
      "Sleeping for 9.4 seconds, 2019-01-15 20:03:29\n"
     ]
    },
    {
     "name": "stdout",
     "output_type": "stream",
     "text": [
      "Now working on  Q174874   Titeuf\n",
      "Adding claim:  P407 :  French\n"
     ]
    },
    {
     "name": "stderr",
     "output_type": "stream",
     "text": [
      "Sleeping for 9.3 seconds, 2019-01-15 20:03:39\n"
     ]
    },
    {
     "name": "stdout",
     "output_type": "stream",
     "text": [
      "Removing claim:  P364\n"
     ]
    },
    {
     "name": "stderr",
     "output_type": "stream",
     "text": [
      "Sleeping for 9.4 seconds, 2019-01-15 20:03:49\n"
     ]
    },
    {
     "name": "stdout",
     "output_type": "stream",
     "text": [
      "Now working on  Q60594310   Q60594310\n",
      "Adding claim:  P407 :  American English\n"
     ]
    },
    {
     "name": "stderr",
     "output_type": "stream",
     "text": [
      "Sleeping for 9.3 seconds, 2019-01-15 20:03:59\n"
     ]
    },
    {
     "name": "stdout",
     "output_type": "stream",
     "text": [
      "Removing claim:  P364\n"
     ]
    },
    {
     "name": "stderr",
     "output_type": "stream",
     "text": [
      "Sleeping for 9.6 seconds, 2019-01-15 20:04:09\n"
     ]
    },
    {
     "name": "stdout",
     "output_type": "stream",
     "text": [
      "Now working on  Q5835240   Erasmus of Rotterdam\n",
      "Adding claim:  P407 :  German\n"
     ]
    },
    {
     "name": "stderr",
     "output_type": "stream",
     "text": [
      "Sleeping for 9.3 seconds, 2019-01-15 20:04:19\n"
     ]
    },
    {
     "name": "stdout",
     "output_type": "stream",
     "text": [
      "Removing claim:  P364\n"
     ]
    },
    {
     "name": "stderr",
     "output_type": "stream",
     "text": [
      "Sleeping for 9.5 seconds, 2019-01-15 20:04:29\n"
     ]
    },
    {
     "name": "stdout",
     "output_type": "stream",
     "text": [
      "Now working on  Q48554918   Q48554918\n",
      "Adding claim:  P407 :  Spanish\n"
     ]
    },
    {
     "name": "stderr",
     "output_type": "stream",
     "text": [
      "Sleeping for 9.3 seconds, 2019-01-15 20:04:39\n"
     ]
    },
    {
     "name": "stdout",
     "output_type": "stream",
     "text": [
      "Removing claim:  P364\n"
     ]
    },
    {
     "name": "stderr",
     "output_type": "stream",
     "text": [
      "Sleeping for 9.5 seconds, 2019-01-15 20:04:49\n"
     ]
    },
    {
     "name": "stdout",
     "output_type": "stream",
     "text": [
      "Now working on  Q60499296   Oh, Come! All Ye Faithful!\n",
      "Adding claim:  P407 :  Latin\n"
     ]
    },
    {
     "name": "stderr",
     "output_type": "stream",
     "text": [
      "Sleeping for 9.3 seconds, 2019-01-15 20:04:59\n"
     ]
    },
    {
     "name": "stdout",
     "output_type": "stream",
     "text": [
      "Removing claim:  P364\n"
     ]
    },
    {
     "name": "stderr",
     "output_type": "stream",
     "text": [
      "Sleeping for 9.4 seconds, 2019-01-15 20:05:09\n"
     ]
    },
    {
     "name": "stdout",
     "output_type": "stream",
     "text": [
      "Now working on  Q60330260   Les Inrockuptibles : 25 ans d'insoumission\n",
      "Adding claim:  P407 :  French\n"
     ]
    },
    {
     "name": "stderr",
     "output_type": "stream",
     "text": [
      "Sleeping for 9.2 seconds, 2019-01-15 20:05:19\n"
     ]
    },
    {
     "name": "stdout",
     "output_type": "stream",
     "text": [
      "Removing claim:  P364\n"
     ]
    },
    {
     "name": "stderr",
     "output_type": "stream",
     "text": [
      "Sleeping for 9.3 seconds, 2019-01-15 20:05:29\n"
     ]
    },
    {
     "name": "stdout",
     "output_type": "stream",
     "text": [
      "Now working on  Q288092   Translations\n",
      "Adding claim:  P407 :  English\n"
     ]
    },
    {
     "name": "stderr",
     "output_type": "stream",
     "text": [
      "Sleeping for 9.2 seconds, 2019-01-15 20:05:39\n"
     ]
    },
    {
     "name": "stdout",
     "output_type": "stream",
     "text": [
      "Removing claim:  P364\n"
     ]
    },
    {
     "name": "stderr",
     "output_type": "stream",
     "text": [
      "Sleeping for 9.4 seconds, 2019-01-15 20:05:49\n"
     ]
    },
    {
     "name": "stdout",
     "output_type": "stream",
     "text": [
      "Now working on  Q7012070   Brich Shmeh\n",
      "Adding claim:  P407 :  Aramaic\n"
     ]
    },
    {
     "name": "stderr",
     "output_type": "stream",
     "text": [
      "Sleeping for 9.2 seconds, 2019-01-15 20:05:59\n"
     ]
    },
    {
     "name": "stdout",
     "output_type": "stream",
     "text": [
      "Removing claim:  P364\n"
     ]
    },
    {
     "name": "stderr",
     "output_type": "stream",
     "text": [
      "Sleeping for 9.4 seconds, 2019-01-15 20:06:09\n"
     ]
    },
    {
     "name": "stdout",
     "output_type": "stream",
     "text": [
      "Now working on  Q27959222   Chander Pahar\n",
      "Adding claim:  P407 :  Bengali\n"
     ]
    },
    {
     "name": "stderr",
     "output_type": "stream",
     "text": [
      "Sleeping for 9.2 seconds, 2019-01-15 20:06:19\n"
     ]
    },
    {
     "name": "stdout",
     "output_type": "stream",
     "text": [
      "Removing claim:  P364\n"
     ]
    },
    {
     "name": "stderr",
     "output_type": "stream",
     "text": [
      "Sleeping for 9.6 seconds, 2019-01-15 20:06:29\n"
     ]
    },
    {
     "name": "stdout",
     "output_type": "stream",
     "text": [
      "Now working on  Q59851466   Empresa Brasileira de Radiodifusão Fund\n",
      "Adding claim:  P407 :  Brazilian Portuguese\n"
     ]
    },
    {
     "name": "stderr",
     "output_type": "stream",
     "text": [
      "Sleeping for 9.3 seconds, 2019-01-15 20:06:39\n"
     ]
    },
    {
     "name": "stdout",
     "output_type": "stream",
     "text": [
      "Removing claim:  P364\n"
     ]
    },
    {
     "name": "stderr",
     "output_type": "stream",
     "text": [
      "Sleeping for 9.5 seconds, 2019-01-15 20:06:49\n"
     ]
    },
    {
     "name": "stdout",
     "output_type": "stream",
     "text": [
      "Now working on  Q59851845   Política Operária Fund\n",
      "Adding claim:  P407 :  Brazilian Portuguese\n"
     ]
    },
    {
     "name": "stderr",
     "output_type": "stream",
     "text": [
      "Sleeping for 9.3 seconds, 2019-01-15 20:06:59\n"
     ]
    },
    {
     "name": "stdout",
     "output_type": "stream",
     "text": [
      "Removing claim:  P364\n"
     ]
    },
    {
     "name": "stderr",
     "output_type": "stream",
     "text": [
      "Sleeping for 9.5 seconds, 2019-01-15 20:07:09\n"
     ]
    },
    {
     "name": "stdout",
     "output_type": "stream",
     "text": [
      "Now working on  Q59851470   Gabinete Civil da Presidência da República Fund\n",
      "Adding claim:  P407 :  Brazilian Portuguese\n"
     ]
    },
    {
     "name": "stderr",
     "output_type": "stream",
     "text": [
      "Sleeping for 9.2 seconds, 2019-01-15 20:07:19\n"
     ]
    },
    {
     "name": "stdout",
     "output_type": "stream",
     "text": [
      "Removing claim:  P364\n"
     ]
    },
    {
     "name": "stderr",
     "output_type": "stream",
     "text": [
      "Sleeping for 9.5 seconds, 2019-01-15 20:07:29\n"
     ]
    },
    {
     "name": "stdout",
     "output_type": "stream",
     "text": [
      "Now working on  Q1140442   Sazae-san\n",
      "Adding claim:  P407 :  Japanese\n"
     ]
    },
    {
     "name": "stderr",
     "output_type": "stream",
     "text": [
      "Sleeping for 9.2 seconds, 2019-01-15 20:07:39\n"
     ]
    },
    {
     "name": "stdout",
     "output_type": "stream",
     "text": [
      "Removing claim:  P364\n"
     ]
    },
    {
     "name": "stderr",
     "output_type": "stream",
     "text": [
      "Sleeping for 9.4 seconds, 2019-01-15 20:07:49\n"
     ]
    },
    {
     "name": "stdout",
     "output_type": "stream",
     "text": [
      "Now working on  Q19756621   O Come, All Ye Faithful\n",
      "Adding claim:  P407 :  Latin\n"
     ]
    },
    {
     "name": "stderr",
     "output_type": "stream",
     "text": [
      "Sleeping for 9.2 seconds, 2019-01-15 20:07:59\n"
     ]
    },
    {
     "name": "stdout",
     "output_type": "stream",
     "text": [
      "Removing claim:  P364\n"
     ]
    },
    {
     "name": "stderr",
     "output_type": "stream",
     "text": [
      "Sleeping for 9.4 seconds, 2019-01-15 20:08:09\n"
     ]
    },
    {
     "name": "stdout",
     "output_type": "stream",
     "text": [
      "Now working on  Q60332639   Free21\n",
      "Adding claim:  P407 :  German\n"
     ]
    },
    {
     "name": "stderr",
     "output_type": "stream",
     "text": [
      "Sleeping for 9.0 seconds, 2019-01-15 20:08:20\n"
     ]
    },
    {
     "name": "stdout",
     "output_type": "stream",
     "text": [
      "Removing claim:  P364\n"
     ]
    },
    {
     "name": "stderr",
     "output_type": "stream",
     "text": [
      "Sleeping for 9.5 seconds, 2019-01-15 20:08:29\n"
     ]
    },
    {
     "name": "stdout",
     "output_type": "stream",
     "text": [
      "Now working on  Q11259246   Ijiwaru baasan\n",
      "Adding claim:  P407 :  Japanese\n"
     ]
    },
    {
     "name": "stderr",
     "output_type": "stream",
     "text": [
      "Sleeping for 9.3 seconds, 2019-01-15 20:08:39\n"
     ]
    },
    {
     "name": "stdout",
     "output_type": "stream",
     "text": [
      "Removing claim:  P364\n"
     ]
    },
    {
     "name": "stderr",
     "output_type": "stream",
     "text": [
      "Sleeping for 9.6 seconds, 2019-01-15 20:08:49\n"
     ]
    },
    {
     "name": "stdout",
     "output_type": "stream",
     "text": [
      "Now working on  Q60453175   The Gunny Sack\n",
      "Adding claim:  P407 :  English\n"
     ]
    },
    {
     "name": "stderr",
     "output_type": "stream",
     "text": [
      "Sleeping for 9.3 seconds, 2019-01-15 20:08:59\n"
     ]
    },
    {
     "name": "stdout",
     "output_type": "stream",
     "text": [
      "Removing claim:  P364\n"
     ]
    },
    {
     "name": "stderr",
     "output_type": "stream",
     "text": [
      "Sleeping for 9.5 seconds, 2019-01-15 20:09:09\n"
     ]
    },
    {
     "name": "stdout",
     "output_type": "stream",
     "text": [
      "Now working on  Q11267313   Is the Order a Rabbit?\n",
      "Adding claim:  P407 :  Japanese\n"
     ]
    },
    {
     "name": "stderr",
     "output_type": "stream",
     "text": [
      "Sleeping for 9.3 seconds, 2019-01-15 20:09:19\n"
     ]
    },
    {
     "name": "stdout",
     "output_type": "stream",
     "text": [
      "Removing claim:  P364\n"
     ]
    },
    {
     "name": "stderr",
     "output_type": "stream",
     "text": [
      "Sleeping for 9.3 seconds, 2019-01-15 20:09:29\n"
     ]
    },
    {
     "name": "stdout",
     "output_type": "stream",
     "text": [
      "Now working on  Q59822025   Q59822025\n",
      "Adding claim:  P407 :  Spanish\n"
     ]
    },
    {
     "name": "stderr",
     "output_type": "stream",
     "text": [
      "Sleeping for 9.1 seconds, 2019-01-15 20:09:39\n"
     ]
    },
    {
     "name": "stdout",
     "output_type": "stream",
     "text": [
      "Removing claim:  P364\n"
     ]
    },
    {
     "name": "stderr",
     "output_type": "stream",
     "text": [
      "Sleeping for 9.5 seconds, 2019-01-15 20:09:49\n"
     ]
    },
    {
     "name": "stdout",
     "output_type": "stream",
     "text": [
      "Now working on  Q1207316   Kanamemo\n",
      "Adding claim:  P407 :  Japanese\n"
     ]
    },
    {
     "name": "stderr",
     "output_type": "stream",
     "text": [
      "Sleeping for 9.3 seconds, 2019-01-15 20:09:59\n"
     ]
    },
    {
     "name": "stdout",
     "output_type": "stream",
     "text": [
      "Removing claim:  P364\n"
     ]
    },
    {
     "name": "stderr",
     "output_type": "stream",
     "text": [
      "Sleeping for 9.3 seconds, 2019-01-15 20:10:09\n"
     ]
    },
    {
     "name": "stdout",
     "output_type": "stream",
     "text": [
      "Now working on  Q207302   Magic: The Gathering\n",
      "Adding claim:  P407 :  English\n"
     ]
    },
    {
     "name": "stderr",
     "output_type": "stream",
     "text": [
      "Sleeping for 9.2 seconds, 2019-01-15 20:10:19\n"
     ]
    },
    {
     "name": "stdout",
     "output_type": "stream",
     "text": [
      "Removing claim:  P364\n"
     ]
    },
    {
     "name": "stderr",
     "output_type": "stream",
     "text": [
      "Sleeping for 9.2 seconds, 2019-01-15 20:10:29\n"
     ]
    },
    {
     "name": "stdout",
     "output_type": "stream",
     "text": [
      "Now working on  Q60432693   Antônio Carlos Muricy Fund\n",
      "Adding claim:  P407 :  Brazilian Portuguese\n"
     ]
    },
    {
     "name": "stderr",
     "output_type": "stream",
     "text": [
      "Sleeping for 8.9 seconds, 2019-01-15 20:10:40\n"
     ]
    },
    {
     "name": "stdout",
     "output_type": "stream",
     "text": [
      "Removing claim:  P364\n"
     ]
    },
    {
     "name": "stderr",
     "output_type": "stream",
     "text": [
      "Sleeping for 9.4 seconds, 2019-01-15 20:10:49\n"
     ]
    },
    {
     "name": "stdout",
     "output_type": "stream",
     "text": [
      "Now working on  Q3028771   Betrayal\n",
      "Adding claim:  P407 :  English\n"
     ]
    },
    {
     "name": "stderr",
     "output_type": "stream",
     "text": [
      "Sleeping for 9.1 seconds, 2019-01-15 20:11:00\n"
     ]
    },
    {
     "name": "stdout",
     "output_type": "stream",
     "text": [
      "Removing claim:  P364\n"
     ]
    },
    {
     "name": "stderr",
     "output_type": "stream",
     "text": [
      "Sleeping for 9.5 seconds, 2019-01-15 20:11:09\n"
     ]
    },
    {
     "name": "stdout",
     "output_type": "stream",
     "text": [
      "Now working on  Q59987199   Q59987199\n",
      "Adding claim:  P407 :  Brazilian Portuguese\n"
     ]
    },
    {
     "name": "stderr",
     "output_type": "stream",
     "text": [
      "Sleeping for 9.3 seconds, 2019-01-15 20:11:19\n"
     ]
    },
    {
     "name": "stdout",
     "output_type": "stream",
     "text": [
      "Removing claim:  P364\n"
     ]
    },
    {
     "name": "stderr",
     "output_type": "stream",
     "text": [
      "Sleeping for 9.5 seconds, 2019-01-15 20:11:29\n"
     ]
    },
    {
     "name": "stdout",
     "output_type": "stream",
     "text": [
      "Now working on  Q19756625   With Hearts Truly Grateful\n",
      "Adding claim:  P407 :  Latin\n"
     ]
    },
    {
     "name": "stderr",
     "output_type": "stream",
     "text": [
      "Sleeping for 9.3 seconds, 2019-01-15 20:11:39\n"
     ]
    },
    {
     "name": "stdout",
     "output_type": "stream",
     "text": [
      "Removing claim:  P364\n"
     ]
    },
    {
     "name": "stderr",
     "output_type": "stream",
     "text": [
      "Sleeping for 9.5 seconds, 2019-01-15 20:11:49\n"
     ]
    },
    {
     "name": "stdout",
     "output_type": "stream",
     "text": [
      "Now working on  Q12263674   Q12263674\n",
      "Adding claim:  P407 :  Basque\n"
     ]
    },
    {
     "name": "stderr",
     "output_type": "stream",
     "text": [
      "Sleeping for 9.2 seconds, 2019-01-15 20:11:59\n"
     ]
    },
    {
     "name": "stdout",
     "output_type": "stream",
     "text": [
      "Removing claim:  P364\n"
     ]
    },
    {
     "name": "stderr",
     "output_type": "stream",
     "text": [
      "Sleeping for 9.5 seconds, 2019-01-15 20:12:09\n"
     ]
    },
    {
     "name": "stdout",
     "output_type": "stream",
     "text": [
      "Now working on  Q59851457   Comissão Nacional de Energia Nuclear Fund\n",
      "Adding claim:  P407 :  Brazilian Portuguese\n"
     ]
    },
    {
     "name": "stderr",
     "output_type": "stream",
     "text": [
      "Sleeping for 9.3 seconds, 2019-01-15 20:12:19\n"
     ]
    },
    {
     "name": "stdout",
     "output_type": "stream",
     "text": [
      "Removing claim:  P364\n"
     ]
    },
    {
     "name": "stderr",
     "output_type": "stream",
     "text": [
      "Sleeping for 9.5 seconds, 2019-01-15 20:12:29\n"
     ]
    },
    {
     "name": "stdout",
     "output_type": "stream",
     "text": [
      "Now working on  Q60028640   SCP-001:O5\n",
      "Adding claim:  P407 :  English\n"
     ]
    },
    {
     "name": "stderr",
     "output_type": "stream",
     "text": [
      "Sleeping for 9.1 seconds, 2019-01-15 20:12:40\n"
     ]
    },
    {
     "name": "stdout",
     "output_type": "stream",
     "text": [
      "Removing claim:  P364\n"
     ]
    },
    {
     "name": "stderr",
     "output_type": "stream",
     "text": [
      "Sleeping for 9.4 seconds, 2019-01-15 20:12:49\n"
     ]
    },
    {
     "name": "stdout",
     "output_type": "stream",
     "text": [
      "Now working on  Q60499549   Crépuscule\n",
      "Adding claim:  P407 :  French\n"
     ]
    },
    {
     "name": "stderr",
     "output_type": "stream",
     "text": [
      "Sleeping for 9.2 seconds, 2019-01-15 20:13:00\n"
     ]
    },
    {
     "name": "stdout",
     "output_type": "stream",
     "text": [
      "Removing claim:  P364\n"
     ]
    },
    {
     "name": "stderr",
     "output_type": "stream",
     "text": [
      "Sleeping for 9.6 seconds, 2019-01-15 20:13:09\n"
     ]
    },
    {
     "name": "stdout",
     "output_type": "stream",
     "text": [
      "Now working on  Q7685131   Tara Sasankam\n",
      "Adding claim:  P407 :  Telugu\n"
     ]
    },
    {
     "name": "stderr",
     "output_type": "stream",
     "text": [
      "Sleeping for 9.3 seconds, 2019-01-15 20:13:19\n"
     ]
    },
    {
     "name": "stdout",
     "output_type": "stream",
     "text": [
      "Removing claim:  P364\n"
     ]
    },
    {
     "name": "stderr",
     "output_type": "stream",
     "text": [
      "Sleeping for 9.5 seconds, 2019-01-15 20:13:29\n"
     ]
    },
    {
     "name": "stdout",
     "output_type": "stream",
     "text": [
      "Now working on  Q15830948   St Clement (hymn tune)\n",
      "Adding claim:  P407 :  English\n"
     ]
    },
    {
     "name": "stderr",
     "output_type": "stream",
     "text": [
      "Sleeping for 9.2 seconds, 2019-01-15 20:13:40\n"
     ]
    },
    {
     "name": "stdout",
     "output_type": "stream",
     "text": [
      "Removing claim:  P364\n"
     ]
    },
    {
     "name": "stderr",
     "output_type": "stream",
     "text": [
      "Sleeping for 9.5 seconds, 2019-01-15 20:13:49\n"
     ]
    },
    {
     "name": "stdout",
     "output_type": "stream",
     "text": [
      "Now working on  Q60024348   Q60024348\n",
      "Adding claim:  P407 :  Spanish\n"
     ]
    },
    {
     "name": "stderr",
     "output_type": "stream",
     "text": [
      "Sleeping for 9.2 seconds, 2019-01-15 20:14:00\n"
     ]
    },
    {
     "name": "stdout",
     "output_type": "stream",
     "text": [
      "Removing claim:  P364\n"
     ]
    },
    {
     "name": "stderr",
     "output_type": "stream",
     "text": [
      "Sleeping for 9.3 seconds, 2019-01-15 20:14:10\n"
     ]
    },
    {
     "name": "stdout",
     "output_type": "stream",
     "text": [
      "Now working on  Q60432649   Juracy Montenegro Magalhães Fund\n",
      "Adding claim:  P407 :  Brazilian Portuguese\n"
     ]
    },
    {
     "name": "stderr",
     "output_type": "stream",
     "text": [
      "Sleeping for 9.2 seconds, 2019-01-15 20:14:20\n"
     ]
    },
    {
     "name": "stdout",
     "output_type": "stream",
     "text": [
      "Removing claim:  P364\n"
     ]
    },
    {
     "name": "stderr",
     "output_type": "stream",
     "text": [
      "Sleeping for 9.5 seconds, 2019-01-15 20:14:29\n"
     ]
    },
    {
     "name": "stdout",
     "output_type": "stream",
     "text": [
      "Now working on  Q59407091   Know Your New Zealand Birds\n",
      "Adding claim:  P407 :  English\n"
     ]
    },
    {
     "name": "stderr",
     "output_type": "stream",
     "text": [
      "Sleeping for 9.2 seconds, 2019-01-15 20:14:40\n"
     ]
    },
    {
     "name": "stdout",
     "output_type": "stream",
     "text": [
      "Removing claim:  P364\n"
     ]
    },
    {
     "name": "stderr",
     "output_type": "stream",
     "text": [
      "Sleeping for 9.5 seconds, 2019-01-15 20:14:49\n"
     ]
    },
    {
     "name": "stdout",
     "output_type": "stream",
     "text": [
      "Now working on  Q22130854   Swap⇔Swap\n",
      "Adding claim:  P407 :  Japanese\n"
     ]
    },
    {
     "name": "stderr",
     "output_type": "stream",
     "text": [
      "Sleeping for 9.2 seconds, 2019-01-15 20:15:00\n"
     ]
    },
    {
     "name": "stdout",
     "output_type": "stream",
     "text": [
      "Removing claim:  P364\n"
     ]
    },
    {
     "name": "stderr",
     "output_type": "stream",
     "text": [
      "Sleeping for 9.5 seconds, 2019-01-15 20:15:09\n"
     ]
    },
    {
     "name": "stdout",
     "output_type": "stream",
     "text": [
      "Now working on  Q59155875   Q59155875\n",
      "Adding claim:  P407 :  German\n"
     ]
    },
    {
     "name": "stderr",
     "output_type": "stream",
     "text": [
      "Sleeping for 9.2 seconds, 2019-01-15 20:15:20\n"
     ]
    },
    {
     "name": "stdout",
     "output_type": "stream",
     "text": [
      "Removing claim:  P364\n"
     ]
    },
    {
     "name": "stderr",
     "output_type": "stream",
     "text": [
      "Sleeping for 9.5 seconds, 2019-01-15 20:15:29\n"
     ]
    },
    {
     "name": "stdout",
     "output_type": "stream",
     "text": [
      "Now working on  Q13134324   Q13134324\n",
      "Adding claim:  P407 :  Polish\n"
     ]
    },
    {
     "name": "stderr",
     "output_type": "stream",
     "text": [
      "Sleeping for 9.3 seconds, 2019-01-15 20:15:40\n"
     ]
    },
    {
     "name": "stdout",
     "output_type": "stream",
     "text": [
      "Removing claim:  P364\n"
     ]
    },
    {
     "name": "stderr",
     "output_type": "stream",
     "text": [
      "Sleeping for 9.5 seconds, 2019-01-15 20:15:49\n"
     ]
    },
    {
     "name": "stdout",
     "output_type": "stream",
     "text": [
      "Script finished successfully.\n"
     ]
    }
   ],
   "source": [
    "# Set up parameters parameters\n",
    "pidm1 = 'P364' # main property to migrate from\n",
    "pidm2 = 'P407' # main property to migrate to\n",
    "keep_class = 'Q2431196' # items in this class can stay in pidm1\n",
    "limit = 300 # max number of items to process at a time\n",
    "logFileName = 'migrator3log.txt'\n",
    "\n",
    "#start of actual script\n",
    "import pywikibot\n",
    "from pywikibot import pagegenerators as pg\n",
    "\n",
    "import datetime\n",
    "\n",
    "site = pywikibot.Site(\"wikidata\", \"wikidata\")\n",
    "wikidata_site = site #compatibility stuff\n",
    "repo = site.data_repository()    \n",
    "\n",
    "def getLabelFromObject(WDObject):\n",
    "    item_dict = WDObject.get()\n",
    "    item_label = False\n",
    "    if 'labels' in item_dict:\n",
    "        if 'en' in item_dict['labels']:\n",
    "            item_label = item_dict['labels']['en']\n",
    "    label = item_label\n",
    "    if (label):\n",
    "        return label\n",
    "    else:\n",
    "        return WDObject.getID()\n",
    "\n",
    "def getLabelFromWDID(ID): #works for properties only. need separate function for items. why why why\n",
    "    site = pywikibot.Site(\"wikidata\", \"wikidata\")\n",
    "    repo = site.data_repository()\n",
    "    item = pywikibot.PropertyPage(repo, ID)\n",
    "    return getLabelFromObject(item)\n",
    "\n",
    "def getLabelFromItemID(ID): #works for items only.\n",
    "    site = pywikibot.Site(\"wikidata\", \"wikidata\")\n",
    "    repo = site.data_repository()\n",
    "    item = pywikibot.ItemPage(repo, ID)\n",
    "    return getLabelFromObject(item)\n",
    "\n",
    "QUERY = \"\"\"SELECT DISTINCT ?item ?itemLabel ?origlang ?origlangLabel\n",
    "WHERE \n",
    "{\n",
    "  ?item wdt:\"\"\" + pidm1 + \"\"\" ?origlang .\n",
    "  FILTER NOT EXISTS {?item wdt:P31/wdt:P279*  wd:\"\"\" + keep_class + \"\"\" }.\n",
    "  SERVICE wikibase:label { bd:serviceParam wikibase:language \"[AUTO_LANGUAGE],en\". }\n",
    "}\n",
    "ORDER BY ASC(?itemLabel)\n",
    "LIMIT \"\"\" + str(limit)\n",
    "\n",
    "edit_summary = pidm1 + ' should only be used for class ' + getLabelFromItemID(keep_class) + '. This statement should use ' + pidm2\n",
    "\n",
    "generator = pg.WikidataSPARQLPageGenerator(QUERY, site=wikidata_site)\n",
    "generator = site.preloadpages(generator, pageprops=True)\n",
    "\n",
    "f = open(logFileName, 'a')\n",
    "print(datetime.datetime.now(), file=f)\n",
    "\n",
    "for item in generator:\n",
    "    # item = pywikibot.ItemPage(repo, qid)\n",
    "\n",
    "    item_dict = item.get()\n",
    "    item_label = getLabelFromObject(item)\n",
    "    qid = item.getID()\n",
    "    \n",
    "    print('Now working on ', qid, ' ', item_label)\n",
    "    print(qid, file=f)\n",
    "    \n",
    "    if pidm1 in item_dict['claims']:\n",
    "        for claim_object in item_dict['claims'][pidm1]:\n",
    "                newclaim = pywikibot.Claim(repo, pidm2)\n",
    "\n",
    "                # This line is only needed if the old claim and the new claim have different datatypes\n",
    "                # newclaim.setTarget(str(claim_object.target.amount)) \n",
    "\n",
    "                # Otherwise could use this line\n",
    "                newclaim.target = claim_object.target \n",
    "\n",
    "                newclaim.qualifiers = claim_object.qualifiers\n",
    "                newclaim.sources = claim_object.sources\n",
    "                newclaim.rank = claim_object.rank\n",
    "                \n",
    "                print('Adding claim: ', pidm2, ': ', getLabelFromObject(claim_object.target))\n",
    "                item.addClaim(newclaim, summary=edit_summary)\n",
    "                \n",
    "                print('Removing claim: ', pidm1)\n",
    "                item.removeClaims(claim_object, summary=edit_summary)    \n",
    "                # print('Outer loop')\n",
    "\n",
    "\n",
    "# Be nice and close the file properly                    \n",
    "print('Script finished successfully.')\n",
    "f.close()"
   ]
  },
  {
   "cell_type": "markdown",
   "metadata": {},
   "source": [
    "# Check console"
   ]
  },
  {
   "cell_type": "code",
   "execution_count": 18,
   "metadata": {},
   "outputs": [
    {
     "name": "stdout",
     "output_type": "stream",
     "text": [
      "SELECT DISTINCT ?item ?itemLabel ?property ?propertyLabel ?value ?asObject ?asObjectLabel\n",
      "WHERE\n",
      "{\n",
      "  wd:P69 wikibase:claim ?p .\n",
      "  ?prop pq:P31 ?asObject .\n",
      "  hint:Query hint:optimizer \"None\" .\t\n",
      "  ?item ?p ?prop . \n",
      "  ?property wikibase:claim ?p .  \n",
      "  ?property wikibase:statementProperty ?ps .\n",
      "  ?prop ?ps ?value .\n",
      "  SERVICE wikibase:label { bd:serviceParam wikibase:language \"en,bg\"  }    \n",
      "}\n",
      "ORDER BY ASC(?value) \n",
      "LIMIT 1000\n"
     ]
    }
   ],
   "source": [
    "print(QUERY)"
   ]
  },
  {
   "cell_type": "code",
   "execution_count": 3,
   "metadata": {},
   "outputs": [
    {
     "name": "stdout",
     "output_type": "stream",
     "text": [
      "2019-01-05 16:10:18.004393\n"
     ]
    }
   ],
   "source": [
    "import datetime\n",
    "print(datetime.datetime.now())"
   ]
  },
  {
   "cell_type": "code",
   "execution_count": 4,
   "metadata": {},
   "outputs": [
    {
     "data": {
      "text/plain": [
       "'Ukrainian'"
      ]
     },
     "execution_count": 4,
     "metadata": {},
     "output_type": "execute_result"
    }
   ],
   "source": [
    "getLabelFromObject(claim_object.target)"
   ]
  }
 ],
 "metadata": {
  "kernelspec": {
   "display_name": "Python 3",
   "language": "python",
   "name": "python3"
  },
  "language_info": {
   "codemirror_mode": {
    "name": "ipython",
    "version": 3
   },
   "file_extension": ".py",
   "mimetype": "text/x-python",
   "name": "python",
   "nbconvert_exporter": "python",
   "pygments_lexer": "ipython3",
   "version": "3.6.9"
  }
 },
 "nbformat": 4,
 "nbformat_minor": 2
}
